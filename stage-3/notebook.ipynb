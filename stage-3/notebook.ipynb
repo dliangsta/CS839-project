{
 "cells": [
  {
   "cell_type": "markdown",
   "metadata": {},
   "source": [
    "# Basic EM workflow 3 (Restaurants data set)"
   ]
  },
  {
   "cell_type": "markdown",
   "metadata": {},
   "source": [
    "# Introduction\n",
    "\n",
    "This IPython notebook explains a basic workflow two tables using *py_entitymatching*. Our goal is to come up with a workflow to match restaurants from Fodors and Zagat sites. Specifically, we want to maximize F1. The datasets contain information about the restaurants.\n",
    "\n",
    "First, we need to import *py_entitymatching* package and other libraries as follows:"
   ]
  },
  {
   "cell_type": "code",
   "execution_count": 1,
   "metadata": {},
   "outputs": [],
   "source": [
    "import sys\n",
    "import py_entitymatching as em\n",
    "import pandas as pd\n",
    "import os"
   ]
  },
  {
   "cell_type": "code",
   "execution_count": 2,
   "metadata": {},
   "outputs": [
    {
     "name": "stdout",
     "output_type": "stream",
     "text": [
      "python version: 3.6.5 (default, Apr  1 2018, 05:46:30) \n",
      "[GCC 7.3.0]\n",
      "pandas version: 0.22.0\n",
      "magellan version: 0.3.0\n"
     ]
    }
   ],
   "source": [
    "# Display the versions\n",
    "print('python version: ' + sys.version )\n",
    "print('pandas version: ' + pd.__version__ )\n",
    "print('magellan version: ' + em.__version__ )"
   ]
  },
  {
   "cell_type": "markdown",
   "metadata": {},
   "source": [
    "# Read input tables\n",
    "\n",
    "We begin by loading the input tables. For the purpose of this guide, we use the datasets that are included with the package."
   ]
  },
  {
   "cell_type": "code",
   "execution_count": 3,
   "metadata": {},
   "outputs": [],
   "source": [
    "# Get the paths\n",
    "path_A = 'data/amazon_products.csv'\n",
    "path_B = 'data/walmart_products.csv'"
   ]
  },
  {
   "cell_type": "code",
   "execution_count": 4,
   "metadata": {},
   "outputs": [],
   "source": [
    "# Load csv files as dataframes and set the key attribute in the dataframe\n",
    "A = em.read_csv_metadata(path_A, key='id')\n",
    "B = em.read_csv_metadata(path_B, key='id')"
   ]
  },
  {
   "cell_type": "code",
   "execution_count": 5,
   "metadata": {},
   "outputs": [
    {
     "name": "stdout",
     "output_type": "stream",
     "text": [
      "Number of tuples in A    : 2976\n",
      "Number of tuples in B    : 4847\n",
      "Number of tuples in A X B: 14424672\n"
     ]
    }
   ],
   "source": [
    "print('Number of tuples in A    : ' + str(len(A)))\n",
    "print('Number of tuples in B    : ' + str(len(B)))\n",
    "print('Number of tuples in A X B: ' + str(len(A)*len(B)))"
   ]
  },
  {
   "cell_type": "code",
   "execution_count": 6,
   "metadata": {},
   "outputs": [
    {
     "data": {
      "text/html": [
       "<div>\n",
       "<style scoped>\n",
       "    .dataframe tbody tr th:only-of-type {\n",
       "        vertical-align: middle;\n",
       "    }\n",
       "\n",
       "    .dataframe tbody tr th {\n",
       "        vertical-align: top;\n",
       "    }\n",
       "\n",
       "    .dataframe thead th {\n",
       "        text-align: right;\n",
       "    }\n",
       "</style>\n",
       "<table border=\"1\" class=\"dataframe\">\n",
       "  <thead>\n",
       "    <tr style=\"text-align: right;\">\n",
       "      <th></th>\n",
       "      <th>id</th>\n",
       "      <th>product_title</th>\n",
       "      <th>brand</th>\n",
       "      <th>model</th>\n",
       "      <th>operating_system</th>\n",
       "      <th>extended_title</th>\n",
       "    </tr>\n",
       "  </thead>\n",
       "  <tbody>\n",
       "    <tr>\n",
       "      <th>0</th>\n",
       "      <td>a0</td>\n",
       "      <td>acer predator helios 300 15.6 full hd intel core i7 7700hq 16gb ddr4 256gb ssd geforce gtx 1060 ...</td>\n",
       "      <td>acer</td>\n",
       "      <td>nh.q28aa.001</td>\n",
       "      <td>windows 10</td>\n",
       "      <td>acer predator helios 300 15.6 full hd intel core i7 7700hq 16gb ddr4 256gb ssd geforce gtx 1060 ...</td>\n",
       "    </tr>\n",
       "    <tr>\n",
       "      <th>1</th>\n",
       "      <td>a1</td>\n",
       "      <td>acer aspire e 15 15.6 full hd 8th gen intel core i5 8250u geforce mx150 8gb 256gb ssd e5 576g 5762</td>\n",
       "      <td>acer</td>\n",
       "      <td>e5 576g 5762</td>\n",
       "      <td>windows 10</td>\n",
       "      <td>acer aspire e 15 15.6 full hd 8th gen intel core i5 8250u geforce mx150 8gb 256gb ssd e5 576g 57...</td>\n",
       "    </tr>\n",
       "    <tr>\n",
       "      <th>2</th>\n",
       "      <td>a2</td>\n",
       "      <td>asus vivobook f510ua fhd intel core i5 8250u 8gb 1tb hdd usb c nanoedge windows 10 star f510ua a...</td>\n",
       "      <td>asus</td>\n",
       "      <td>f510ua ah51</td>\n",
       "      <td>windows 10</td>\n",
       "      <td>asus vivobook f510ua fhd intel core i5 8250u 8gb 1tb hdd usb c nanoedge windows 10 star f510ua a...</td>\n",
       "    </tr>\n",
       "  </tbody>\n",
       "</table>\n",
       "</div>"
      ],
      "text/plain": [
       "   id  \\\n",
       "0  a0   \n",
       "1  a1   \n",
       "2  a2   \n",
       "\n",
       "                                                                                         product_title  \\\n",
       "0  acer predator helios 300 15.6 full hd intel core i7 7700hq 16gb ddr4 256gb ssd geforce gtx 1060 ...   \n",
       "1   acer aspire e 15 15.6 full hd 8th gen intel core i5 8250u geforce mx150 8gb 256gb ssd e5 576g 5762   \n",
       "2  asus vivobook f510ua fhd intel core i5 8250u 8gb 1tb hdd usb c nanoedge windows 10 star f510ua a...   \n",
       "\n",
       "  brand         model operating_system  \\\n",
       "0  acer  nh.q28aa.001       windows 10   \n",
       "1  acer  e5 576g 5762       windows 10   \n",
       "2  asus   f510ua ah51       windows 10   \n",
       "\n",
       "                                                                                        extended_title  \n",
       "0  acer predator helios 300 15.6 full hd intel core i7 7700hq 16gb ddr4 256gb ssd geforce gtx 1060 ...  \n",
       "1  acer aspire e 15 15.6 full hd 8th gen intel core i5 8250u geforce mx150 8gb 256gb ssd e5 576g 57...  \n",
       "2  asus vivobook f510ua fhd intel core i5 8250u 8gb 1tb hdd usb c nanoedge windows 10 star f510ua a...  "
      ]
     },
     "execution_count": 6,
     "metadata": {},
     "output_type": "execute_result"
    }
   ],
   "source": [
    "A.head(3)"
   ]
  },
  {
   "cell_type": "code",
   "execution_count": 7,
   "metadata": {},
   "outputs": [
    {
     "data": {
      "text/html": [
       "<div>\n",
       "<style scoped>\n",
       "    .dataframe tbody tr th:only-of-type {\n",
       "        vertical-align: middle;\n",
       "    }\n",
       "\n",
       "    .dataframe tbody tr th {\n",
       "        vertical-align: top;\n",
       "    }\n",
       "\n",
       "    .dataframe thead th {\n",
       "        text-align: right;\n",
       "    }\n",
       "</style>\n",
       "<table border=\"1\" class=\"dataframe\">\n",
       "  <thead>\n",
       "    <tr style=\"text-align: right;\">\n",
       "      <th></th>\n",
       "      <th>id</th>\n",
       "      <th>product_title</th>\n",
       "      <th>brand</th>\n",
       "      <th>model</th>\n",
       "      <th>operating_system</th>\n",
       "      <th>extended_title</th>\n",
       "    </tr>\n",
       "  </thead>\n",
       "  <tbody>\n",
       "    <tr>\n",
       "      <th>0</th>\n",
       "      <td>w0</td>\n",
       "      <td>iview i896qw 8.95 2 1 32gb tablet intel atom bay trail z3735f windows 10</td>\n",
       "      <td>iview</td>\n",
       "      <td>NaN</td>\n",
       "      <td>microsoft windows</td>\n",
       "      <td>iview i896qw 8.95 2 1 32gb tablet intel atom bay trail z3735f windows 10 iview microsoft</td>\n",
       "    </tr>\n",
       "    <tr>\n",
       "      <th>1</th>\n",
       "      <td>w1</td>\n",
       "      <td>dell inspiron 2 1 11.6 touch intel pentium 4gb 500gb hd red</td>\n",
       "      <td>dell</td>\n",
       "      <td>i3168 3270red</td>\n",
       "      <td>windows 10</td>\n",
       "      <td>dell inspiron 2 1 11.6 touch intel pentium 4gb 500gb hd i3168 3270red windows 10</td>\n",
       "    </tr>\n",
       "    <tr>\n",
       "      <th>2</th>\n",
       "      <td>w2</td>\n",
       "      <td>iview maximus ii 11.6 touchscreen 2 1 windows 10 intel bay trail z3735f 2gb 32gb storage</td>\n",
       "      <td>iview</td>\n",
       "      <td>max2 bk</td>\n",
       "      <td>windows 10</td>\n",
       "      <td>iview maximus ii 11.6 touchscreen 2 1 windows 10 intel bay trail z3735f 2gb 32gb iview max2 bk</td>\n",
       "    </tr>\n",
       "  </tbody>\n",
       "</table>\n",
       "</div>"
      ],
      "text/plain": [
       "   id  \\\n",
       "0  w0   \n",
       "1  w1   \n",
       "2  w2   \n",
       "\n",
       "                                                                              product_title  \\\n",
       "0                  iview i896qw 8.95 2 1 32gb tablet intel atom bay trail z3735f windows 10   \n",
       "1                               dell inspiron 2 1 11.6 touch intel pentium 4gb 500gb hd red   \n",
       "2  iview maximus ii 11.6 touchscreen 2 1 windows 10 intel bay trail z3735f 2gb 32gb storage   \n",
       "\n",
       "   brand          model   operating_system  \\\n",
       "0  iview            NaN  microsoft windows   \n",
       "1   dell  i3168 3270red         windows 10   \n",
       "2  iview        max2 bk         windows 10   \n",
       "\n",
       "                                                                                   extended_title  \n",
       "0        iview i896qw 8.95 2 1 32gb tablet intel atom bay trail z3735f windows 10 iview microsoft  \n",
       "1                dell inspiron 2 1 11.6 touch intel pentium 4gb 500gb hd i3168 3270red windows 10  \n",
       "2  iview maximus ii 11.6 touchscreen 2 1 windows 10 intel bay trail z3735f 2gb 32gb iview max2 bk  "
      ]
     },
     "execution_count": 7,
     "metadata": {},
     "output_type": "execute_result"
    }
   ],
   "source": [
    "B.head(3)"
   ]
  },
  {
   "cell_type": "code",
   "execution_count": 8,
   "metadata": {},
   "outputs": [
    {
     "data": {
      "text/plain": [
       "('id', 'id')"
      ]
     },
     "execution_count": 8,
     "metadata": {},
     "output_type": "execute_result"
    }
   ],
   "source": [
    "# Display the keys of the input tables\n",
    "em.get_key(A), em.get_key(B)"
   ]
  },
  {
   "cell_type": "markdown",
   "metadata": {},
   "source": [
    "# Block tables to get candidate set\n",
    "\n",
    "Before we do the matching, we would like to remove the obviously non-matching tuple pairs from the input tables. This would reduce the number of tuple pairs considered for matching.\n",
    "*py_entitymatching* provides four different blockers: (1) attribute equivalence, (2) overlap, (3) rule-based, and (4) black-box. The user can mix and match these blockers to form a blocking sequence applied to input tables.\n",
    "\n",
    "For the matching problem at hand, we know that two restaurants with different city names will not match. So we decide the apply blocking over names:"
   ]
  },
  {
   "cell_type": "code",
   "execution_count": 9,
   "metadata": {},
   "outputs": [],
   "source": [
    "# Blocking plan\n",
    "\n",
    "# A, B -- attribute equiv. blocker [model] --------------------|---> candidate set"
   ]
  },
  {
   "cell_type": "code",
   "execution_count": 10,
   "metadata": {},
   "outputs": [],
   "source": [
    "# # Create overlap blocker\n",
    "# ob = em.OverlapBlocker()\n",
    "\n",
    "# # Use block_tables to apply blocking over two input tables.\n",
    "# C1 = ob.block_tables(A,B, 'model', 'model', \n",
    "#                     l_output_attrs=['id','model','extended_title'], \n",
    "#                     r_output_attrs=['id','model','extended_title'],\n",
    "#                     overlap_size=8,\n",
    "#                     q_val=5,\n",
    "#                     word_level=False,\n",
    "#                     show_progress=False,\n",
    "#                     n_jobs=-1\n",
    "#                     )\n",
    "# len(C1)"
   ]
  },
  {
   "cell_type": "code",
   "execution_count": 11,
   "metadata": {
    "scrolled": false
   },
   "outputs": [],
   "source": [
    "# C1.head(3)"
   ]
  },
  {
   "cell_type": "markdown",
   "metadata": {},
   "source": [
    "## Debug blocker output"
   ]
  },
  {
   "cell_type": "markdown",
   "metadata": {},
   "source": [
    "The number of tuple pairs considered for matching is reduced to 10165 (from 176423), but we would want to make sure that the blocker did not drop any potential matches. We could debug the blocker output in *py_entitymatching* as follows:"
   ]
  },
  {
   "cell_type": "code",
   "execution_count": 12,
   "metadata": {},
   "outputs": [],
   "source": [
    "# Debug blocker output\n",
    "# dbg = em.debug_blocker(C1, A, B, output_size=10, \n",
    "#                        attr_corres=[\n",
    "#                            ('product_title','product_title'),\n",
    "#                            ('brand', 'brand'), \n",
    "#                            ('model','model'),\n",
    "#                            ('extended_title','extended_title')],\n",
    "#                       verbose=True)\n",
    "#### Display first few tuple pairs from the debug_blocker's output\n",
    "# dbg.head(3)"
   ]
  },
  {
   "cell_type": "markdown",
   "metadata": {},
   "source": [
    "From the debug blocker's output we observe that the current blocker drops quite a few potential matches. We would want to update the blocking sequence to avoid dropping these potential matches.\n",
    "\n",
    "For the considered dataset, we know that for the restaurants to match the  names must overlap between them. We could use overlap blocker for this purpose. Finally, we would want to union the outputs from the attribute equivalence blocker and the overlap blocker to get a consolidated candidate set."
   ]
  },
  {
   "cell_type": "code",
   "execution_count": 13,
   "metadata": {},
   "outputs": [],
   "source": [
    "# # Create overlap blocker\n",
    "# ob = em.OverlapBlocker()\n",
    "\n",
    "# # Block tables using 'extended_title' attribute \n",
    "# C2 = ob.block_tables(A, B, 'extended_title', 'extended_title', \n",
    "#                     l_output_attrs=['id','model','extended_title'], \n",
    "#                     r_output_attrs=['id','model','extended_title'],\n",
    "#                     overlap_size=25,\n",
    "#                     q_val=5,\n",
    "#                     word_level=False,\n",
    "#                     show_progress=False,\n",
    "#                     n_jobs=-1\n",
    "#                     )\n",
    "# len(C2)"
   ]
  },
  {
   "cell_type": "code",
   "execution_count": 14,
   "metadata": {},
   "outputs": [],
   "source": [
    "# Updated blocking sequence\n",
    "# A, B ------ overlap blocker [extended_title] --------> C1--|\n",
    "#                                                   |----> C\n",
    "# A, B ------ overlap blocker [model] --------> C2--|"
   ]
  },
  {
   "cell_type": "code",
   "execution_count": 15,
   "metadata": {},
   "outputs": [],
   "source": [
    "# def match_extended_title(attribute='extended_title',q_val=3, threshold=.5,debug=False):\n",
    "#     def jaccard_matcher(ltuple,rtuple, attribute=attribute, q_val=q_val, threshold=threshold,debug=debug):\n",
    "#         buffer = '#' * (q_val-1)\n",
    "#         l_attribute = buffer + ltuple[attribute] + buffer\n",
    "#         r_attribute = buffer + rtuple[attribute] + buffer\n",
    "#         l_grams = set()\n",
    "#         r_grams = set()\n",
    "#         # create sets of grams\n",
    "#         for attribute, grams in [(l_attribute,l_grams), (r_attribute,r_grams)]:\n",
    "#             for i in range(0,len(attribute)-(q_val-1)):\n",
    "#                 grams.add(attribute[i:i+q_val])\n",
    "                \n",
    "#         # compute jaccard\n",
    "#         intersection = list(set(l_grams) & set(r_grams))\n",
    "#         union = list(set(l_grams) | set(r_grams))\n",
    "#         if debug:\n",
    "#             print(union)\n",
    "#             print(intersection)\n",
    "#             print(len(intersection) / len(union))\n",
    "#         return len(intersection) / len(union) < threshold\n",
    "        \n",
    "#     return jaccard_matcher\n"
   ]
  },
  {
   "cell_type": "code",
   "execution_count": 16,
   "metadata": {},
   "outputs": [],
   "source": [
    "# bb = em.BlackBoxBlocker()\n",
    "# bb.set_black_box_function(match_extended_title())\n",
    "# C3 = bb.block_candset(C2,  \n",
    "#                     show_progress=False,\n",
    "#                     n_jobs=-1\n",
    "#                     )\n",
    "# len(C3)"
   ]
  },
  {
   "cell_type": "code",
   "execution_count": 17,
   "metadata": {},
   "outputs": [],
   "source": [
    "# C3.head(3)"
   ]
  },
  {
   "cell_type": "code",
   "execution_count": 18,
   "metadata": {},
   "outputs": [],
   "source": [
    "# Updated blocking sequence\n",
    "# A, B --- overlap blocker [model] ---> C1--------------------------------|\n",
    "#                                                                   union |---> C\n",
    "# A, B --- overlap blocker [extended_title] ---> C2---> jaccard blocker [extended_title] ---|"
   ]
  },
  {
   "cell_type": "code",
   "execution_count": 19,
   "metadata": {},
   "outputs": [],
   "source": [
    "# # Combine blocker outputs\n",
    "# C = em.combine_blocker_outputs_via_union([C1,C3])\n",
    "# len(C)"
   ]
  },
  {
   "cell_type": "code",
   "execution_count": 20,
   "metadata": {},
   "outputs": [],
   "source": [
    "# C.head(3)"
   ]
  },
  {
   "cell_type": "markdown",
   "metadata": {},
   "source": [
    "We observe that the number of tuple pairs considered for matching is increased to 12530 (from 10165). Now let us debug the blocker output again to check if the current blocker sequence is dropping any potential matches."
   ]
  },
  {
   "cell_type": "code",
   "execution_count": 21,
   "metadata": {},
   "outputs": [],
   "source": [
    "# Debug again\n",
    "# dbg = em.debug_blocker(C, A, B, output_size=100)\n",
    "# dbg.head()"
   ]
  },
  {
   "cell_type": "code",
   "execution_count": 22,
   "metadata": {},
   "outputs": [],
   "source": [
    "# dbg"
   ]
  },
  {
   "cell_type": "markdown",
   "metadata": {},
   "source": [
    "We observe that the current blocker sequence does not drop obvious potential matches, and we can proceed with the matching step now. A subtle point to note here is, debugging blocker output practically provides a stopping criteria for modifying the blocker sequence.\n"
   ]
  },
  {
   "cell_type": "markdown",
   "metadata": {},
   "source": [
    "# Matching tuple pairs in the candidate set"
   ]
  },
  {
   "cell_type": "markdown",
   "metadata": {},
   "source": [
    "In this step, we would want to match the tuple pairs in the candidate set. Specifically, we use learning-based method for matching purposes.\n",
    "This typically involves the following five steps:\n",
    "1. Sampling and labeling the candidate set\n",
    "2. Splitting the labeled data into development and evaluation set\n",
    "3. Selecting the best learning based matcher using the development set\n",
    "4. Evaluating the selected matcher using the evaluation set"
   ]
  },
  {
   "cell_type": "markdown",
   "metadata": {},
   "source": [
    "## Sampling and labeling the candidate set"
   ]
  },
  {
   "cell_type": "markdown",
   "metadata": {},
   "source": [
    "First, we randomly sample 450 tuple pairs for labeling purposes."
   ]
  },
  {
   "cell_type": "code",
   "execution_count": 23,
   "metadata": {},
   "outputs": [],
   "source": [
    "# # Sample  candidate set\n",
    "# S = em.sample_table(C, 450)\n",
    "# # em.to_csv_metadata(S, 'data/labeled.csv')"
   ]
  },
  {
   "cell_type": "markdown",
   "metadata": {},
   "source": [
    "For the purposes of this guide, we will load in a pre-labeled dataset (of 450 tuple pairs) included in this package."
   ]
  },
  {
   "cell_type": "code",
   "execution_count": 24,
   "metadata": {},
   "outputs": [
    {
     "data": {
      "text/plain": [
       "450"
      ]
     },
     "execution_count": 24,
     "metadata": {},
     "output_type": "execute_result"
    }
   ],
   "source": [
    "# # Load the pre-labeled data\n",
    "path_S = 'data/labeled.csv'\n",
    "S = em.read_csv_metadata(path_S, \n",
    "                         key='_id',\n",
    "                         ltable=A, rtable=B, \n",
    "                         fk_ltable='ltable_id', fk_rtable='rtable_id')\n",
    "len(S)"
   ]
  },
  {
   "cell_type": "markdown",
   "metadata": {},
   "source": [
    "## Splitting the labeled data into development and evaluation set"
   ]
  },
  {
   "cell_type": "markdown",
   "metadata": {},
   "source": [
    "In this step, we split the labeled data into two sets: development (I) and evaluation (J). Specifically, the development set is used to come up with the best learning-based matcher and the evaluation set used to evaluate the selected matcher on unseen data."
   ]
  },
  {
   "cell_type": "code",
   "execution_count": 25,
   "metadata": {},
   "outputs": [],
   "source": [
    "# Split S into development set (I) and evaluation set (J)\n",
    "IJ = em.split_train_test(S, train_proportion=0.7, random_state=0)\n",
    "I = IJ['train']\n",
    "J = IJ['test']"
   ]
  },
  {
   "cell_type": "markdown",
   "metadata": {},
   "source": [
    "## Selecting the best learning-based matcher "
   ]
  },
  {
   "cell_type": "markdown",
   "metadata": {},
   "source": [
    "Selecting the best learning-based matcher typically involves the following steps:\n",
    "\n",
    "1. Creating a set of learning-based matchers\n",
    "2. Creating features\n",
    "3. Converting the development set into feature vectors\n",
    "4. Selecting the best learning-based matcher using k-fold cross validation"
   ]
  },
  {
   "cell_type": "markdown",
   "metadata": {},
   "source": [
    "### Creating a set of learning-based matchers"
   ]
  },
  {
   "cell_type": "code",
   "execution_count": 26,
   "metadata": {},
   "outputs": [],
   "source": [
    "# Create a set of ML-matchers\n",
    "dt = em.DTMatcher(name='DecisionTree', random_state=0)\n",
    "svm = em.SVMMatcher(name='SVM', random_state=0)\n",
    "rf = em.RFMatcher(name='RF', random_state=0)\n",
    "lg = em.LogRegMatcher(name='LogReg', random_state=0)\n",
    "ln = em.LinRegMatcher(name='LinReg')\n",
    "nb = em.NBMatcher(name='NaiveBayes')"
   ]
  },
  {
   "cell_type": "markdown",
   "metadata": {},
   "source": [
    "### Creating features"
   ]
  },
  {
   "cell_type": "markdown",
   "metadata": {},
   "source": [
    "Next, we need to create a set of features for the development set. *py_entitymatching* provides a way to automatically generate features based on the attributes in the input tables. For the purposes of this guide, we use the automatically generated features."
   ]
  },
  {
   "cell_type": "code",
   "execution_count": 27,
   "metadata": {},
   "outputs": [
    {
     "data": {
      "text/plain": [
       "(Index(['brand', 'extended_title'], dtype='object'),\n",
       " Index(['brand', 'extended_title'], dtype='object'))"
      ]
     },
     "execution_count": 27,
     "metadata": {},
     "output_type": "execute_result"
    }
   ],
   "source": [
    "# Remove bad features from auto-feature-generation\n",
    "AA = A.drop(['id','product_title','model','operating_system'],axis=1)\n",
    "BB = B.drop(['id','product_title','model','operating_system'],axis=1)\n",
    "\n",
    "AA.keys(), BB.keys()"
   ]
  },
  {
   "cell_type": "code",
   "execution_count": 28,
   "metadata": {},
   "outputs": [],
   "source": [
    "match_t = em.get_tokenizers_for_matching([3,5,10])\n",
    "match_s = em.get_sim_funs_for_matching()\n",
    "atypes1 = em.get_attr_types(AA)\n",
    "atypes2 = em.get_attr_types(BB)\n",
    "match_c = em.get_attr_corres(AA, BB)\n",
    "feature_table = em.get_features(AA, BB, atypes1, atypes2, match_c, match_t, match_s)"
   ]
  },
  {
   "cell_type": "code",
   "execution_count": 29,
   "metadata": {},
   "outputs": [
    {
     "data": {
      "text/plain": [
       "0                          brand_brand_jac_qgm_3_qgm_3\n",
       "1                      brand_brand_cos_dlm_dc0_dlm_dc0\n",
       "2                      brand_brand_jac_dlm_dc0_dlm_dc0\n",
       "3                                      brand_brand_mel\n",
       "4                                 brand_brand_lev_dist\n",
       "5                                  brand_brand_lev_sim\n",
       "6                                      brand_brand_nmw\n",
       "7                                       brand_brand_sw\n",
       "8        extended_title_extended_title_jac_qgm_3_qgm_3\n",
       "9    extended_title_extended_title_cos_dlm_dc0_dlm_dc0\n",
       "Name: feature_name, dtype: object"
      ]
     },
     "execution_count": 29,
     "metadata": {},
     "output_type": "execute_result"
    }
   ],
   "source": [
    "feature_table['feature_name']"
   ]
  },
  {
   "cell_type": "markdown",
   "metadata": {},
   "source": [
    "This function generates a function that returns 1 if both or neither tuples' attribute contain any of the passed in values and 0 otherwise."
   ]
  },
  {
   "cell_type": "code",
   "execution_count": 30,
   "metadata": {},
   "outputs": [],
   "source": [
    "def generateContainsValueFeature(values, name=None, attribute='extended_title'):\n",
    "    if type(values) is str:\n",
    "        values = [values]\n",
    "    def containsValueFeature(a,b):\n",
    "        return int(any([value.lower() in a[attribute].lower() for value in values]) \n",
    "                   == any([value.lower() in b[attribute].lower() for value in values]))\n",
    "    return containsValueFeature, name if name else values[0]"
   ]
  },
  {
   "cell_type": "markdown",
   "metadata": {},
   "source": [
    "Use this to generate many new features."
   ]
  },
  {
   "cell_type": "code",
   "execution_count": 31,
   "metadata": {},
   "outputs": [],
   "source": [
    "brands = ['lg','toshiba','hp','dell','lenovo','prostar','acer','samsung','apple','asus','panasonic','msi']\n",
    "models = ['zephyrus','zenbook','flex','omen','xps','x1','carbon','yoga',\n",
    "          'latitude','inspiron','elitebook','clevo','spectre',\n",
    "          'macbook','pavilion','ideapad','legion']\n",
    "thinkpads = [['p40','p50','p51','p71'],['430','460','470','560','570']]\n",
    "asus = ['swift','aspire','spin']\n",
    "models = models + thinkpads + asus\n",
    "sizes = [' 13',' 14',' 15',' 17']\n",
    "operating_systems = ['chrome','windows','mac']\n",
    "cpus = [['i3','i5','i7'],['celeron','pentium'],['m3','m5'],'amd']\n",
    "miscellaneous = ['2-in-1','gtx','touch']\n",
    "keywords = models \\\n",
    "    + sizes  \\\n",
    "    + operating_systems \\\n",
    "    + cpus \\\n",
    "    + miscellaneous\n",
    "new_features = [generateContainsValueFeature(value) for value in keywords]\n",
    "\n",
    "for feature in new_features:\n",
    "    em.add_blackbox_feature(feature_table, feature[1], feature[0])"
   ]
  },
  {
   "cell_type": "markdown",
   "metadata": {},
   "source": [
    "This function generates a function that returns 1 if both tuples contain the same value for any of the values passed in and 0 otherwise."
   ]
  },
  {
   "cell_type": "code",
   "execution_count": 32,
   "metadata": {},
   "outputs": [],
   "source": [
    "def generateContainsValueFromValuesetFeature(valueset, name=None, attribute='extended_title'):\n",
    "    def sharesValue(a,b,values):\n",
    "        if type(values) is str:\n",
    "            values = [values]\n",
    "        return int(any([value.lower() in a[attribute].lower() and value.lower() in b[attribute].lower() for value in values]))\n",
    "    def containsValueFromValueset(a,b):\n",
    "        return any([sharesValue(a,b,values) for values in valueset[1]])\n",
    "    return containsValueFromValueset, valueset[0]"
   ]
  },
  {
   "cell_type": "code",
   "execution_count": 33,
   "metadata": {},
   "outputs": [],
   "source": [
    "valuesets = [('brands',brands), \n",
    "             ('models', models), \n",
    "             ('sizes', sizes), \n",
    "             ('cpus', cpus), \n",
    "             ('operating_systems',operating_systems)]\n",
    "\n",
    "new_features = [generateContainsValueFromValuesetFeature(valueset) for valueset in valuesets]\n",
    "\n",
    "for feature in new_features:\n",
    "    em.add_blackbox_feature(feature_table, feature[1], feature[0])"
   ]
  },
  {
   "cell_type": "code",
   "execution_count": 34,
   "metadata": {},
   "outputs": [
    {
     "data": {
      "text/plain": [
       "0                           brand_brand_jac_qgm_3_qgm_3\n",
       "1                       brand_brand_cos_dlm_dc0_dlm_dc0\n",
       "2                       brand_brand_jac_dlm_dc0_dlm_dc0\n",
       "3                                       brand_brand_mel\n",
       "4                                  brand_brand_lev_dist\n",
       "5                                   brand_brand_lev_sim\n",
       "6                                       brand_brand_nmw\n",
       "7                                        brand_brand_sw\n",
       "8         extended_title_extended_title_jac_qgm_3_qgm_3\n",
       "9     extended_title_extended_title_cos_dlm_dc0_dlm_dc0\n",
       "10                                             zephyrus\n",
       "11                                              zenbook\n",
       "12                                                 flex\n",
       "13                                                 omen\n",
       "14                                                  xps\n",
       "15                                                   x1\n",
       "16                                               carbon\n",
       "17                                                 yoga\n",
       "18                                             latitude\n",
       "19                                             inspiron\n",
       "20                                            elitebook\n",
       "21                                                clevo\n",
       "22                                              spectre\n",
       "23                                              macbook\n",
       "24                                             pavilion\n",
       "25                                              ideapad\n",
       "26                                               legion\n",
       "27                                                  p40\n",
       "28                                                  430\n",
       "29                                                swift\n",
       "30                                               aspire\n",
       "31                                                 spin\n",
       "32                                                   13\n",
       "33                                                   14\n",
       "34                                                   15\n",
       "35                                                   17\n",
       "36                                               chrome\n",
       "37                                              windows\n",
       "38                                                  mac\n",
       "39                                                   i3\n",
       "40                                              celeron\n",
       "41                                                   m3\n",
       "42                                                  amd\n",
       "43                                               2-in-1\n",
       "44                                                  gtx\n",
       "45                                                touch\n",
       "46                                               brands\n",
       "47                                               models\n",
       "48                                                sizes\n",
       "49                                                 cpus\n",
       "50                                    operating_systems\n",
       "Name: feature_name, dtype: object"
      ]
     },
     "execution_count": 34,
     "metadata": {},
     "output_type": "execute_result"
    }
   ],
   "source": [
    "# List the names of the features generated\n",
    "feature_table['feature_name']"
   ]
  },
  {
   "cell_type": "markdown",
   "metadata": {},
   "source": [
    "### Converting the development set to feature vectors"
   ]
  },
  {
   "cell_type": "code",
   "execution_count": 35,
   "metadata": {},
   "outputs": [
    {
     "data": {
      "text/html": [
       "<div>\n",
       "<style scoped>\n",
       "    .dataframe tbody tr th:only-of-type {\n",
       "        vertical-align: middle;\n",
       "    }\n",
       "\n",
       "    .dataframe tbody tr th {\n",
       "        vertical-align: top;\n",
       "    }\n",
       "\n",
       "    .dataframe thead th {\n",
       "        text-align: right;\n",
       "    }\n",
       "</style>\n",
       "<table border=\"1\" class=\"dataframe\">\n",
       "  <thead>\n",
       "    <tr style=\"text-align: right;\">\n",
       "      <th></th>\n",
       "      <th>_id</th>\n",
       "      <th>ltable_id</th>\n",
       "      <th>rtable_id</th>\n",
       "      <th>brand_brand_jac_qgm_3_qgm_3</th>\n",
       "      <th>brand_brand_cos_dlm_dc0_dlm_dc0</th>\n",
       "      <th>brand_brand_jac_dlm_dc0_dlm_dc0</th>\n",
       "      <th>brand_brand_mel</th>\n",
       "      <th>brand_brand_lev_dist</th>\n",
       "      <th>brand_brand_lev_sim</th>\n",
       "      <th>brand_brand_nmw</th>\n",
       "      <th>...</th>\n",
       "      <th>amd</th>\n",
       "      <th>2-in-1</th>\n",
       "      <th>gtx</th>\n",
       "      <th>touch</th>\n",
       "      <th>brands</th>\n",
       "      <th>models</th>\n",
       "      <th>sizes</th>\n",
       "      <th>cpus</th>\n",
       "      <th>operating_systems</th>\n",
       "      <th>match</th>\n",
       "    </tr>\n",
       "  </thead>\n",
       "  <tbody>\n",
       "    <tr>\n",
       "      <th>221</th>\n",
       "      <td>3372</td>\n",
       "      <td>a1997</td>\n",
       "      <td>w2968</td>\n",
       "      <td>1.00</td>\n",
       "      <td>1.0</td>\n",
       "      <td>1.0</td>\n",
       "      <td>1.00000</td>\n",
       "      <td>0.0</td>\n",
       "      <td>1.0000</td>\n",
       "      <td>6.0</td>\n",
       "      <td>...</td>\n",
       "      <td>1</td>\n",
       "      <td>1</td>\n",
       "      <td>1</td>\n",
       "      <td>0</td>\n",
       "      <td>True</td>\n",
       "      <td>True</td>\n",
       "      <td>True</td>\n",
       "      <td>True</td>\n",
       "      <td>True</td>\n",
       "      <td>1</td>\n",
       "    </tr>\n",
       "    <tr>\n",
       "      <th>439</th>\n",
       "      <td>6763</td>\n",
       "      <td>a891</td>\n",
       "      <td>w2599</td>\n",
       "      <td>0.04</td>\n",
       "      <td>0.0</td>\n",
       "      <td>0.0</td>\n",
       "      <td>0.60625</td>\n",
       "      <td>13.0</td>\n",
       "      <td>0.1875</td>\n",
       "      <td>-7.0</td>\n",
       "      <td>...</td>\n",
       "      <td>1</td>\n",
       "      <td>1</td>\n",
       "      <td>1</td>\n",
       "      <td>1</td>\n",
       "      <td>True</td>\n",
       "      <td>False</td>\n",
       "      <td>False</td>\n",
       "      <td>True</td>\n",
       "      <td>True</td>\n",
       "      <td>0</td>\n",
       "    </tr>\n",
       "    <tr>\n",
       "      <th>191</th>\n",
       "      <td>2875</td>\n",
       "      <td>a1919</td>\n",
       "      <td>w3250</td>\n",
       "      <td>1.00</td>\n",
       "      <td>1.0</td>\n",
       "      <td>1.0</td>\n",
       "      <td>1.00000</td>\n",
       "      <td>0.0</td>\n",
       "      <td>1.0000</td>\n",
       "      <td>6.0</td>\n",
       "      <td>...</td>\n",
       "      <td>1</td>\n",
       "      <td>1</td>\n",
       "      <td>1</td>\n",
       "      <td>1</td>\n",
       "      <td>True</td>\n",
       "      <td>True</td>\n",
       "      <td>True</td>\n",
       "      <td>True</td>\n",
       "      <td>True</td>\n",
       "      <td>1</td>\n",
       "    </tr>\n",
       "    <tr>\n",
       "      <th>239</th>\n",
       "      <td>3626</td>\n",
       "      <td>a1997</td>\n",
       "      <td>w3468</td>\n",
       "      <td>1.00</td>\n",
       "      <td>1.0</td>\n",
       "      <td>1.0</td>\n",
       "      <td>1.00000</td>\n",
       "      <td>0.0</td>\n",
       "      <td>1.0000</td>\n",
       "      <td>6.0</td>\n",
       "      <td>...</td>\n",
       "      <td>1</td>\n",
       "      <td>1</td>\n",
       "      <td>1</td>\n",
       "      <td>1</td>\n",
       "      <td>True</td>\n",
       "      <td>True</td>\n",
       "      <td>True</td>\n",
       "      <td>True</td>\n",
       "      <td>True</td>\n",
       "      <td>1</td>\n",
       "    </tr>\n",
       "    <tr>\n",
       "      <th>433</th>\n",
       "      <td>6651</td>\n",
       "      <td>a878</td>\n",
       "      <td>w2294</td>\n",
       "      <td>1.00</td>\n",
       "      <td>1.0</td>\n",
       "      <td>1.0</td>\n",
       "      <td>1.00000</td>\n",
       "      <td>0.0</td>\n",
       "      <td>1.0000</td>\n",
       "      <td>6.0</td>\n",
       "      <td>...</td>\n",
       "      <td>1</td>\n",
       "      <td>1</td>\n",
       "      <td>1</td>\n",
       "      <td>1</td>\n",
       "      <td>True</td>\n",
       "      <td>True</td>\n",
       "      <td>True</td>\n",
       "      <td>True</td>\n",
       "      <td>True</td>\n",
       "      <td>1</td>\n",
       "    </tr>\n",
       "  </tbody>\n",
       "</table>\n",
       "<p>5 rows × 55 columns</p>\n",
       "</div>"
      ],
      "text/plain": [
       "      _id ltable_id rtable_id  brand_brand_jac_qgm_3_qgm_3  \\\n",
       "221  3372     a1997     w2968                         1.00   \n",
       "439  6763      a891     w2599                         0.04   \n",
       "191  2875     a1919     w3250                         1.00   \n",
       "239  3626     a1997     w3468                         1.00   \n",
       "433  6651      a878     w2294                         1.00   \n",
       "\n",
       "     brand_brand_cos_dlm_dc0_dlm_dc0  brand_brand_jac_dlm_dc0_dlm_dc0  \\\n",
       "221                              1.0                              1.0   \n",
       "439                              0.0                              0.0   \n",
       "191                              1.0                              1.0   \n",
       "239                              1.0                              1.0   \n",
       "433                              1.0                              1.0   \n",
       "\n",
       "     brand_brand_mel  brand_brand_lev_dist  brand_brand_lev_sim  \\\n",
       "221          1.00000                   0.0               1.0000   \n",
       "439          0.60625                  13.0               0.1875   \n",
       "191          1.00000                   0.0               1.0000   \n",
       "239          1.00000                   0.0               1.0000   \n",
       "433          1.00000                   0.0               1.0000   \n",
       "\n",
       "     brand_brand_nmw  ...    amd  2-in-1  gtx  touch  brands  models  sizes  \\\n",
       "221              6.0  ...      1       1    1      0    True    True   True   \n",
       "439             -7.0  ...      1       1    1      1    True   False  False   \n",
       "191              6.0  ...      1       1    1      1    True    True   True   \n",
       "239              6.0  ...      1       1    1      1    True    True   True   \n",
       "433              6.0  ...      1       1    1      1    True    True   True   \n",
       "\n",
       "     cpus  operating_systems  match  \n",
       "221  True               True      1  \n",
       "439  True               True      0  \n",
       "191  True               True      1  \n",
       "239  True               True      1  \n",
       "433  True               True      1  \n",
       "\n",
       "[5 rows x 55 columns]"
      ]
     },
     "execution_count": 35,
     "metadata": {},
     "output_type": "execute_result"
    }
   ],
   "source": [
    "# Convert the I into a set of feature vectors using F\n",
    "H = em.extract_feature_vecs(I, \n",
    "                            feature_table=feature_table, \n",
    "                            attrs_after='match',\n",
    "                            show_progress=False)\n",
    "H.fillna(0, inplace=True)\n",
    "H.head()"
   ]
  },
  {
   "cell_type": "markdown",
   "metadata": {},
   "source": [
    "### Selecting the best matcher using cross-validation"
   ]
  },
  {
   "cell_type": "markdown",
   "metadata": {},
   "source": [
    "Now, we select the best matcher using k-fold cross-validation. For the purposes of this guide, we use five fold cross validation and use the 'precision' metric to select the best matcher."
   ]
  },
  {
   "cell_type": "code",
   "execution_count": 36,
   "metadata": {
    "scrolled": false
   },
   "outputs": [
    {
     "data": {
      "text/html": [
       "<div>\n",
       "<style scoped>\n",
       "    .dataframe tbody tr th:only-of-type {\n",
       "        vertical-align: middle;\n",
       "    }\n",
       "\n",
       "    .dataframe tbody tr th {\n",
       "        vertical-align: top;\n",
       "    }\n",
       "\n",
       "    .dataframe thead th {\n",
       "        text-align: right;\n",
       "    }\n",
       "</style>\n",
       "<table border=\"1\" class=\"dataframe\">\n",
       "  <thead>\n",
       "    <tr style=\"text-align: right;\">\n",
       "      <th></th>\n",
       "      <th>Matcher</th>\n",
       "      <th>Average precision</th>\n",
       "      <th>Average recall</th>\n",
       "      <th>Average f1</th>\n",
       "    </tr>\n",
       "  </thead>\n",
       "  <tbody>\n",
       "    <tr>\n",
       "      <th>0</th>\n",
       "      <td>DecisionTree</td>\n",
       "      <td>0.954048</td>\n",
       "      <td>0.937980</td>\n",
       "      <td>0.945281</td>\n",
       "    </tr>\n",
       "    <tr>\n",
       "      <th>1</th>\n",
       "      <td>RF</td>\n",
       "      <td>0.963564</td>\n",
       "      <td>0.972000</td>\n",
       "      <td>0.967336</td>\n",
       "    </tr>\n",
       "    <tr>\n",
       "      <th>2</th>\n",
       "      <td>SVM</td>\n",
       "      <td>0.893285</td>\n",
       "      <td>0.992000</td>\n",
       "      <td>0.939676</td>\n",
       "    </tr>\n",
       "    <tr>\n",
       "      <th>3</th>\n",
       "      <td>LinReg</td>\n",
       "      <td>0.962487</td>\n",
       "      <td>0.952694</td>\n",
       "      <td>0.957178</td>\n",
       "    </tr>\n",
       "    <tr>\n",
       "      <th>4</th>\n",
       "      <td>LogReg</td>\n",
       "      <td>0.913782</td>\n",
       "      <td>0.960000</td>\n",
       "      <td>0.935088</td>\n",
       "    </tr>\n",
       "    <tr>\n",
       "      <th>5</th>\n",
       "      <td>NaiveBayes</td>\n",
       "      <td>0.946487</td>\n",
       "      <td>0.942230</td>\n",
       "      <td>0.943907</td>\n",
       "    </tr>\n",
       "  </tbody>\n",
       "</table>\n",
       "</div>"
      ],
      "text/plain": [
       "        Matcher  Average precision  Average recall  Average f1\n",
       "0  DecisionTree           0.954048        0.937980    0.945281\n",
       "1            RF           0.963564        0.972000    0.967336\n",
       "2           SVM           0.893285        0.992000    0.939676\n",
       "3        LinReg           0.962487        0.952694    0.957178\n",
       "4        LogReg           0.913782        0.960000    0.935088\n",
       "5    NaiveBayes           0.946487        0.942230    0.943907"
      ]
     },
     "execution_count": 36,
     "metadata": {},
     "output_type": "execute_result"
    }
   ],
   "source": [
    "# Select the best ML matcher using CV\n",
    "result = em.select_matcher(\n",
    "        matchers=[dt, rf, svm, ln, lg, nb], \n",
    "        table=H, \n",
    "        exclude_attrs=['_id', 'ltable_id', 'rtable_id', 'match'],\n",
    "        k=5,\n",
    "        target_attr='match', \n",
    "        metric_to_select_matcher='precision', \n",
    "        random_state=0)\n",
    "result['cv_stats']\n",
    "# result"
   ]
  },
  {
   "cell_type": "markdown",
   "metadata": {},
   "source": [
    "### Debugging matcher"
   ]
  },
  {
   "cell_type": "markdown",
   "metadata": {},
   "source": [
    "We observe that the best matcher is not maximizing F1. We debug the matcher to see what might be wrong.\n",
    "To do this, first we split the feature vectors into train and test."
   ]
  },
  {
   "cell_type": "code",
   "execution_count": 37,
   "metadata": {},
   "outputs": [],
   "source": [
    "#  Split feature vectors into train and test\n",
    "UV = em.split_train_test(H, train_proportion=0.5)\n",
    "U = UV['train']\n",
    "V = UV['test']"
   ]
  },
  {
   "cell_type": "markdown",
   "metadata": {},
   "source": [
    "Next, we debug the matcher using GUI. For the purposes of this guide, we use random forest matcher for debugging purposes."
   ]
  },
  {
   "cell_type": "code",
   "execution_count": 38,
   "metadata": {},
   "outputs": [],
   "source": [
    "# Debug rf using GUI\n",
    "# em.vis_debug_dt(result['selected_matcher'], U, V, \n",
    "#         exclude_attrs=['_id', 'ltable_id', 'rtable_id', 'match'],\n",
    "#         target_attr='match')"
   ]
  },
  {
   "cell_type": "markdown",
   "metadata": {},
   "source": [
    "##  Evaluating the matching output"
   ]
  },
  {
   "cell_type": "markdown",
   "metadata": {},
   "source": [
    "From the GUI, we observe that phone numbers seem to be an important attribute, but they are in different format. Current features does not capture and adding a feature incorporating this difference in format can potentially improve \n",
    "the F1 numbers."
   ]
  },
  {
   "cell_type": "markdown",
   "metadata": {},
   "source": [
    "Now, we repeat extracting feature vectors (this time with updated feature table), imputing table and selecting the best matcher again using cross-validation."
   ]
  },
  {
   "cell_type": "raw",
   "metadata": {},
   "source": [
    "H = em.extract_feature_vecs(I, feature_table=feature_table, attrs_after='match', show_progress=False)\n",
    "H.fillna(0, inplace=True)"
   ]
  },
  {
   "cell_type": "code",
   "execution_count": 39,
   "metadata": {},
   "outputs": [
    {
     "data": {
      "text/html": [
       "<div>\n",
       "<style scoped>\n",
       "    .dataframe tbody tr th:only-of-type {\n",
       "        vertical-align: middle;\n",
       "    }\n",
       "\n",
       "    .dataframe tbody tr th {\n",
       "        vertical-align: top;\n",
       "    }\n",
       "\n",
       "    .dataframe thead th {\n",
       "        text-align: right;\n",
       "    }\n",
       "</style>\n",
       "<table border=\"1\" class=\"dataframe\">\n",
       "  <thead>\n",
       "    <tr style=\"text-align: right;\">\n",
       "      <th></th>\n",
       "      <th>Matcher</th>\n",
       "      <th>Average precision</th>\n",
       "      <th>Average recall</th>\n",
       "      <th>Average f1</th>\n",
       "    </tr>\n",
       "  </thead>\n",
       "  <tbody>\n",
       "    <tr>\n",
       "      <th>0</th>\n",
       "      <td>DecisionTree</td>\n",
       "      <td>0.954048</td>\n",
       "      <td>0.937980</td>\n",
       "      <td>0.945281</td>\n",
       "    </tr>\n",
       "    <tr>\n",
       "      <th>1</th>\n",
       "      <td>RF</td>\n",
       "      <td>0.963564</td>\n",
       "      <td>0.972000</td>\n",
       "      <td>0.967336</td>\n",
       "    </tr>\n",
       "    <tr>\n",
       "      <th>2</th>\n",
       "      <td>SVM</td>\n",
       "      <td>0.893285</td>\n",
       "      <td>0.992000</td>\n",
       "      <td>0.939676</td>\n",
       "    </tr>\n",
       "    <tr>\n",
       "      <th>3</th>\n",
       "      <td>LinReg</td>\n",
       "      <td>0.962487</td>\n",
       "      <td>0.952694</td>\n",
       "      <td>0.957178</td>\n",
       "    </tr>\n",
       "    <tr>\n",
       "      <th>4</th>\n",
       "      <td>LogReg</td>\n",
       "      <td>0.913782</td>\n",
       "      <td>0.960000</td>\n",
       "      <td>0.935088</td>\n",
       "    </tr>\n",
       "    <tr>\n",
       "      <th>5</th>\n",
       "      <td>NaiveBayes</td>\n",
       "      <td>0.946487</td>\n",
       "      <td>0.942230</td>\n",
       "      <td>0.943907</td>\n",
       "    </tr>\n",
       "  </tbody>\n",
       "</table>\n",
       "</div>"
      ],
      "text/plain": [
       "        Matcher  Average precision  Average recall  Average f1\n",
       "0  DecisionTree           0.954048        0.937980    0.945281\n",
       "1            RF           0.963564        0.972000    0.967336\n",
       "2           SVM           0.893285        0.992000    0.939676\n",
       "3        LinReg           0.962487        0.952694    0.957178\n",
       "4        LogReg           0.913782        0.960000    0.935088\n",
       "5    NaiveBayes           0.946487        0.942230    0.943907"
      ]
     },
     "execution_count": 39,
     "metadata": {},
     "output_type": "execute_result"
    }
   ],
   "source": [
    "# Select the best ML matcher using CV\n",
    "result = em.select_matcher(\n",
    "        [dt, rf, svm, ln, lg, nb], \n",
    "        table=H, \n",
    "        exclude_attrs=['_id', 'ltable_id', 'rtable_id', 'match'],\n",
    "        k=5,\n",
    "        target_attr='match', \n",
    "        metric_to_select_matcher='precision', \n",
    "        random_state=0)\n",
    "result['cv_stats']"
   ]
  },
  {
   "cell_type": "markdown",
   "metadata": {},
   "source": [
    "Evaluating the matching outputs for the evaluation set typically involves the following four steps:\n",
    "1. Converting the evaluation set to feature vectors\n",
    "2. Training matcher using the feature vectors extracted from the development set\n",
    "3. Predicting the evaluation set using the trained matcher\n",
    "4. Evaluating the predicted matches"
   ]
  },
  {
   "cell_type": "markdown",
   "metadata": {},
   "source": [
    "### Converting the evaluation set to  feature vectors"
   ]
  },
  {
   "cell_type": "markdown",
   "metadata": {},
   "source": [
    "As before, we convert to the feature vectors (using the feature table and the evaluation set)"
   ]
  },
  {
   "cell_type": "code",
   "execution_count": 40,
   "metadata": {},
   "outputs": [
    {
     "data": {
      "text/html": [
       "<div>\n",
       "<style scoped>\n",
       "    .dataframe tbody tr th:only-of-type {\n",
       "        vertical-align: middle;\n",
       "    }\n",
       "\n",
       "    .dataframe tbody tr th {\n",
       "        vertical-align: top;\n",
       "    }\n",
       "\n",
       "    .dataframe thead th {\n",
       "        text-align: right;\n",
       "    }\n",
       "</style>\n",
       "<table border=\"1\" class=\"dataframe\">\n",
       "  <thead>\n",
       "    <tr style=\"text-align: right;\">\n",
       "      <th></th>\n",
       "      <th>_id</th>\n",
       "      <th>ltable_id</th>\n",
       "      <th>rtable_id</th>\n",
       "      <th>brand_brand_jac_qgm_3_qgm_3</th>\n",
       "      <th>brand_brand_cos_dlm_dc0_dlm_dc0</th>\n",
       "      <th>brand_brand_jac_dlm_dc0_dlm_dc0</th>\n",
       "      <th>brand_brand_mel</th>\n",
       "      <th>brand_brand_lev_dist</th>\n",
       "      <th>brand_brand_lev_sim</th>\n",
       "      <th>brand_brand_nmw</th>\n",
       "      <th>...</th>\n",
       "      <th>amd</th>\n",
       "      <th>2-in-1</th>\n",
       "      <th>gtx</th>\n",
       "      <th>touch</th>\n",
       "      <th>brands</th>\n",
       "      <th>models</th>\n",
       "      <th>sizes</th>\n",
       "      <th>cpus</th>\n",
       "      <th>operating_systems</th>\n",
       "      <th>match</th>\n",
       "    </tr>\n",
       "  </thead>\n",
       "  <tbody>\n",
       "    <tr>\n",
       "      <th>124</th>\n",
       "      <td>1764</td>\n",
       "      <td>a1561</td>\n",
       "      <td>w15</td>\n",
       "      <td>0.0</td>\n",
       "      <td>0.0</td>\n",
       "      <td>0.0</td>\n",
       "      <td>0.0</td>\n",
       "      <td>0.0</td>\n",
       "      <td>0.0</td>\n",
       "      <td>0.0</td>\n",
       "      <td>...</td>\n",
       "      <td>1</td>\n",
       "      <td>1</td>\n",
       "      <td>1</td>\n",
       "      <td>1</td>\n",
       "      <td>True</td>\n",
       "      <td>True</td>\n",
       "      <td>False</td>\n",
       "      <td>True</td>\n",
       "      <td>True</td>\n",
       "      <td>0</td>\n",
       "    </tr>\n",
       "    <tr>\n",
       "      <th>54</th>\n",
       "      <td>705</td>\n",
       "      <td>a1269</td>\n",
       "      <td>w3092</td>\n",
       "      <td>1.0</td>\n",
       "      <td>1.0</td>\n",
       "      <td>1.0</td>\n",
       "      <td>1.0</td>\n",
       "      <td>0.0</td>\n",
       "      <td>1.0</td>\n",
       "      <td>6.0</td>\n",
       "      <td>...</td>\n",
       "      <td>1</td>\n",
       "      <td>1</td>\n",
       "      <td>1</td>\n",
       "      <td>0</td>\n",
       "      <td>True</td>\n",
       "      <td>True</td>\n",
       "      <td>True</td>\n",
       "      <td>True</td>\n",
       "      <td>True</td>\n",
       "      <td>1</td>\n",
       "    </tr>\n",
       "    <tr>\n",
       "      <th>268</th>\n",
       "      <td>4200</td>\n",
       "      <td>a2294</td>\n",
       "      <td>w1544</td>\n",
       "      <td>1.0</td>\n",
       "      <td>1.0</td>\n",
       "      <td>1.0</td>\n",
       "      <td>1.0</td>\n",
       "      <td>0.0</td>\n",
       "      <td>1.0</td>\n",
       "      <td>7.0</td>\n",
       "      <td>...</td>\n",
       "      <td>1</td>\n",
       "      <td>1</td>\n",
       "      <td>1</td>\n",
       "      <td>1</td>\n",
       "      <td>True</td>\n",
       "      <td>True</td>\n",
       "      <td>True</td>\n",
       "      <td>True</td>\n",
       "      <td>True</td>\n",
       "      <td>1</td>\n",
       "    </tr>\n",
       "    <tr>\n",
       "      <th>293</th>\n",
       "      <td>4614</td>\n",
       "      <td>a2439</td>\n",
       "      <td>w3188</td>\n",
       "      <td>1.0</td>\n",
       "      <td>1.0</td>\n",
       "      <td>1.0</td>\n",
       "      <td>1.0</td>\n",
       "      <td>0.0</td>\n",
       "      <td>1.0</td>\n",
       "      <td>6.0</td>\n",
       "      <td>...</td>\n",
       "      <td>1</td>\n",
       "      <td>1</td>\n",
       "      <td>1</td>\n",
       "      <td>1</td>\n",
       "      <td>True</td>\n",
       "      <td>True</td>\n",
       "      <td>True</td>\n",
       "      <td>True</td>\n",
       "      <td>True</td>\n",
       "      <td>1</td>\n",
       "    </tr>\n",
       "    <tr>\n",
       "      <th>230</th>\n",
       "      <td>3469</td>\n",
       "      <td>a1997</td>\n",
       "      <td>w3210</td>\n",
       "      <td>1.0</td>\n",
       "      <td>1.0</td>\n",
       "      <td>1.0</td>\n",
       "      <td>1.0</td>\n",
       "      <td>0.0</td>\n",
       "      <td>1.0</td>\n",
       "      <td>6.0</td>\n",
       "      <td>...</td>\n",
       "      <td>1</td>\n",
       "      <td>1</td>\n",
       "      <td>1</td>\n",
       "      <td>1</td>\n",
       "      <td>True</td>\n",
       "      <td>True</td>\n",
       "      <td>True</td>\n",
       "      <td>True</td>\n",
       "      <td>True</td>\n",
       "      <td>1</td>\n",
       "    </tr>\n",
       "  </tbody>\n",
       "</table>\n",
       "<p>5 rows × 55 columns</p>\n",
       "</div>"
      ],
      "text/plain": [
       "      _id ltable_id rtable_id  brand_brand_jac_qgm_3_qgm_3  \\\n",
       "124  1764     a1561       w15                          0.0   \n",
       "54    705     a1269     w3092                          1.0   \n",
       "268  4200     a2294     w1544                          1.0   \n",
       "293  4614     a2439     w3188                          1.0   \n",
       "230  3469     a1997     w3210                          1.0   \n",
       "\n",
       "     brand_brand_cos_dlm_dc0_dlm_dc0  brand_brand_jac_dlm_dc0_dlm_dc0  \\\n",
       "124                              0.0                              0.0   \n",
       "54                               1.0                              1.0   \n",
       "268                              1.0                              1.0   \n",
       "293                              1.0                              1.0   \n",
       "230                              1.0                              1.0   \n",
       "\n",
       "     brand_brand_mel  brand_brand_lev_dist  brand_brand_lev_sim  \\\n",
       "124              0.0                   0.0                  0.0   \n",
       "54               1.0                   0.0                  1.0   \n",
       "268              1.0                   0.0                  1.0   \n",
       "293              1.0                   0.0                  1.0   \n",
       "230              1.0                   0.0                  1.0   \n",
       "\n",
       "     brand_brand_nmw  ...    amd  2-in-1  gtx  touch  brands  models  sizes  \\\n",
       "124              0.0  ...      1       1    1      1    True    True  False   \n",
       "54               6.0  ...      1       1    1      0    True    True   True   \n",
       "268              7.0  ...      1       1    1      1    True    True   True   \n",
       "293              6.0  ...      1       1    1      1    True    True   True   \n",
       "230              6.0  ...      1       1    1      1    True    True   True   \n",
       "\n",
       "     cpus  operating_systems  match  \n",
       "124  True               True      0  \n",
       "54   True               True      1  \n",
       "268  True               True      1  \n",
       "293  True               True      1  \n",
       "230  True               True      1  \n",
       "\n",
       "[5 rows x 55 columns]"
      ]
     },
     "execution_count": 40,
     "metadata": {},
     "output_type": "execute_result"
    }
   ],
   "source": [
    "# Convert J into a set of feature vectors using feature table\n",
    "L = em.extract_feature_vecs(\n",
    "        J, \n",
    "        feature_table=feature_table,\n",
    "        attrs_after='match', \n",
    "        show_progress=False)\n",
    "L.fillna(0, inplace=True)\n",
    "L.head()"
   ]
  },
  {
   "cell_type": "markdown",
   "metadata": {},
   "source": [
    "### Training the selected matcher"
   ]
  },
  {
   "cell_type": "markdown",
   "metadata": {},
   "source": [
    "Now, we train the matcher using all of the feature vectors from the development set. For the purposes of this guide we use random forest as the selected matcher."
   ]
  },
  {
   "cell_type": "code",
   "execution_count": 41,
   "metadata": {},
   "outputs": [],
   "source": [
    "# Train using feature vectors from I \n",
    "result['selected_matcher'].fit(table=H, \n",
    "       exclude_attrs=['_id', 'ltable_id', 'rtable_id', 'match'], \n",
    "       target_attr='match')"
   ]
  },
  {
   "cell_type": "markdown",
   "metadata": {},
   "source": [
    "### Predicting the matches"
   ]
  },
  {
   "cell_type": "markdown",
   "metadata": {},
   "source": [
    "Next, we predict the matches for the evaluation set (using the feature vectors extracted from it)."
   ]
  },
  {
   "cell_type": "code",
   "execution_count": 42,
   "metadata": {},
   "outputs": [],
   "source": [
    "# Predict on L \n",
    "predictions = result['selected_matcher'].predict(\n",
    "        table=L, \n",
    "        exclude_attrs=['_id', 'ltable_id', 'rtable_id', 'match'], \n",
    "        append=True, \n",
    "        target_attr='predicted', \n",
    "        inplace=False)"
   ]
  },
  {
   "cell_type": "markdown",
   "metadata": {},
   "source": [
    "### Evaluating the predictions"
   ]
  },
  {
   "cell_type": "markdown",
   "metadata": {},
   "source": [
    "Finally, we evaluate the accuracy of predicted outputs"
   ]
  },
  {
   "cell_type": "code",
   "execution_count": 43,
   "metadata": {},
   "outputs": [
    {
     "name": "stdout",
     "output_type": "stream",
     "text": [
      "Precision : 94.51% (86/91)\n",
      "Recall : 92.47% (86/93)\n",
      "F1 : 93.48%\n",
      "False positives : 5 (out of 91 positive predictions)\n",
      "False negatives : 7 (out of 44 negative predictions)\n"
     ]
    }
   ],
   "source": [
    "# Evaluate the predictions\n",
    "eval_result = em.eval_matches(predictions, 'match', 'predicted')\n",
    "em.print_eval_summary(eval_result)"
   ]
  },
  {
   "cell_type": "code",
   "execution_count": 44,
   "metadata": {},
   "outputs": [],
   "source": [
    "# em.vis_debug_dt(dt, \n",
    "#                 U, V, \n",
    "#                 exclude_attrs=['_id', 'ltable_id', 'rtable_id', 'match'],\n",
    "#                 target_attr='match')"
   ]
  }
 ],
 "metadata": {
  "kernelspec": {
   "display_name": "Python 3",
   "language": "python",
   "name": "python3"
  },
  "language_info": {
   "codemirror_mode": {
    "name": "ipython",
    "version": 3
   },
   "file_extension": ".py",
   "mimetype": "text/x-python",
   "name": "python",
   "nbconvert_exporter": "python",
   "pygments_lexer": "ipython3",
   "version": "3.6.5"
  }
 },
 "nbformat": 4,
 "nbformat_minor": 1
}
