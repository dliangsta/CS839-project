{
 "cells": [
  {
   "cell_type": "markdown",
   "metadata": {},
   "source": [
    "# OLAP style analysis"
   ]
  },
  {
   "cell_type": "markdown",
   "metadata": {},
   "source": [
    "We have a fact table of laptops that gives the product price in Amazon and Walmart. Some dimensions in this table are brand, operating system, processor (cpu) manufacturer etc.\n",
    "\n",
    "We now perform some olap-style analysis on the table."
   ]
  },
  {
   "cell_type": "code",
   "execution_count": 1,
   "metadata": {},
   "outputs": [
    {
     "data": {
      "text/html": [
       "<div>\n",
       "<style scoped>\n",
       "    .dataframe tbody tr th:only-of-type {\n",
       "        vertical-align: middle;\n",
       "    }\n",
       "\n",
       "    .dataframe tbody tr th {\n",
       "        vertical-align: top;\n",
       "    }\n",
       "\n",
       "    .dataframe thead th {\n",
       "        text-align: right;\n",
       "    }\n",
       "</style>\n",
       "<table border=\"1\" class=\"dataframe\">\n",
       "  <thead>\n",
       "    <tr style=\"text-align: right;\">\n",
       "      <th></th>\n",
       "      <th>id</th>\n",
       "      <th>#a_id</th>\n",
       "      <th>w_id</th>\n",
       "      <th>product title</th>\n",
       "      <th>amazon_price</th>\n",
       "      <th>walmart_price</th>\n",
       "      <th>brand</th>\n",
       "      <th>hard disk size</th>\n",
       "      <th>operating system</th>\n",
       "      <th>processor (cpu) manufacturer</th>\n",
       "      <th>processor count</th>\n",
       "      <th>processor speed</th>\n",
       "      <th>ram size</th>\n",
       "      <th>screen size</th>\n",
       "    </tr>\n",
       "  </thead>\n",
       "  <tbody>\n",
       "    <tr>\n",
       "      <th>0</th>\n",
       "      <td>0</td>\n",
       "      <td>a0</td>\n",
       "      <td>w2300</td>\n",
       "      <td>Acer Predator Helios 300 Gaming Laptop 15.6 Fu...</td>\n",
       "      <td>1099.0</td>\n",
       "      <td>1136.09</td>\n",
       "      <td>Acer</td>\n",
       "      <td>256.0</td>\n",
       "      <td>Windows 10</td>\n",
       "      <td>Intel</td>\n",
       "      <td>4</td>\n",
       "      <td>3.8</td>\n",
       "      <td>16.0</td>\n",
       "      <td>15.6</td>\n",
       "    </tr>\n",
       "    <tr>\n",
       "      <th>1</th>\n",
       "      <td>1</td>\n",
       "      <td>a0</td>\n",
       "      <td>w2425</td>\n",
       "      <td>Acer Predator Helios 300 Gaming Laptop 15.6 Fu...</td>\n",
       "      <td>1099.0</td>\n",
       "      <td>1084.99</td>\n",
       "      <td>Acer</td>\n",
       "      <td>256.0</td>\n",
       "      <td>Windows 10</td>\n",
       "      <td>Intel</td>\n",
       "      <td>4</td>\n",
       "      <td>3.8</td>\n",
       "      <td>16.0</td>\n",
       "      <td>15.6</td>\n",
       "    </tr>\n",
       "    <tr>\n",
       "      <th>2</th>\n",
       "      <td>2</td>\n",
       "      <td>a0</td>\n",
       "      <td>w2479</td>\n",
       "      <td>Acer Predator Helios 300 Gaming Laptop 15.6 Fu...</td>\n",
       "      <td>1099.0</td>\n",
       "      <td>2487.44</td>\n",
       "      <td>Acer</td>\n",
       "      <td>256.0</td>\n",
       "      <td>Windows 10</td>\n",
       "      <td>Intel</td>\n",
       "      <td>4</td>\n",
       "      <td>3.8</td>\n",
       "      <td>16.0</td>\n",
       "      <td>15.6</td>\n",
       "    </tr>\n",
       "    <tr>\n",
       "      <th>3</th>\n",
       "      <td>3</td>\n",
       "      <td>a0</td>\n",
       "      <td>w2596</td>\n",
       "      <td>Acer Predator Helios 300 Gaming Laptop 15.6 Fu...</td>\n",
       "      <td>1099.0</td>\n",
       "      <td>997.49</td>\n",
       "      <td>Acer</td>\n",
       "      <td>256.0</td>\n",
       "      <td>Windows 10</td>\n",
       "      <td>Intel</td>\n",
       "      <td>4</td>\n",
       "      <td>3.8</td>\n",
       "      <td>16.0</td>\n",
       "      <td>15.6</td>\n",
       "    </tr>\n",
       "    <tr>\n",
       "      <th>4</th>\n",
       "      <td>4</td>\n",
       "      <td>a1002</td>\n",
       "      <td>w2733</td>\n",
       "      <td>HP Elitebook Folio 1040 G3 Notebook PC (V1P90U...</td>\n",
       "      <td>1297.5</td>\n",
       "      <td>1358.27</td>\n",
       "      <td>HP</td>\n",
       "      <td>256.0</td>\n",
       "      <td>Windows 7</td>\n",
       "      <td>Intel</td>\n",
       "      <td>2</td>\n",
       "      <td>2.3</td>\n",
       "      <td>8.0</td>\n",
       "      <td>14.0</td>\n",
       "    </tr>\n",
       "  </tbody>\n",
       "</table>\n",
       "</div>"
      ],
      "text/plain": [
       "   id  #a_id   w_id                                      product title  \\\n",
       "0   0     a0  w2300  Acer Predator Helios 300 Gaming Laptop 15.6 Fu...   \n",
       "1   1     a0  w2425  Acer Predator Helios 300 Gaming Laptop 15.6 Fu...   \n",
       "2   2     a0  w2479  Acer Predator Helios 300 Gaming Laptop 15.6 Fu...   \n",
       "3   3     a0  w2596  Acer Predator Helios 300 Gaming Laptop 15.6 Fu...   \n",
       "4   4  a1002  w2733  HP Elitebook Folio 1040 G3 Notebook PC (V1P90U...   \n",
       "\n",
       "   amazon_price  walmart_price brand  hard disk size operating system  \\\n",
       "0        1099.0        1136.09  Acer           256.0       Windows 10   \n",
       "1        1099.0        1084.99  Acer           256.0       Windows 10   \n",
       "2        1099.0        2487.44  Acer           256.0       Windows 10   \n",
       "3        1099.0         997.49  Acer           256.0       Windows 10   \n",
       "4        1297.5        1358.27    HP           256.0        Windows 7   \n",
       "\n",
       "  processor (cpu) manufacturer  processor count  processor speed  ram size  \\\n",
       "0                        Intel                4              3.8      16.0   \n",
       "1                        Intel                4              3.8      16.0   \n",
       "2                        Intel                4              3.8      16.0   \n",
       "3                        Intel                4              3.8      16.0   \n",
       "4                        Intel                2              2.3       8.0   \n",
       "\n",
       "   screen size  \n",
       "0         15.6  \n",
       "1         15.6  \n",
       "2         15.6  \n",
       "3         15.6  \n",
       "4         14.0  "
      ]
     },
     "execution_count": 1,
     "metadata": {},
     "output_type": "execute_result"
    }
   ],
   "source": [
    "import pandas as pd\n",
    "import mlxtend\n",
    "from collections import defaultdict\n",
    "from mlxtend.frequent_patterns import apriori\n",
    "from mlxtend.frequent_patterns import association_rules\n",
    "import sys\n",
    "import matplotlib.pyplot as plt\n",
    "\n",
    "df = pd.read_csv('./data/merged_clean_numeric_v2.csv')\n",
    "df.insert(0, 'id', range(0, len(df)))\n",
    "df.head()"
   ]
  },
  {
   "cell_type": "code",
   "execution_count": 2,
   "metadata": {},
   "outputs": [
    {
     "name": "stdout",
     "output_type": "stream",
     "text": [
      "\tamazon_price\twalmart_price\n",
      "Mean\t1385.5805966930266\t1571.5141073568175\n"
     ]
    }
   ],
   "source": [
    "print('\\tamazon_price\\twalmart_price')\n",
    "print ('Mean\\t' +  str(df['amazon_price'].mean()) + '\\t' + str(df['walmart_price'].mean()))"
   ]
  },
  {
   "cell_type": "markdown",
   "metadata": {},
   "source": [
    "**Observation 1: In general, prices are expensive in Walmart than in Amazon.**"
   ]
  },
  {
   "cell_type": "code",
   "execution_count": 3,
   "metadata": {},
   "outputs": [
    {
     "name": "stdout",
     "output_type": "stream",
     "text": [
      "\n",
      "Drilling down by brand:\n",
      "           amazon_price  walmart_price\n",
      "brand                                 \n",
      "AORUS       2299.000000    2199.000000\n",
      "Acer         487.122361     509.250694\n",
      "Alienware   1785.146316    1714.692632\n",
      "Aorus       2199.000000    2099.000000\n",
      "Apple       1118.584123     729.805614\n",
      "Asus         994.911304     864.117681\n",
      "Bit          214.990000     179.000000\n",
      "CTL          292.970000     264.810000\n",
      "Dell         740.719229     692.582207\n",
      "HP           928.033926    1066.269453\n",
      "Huawei       689.280000     662.200000\n",
      "LG          1247.030500     894.477000\n",
      "Lenovo      1672.351025    2018.848058\n",
      "MSI         1363.211951    1352.693659\n",
      "Microsoft   2542.027500    2071.745000\n",
      "OMEN        3599.000000    3563.950000\n",
      "Panasonic   1224.791250     728.715000\n",
      "Prostar     1318.549763    1217.438270\n",
      "Razer       1604.247500    1790.990000\n",
      "SLIDE        224.990000     224.990000\n",
      "Samsung      972.627778     780.921111\n",
      "Toshiba     1322.960000    1319.400000\n",
      "VIZIO        979.990000     364.495000\n"
     ]
    }
   ],
   "source": [
    "print ('\\nDrilling down by brand:')\n",
    "print (df.groupby(['brand'])['amazon_price', 'walmart_price'].mean())"
   ]
  },
  {
   "cell_type": "markdown",
   "metadata": {},
   "source": [
    "**Observation 2: But if we drill down on the prices, using a particular brand, then we find that for a few brands like Apple, Alienware, Asus, Dell, etc Amazon is pricier.**"
   ]
  },
  {
   "cell_type": "code",
   "execution_count": 4,
   "metadata": {},
   "outputs": [],
   "source": [
    "df.insert(len(df.columns), 'average_price', (df['amazon_price'] + df['walmart_price'])/2.0)\n",
    "temp = (df['average_price'])\n",
    "temp = list(map(int, temp))\n",
    "temp = [str(int(i/500)*500) + '-' + str(int(i/500)*500 + 500) for i in temp]\n",
    "df.insert(len(df.columns), 'average_price_range', temp)"
   ]
  },
  {
   "cell_type": "code",
   "execution_count": 5,
   "metadata": {},
   "outputs": [
    {
     "data": {
      "text/plain": [
       "brand    average_price_range\n",
       "Acer     0-500                    87\n",
       "         1000-1500                 8\n",
       "         1500-2000                 2\n",
       "         500-1000                 47\n",
       "Apple    0-500                     1\n",
       "         1000-1500                27\n",
       "         1500-2000                 6\n",
       "         2000-2500                 2\n",
       "         500-1000                 78\n",
       "Dell     0-500                    71\n",
       "         1000-1500                52\n",
       "         1500-2000                 8\n",
       "         2000-2500                 2\n",
       "         500-1000                243\n",
       "HP       0-500                    89\n",
       "         1000-1500               248\n",
       "         1500-2000                46\n",
       "         2000-2500                 4\n",
       "         500-1000                125\n",
       "Lenovo   0-500                    39\n",
       "         1000-1500                66\n",
       "         1500-2000              1592\n",
       "         2000-2500               478\n",
       "         2500-3000               133\n",
       "         3000-3500                 2\n",
       "         500-1000                100\n",
       "Prostar  1000-1500               259\n",
       "         1500-2000                91\n",
       "         500-1000                 72\n",
       "Name: id, dtype: int64"
      ]
     },
     "execution_count": 5,
     "metadata": {},
     "output_type": "execute_result"
    }
   ],
   "source": [
    "filtered = df.groupby(['brand']).filter(lambda x: len(x) >= 100)\n",
    "filtered.groupby(['brand', 'average_price_range'])['id'].count()"
   ]
  },
  {
   "cell_type": "markdown",
   "metadata": {},
   "source": [
    "\n",
    "\n",
    "**Observation 3: If we look at the average price range, Lenevo has a lot of products whose price > 1500$**\n"
   ]
  },
  {
   "cell_type": "code",
   "execution_count": 6,
   "metadata": {},
   "outputs": [
    {
     "name": "stdout",
     "output_type": "stream",
     "text": [
      "brand\n",
      "AORUS           1\n",
      "Acer          144\n",
      "Alienware      19\n",
      "Aorus           1\n",
      "Apple         114\n",
      "Asus           69\n",
      "Bit             2\n",
      "CTL             1\n",
      "Dell          376\n",
      "HP            512\n",
      "Huawei          1\n",
      "LG             20\n",
      "Lenovo       2410\n",
      "MSI            41\n",
      "Microsoft       4\n",
      "OMEN            2\n",
      "Panasonic       8\n",
      "Prostar       422\n",
      "Razer           4\n",
      "SLIDE           1\n",
      "Samsung        18\n",
      "Toshiba         1\n",
      "VIZIO           2\n",
      "Name: id, dtype: int64\n"
     ]
    }
   ],
   "source": [
    "print (df.groupby(['brand'])['id'].count())"
   ]
  },
  {
   "cell_type": "markdown",
   "metadata": {},
   "source": [
    "**There a lot of Lenevo products in our database.**"
   ]
  },
  {
   "cell_type": "code",
   "execution_count": 7,
   "metadata": {},
   "outputs": [
    {
     "name": "stdout",
     "output_type": "stream",
     "text": [
      "operating system\n",
      "Chrome          26\n",
      "WINDOWS 10       1\n",
      "Windows 10    2163\n",
      "Windows 7      215\n",
      "Windows 8        5\n",
      "Name: id, dtype: int64\n"
     ]
    }
   ],
   "source": [
    "print (df[df['brand'] ==\"Lenovo\"].groupby(['operating system'])['id'].count())"
   ]
  },
  {
   "cell_type": "markdown",
   "metadata": {},
   "source": [
    "**Observation 4: Most of the Lenevo products in our database have Windows 10 as their operating systems**"
   ]
  },
  {
   "cell_type": "code",
   "execution_count": 10,
   "metadata": {},
   "outputs": [
    {
     "data": {
      "image/png": "[encoded data removed]",
      "text/plain": [
       "<Figure size 432x288 with 1 Axes>"
      ]
     },
     "metadata": {},
     "output_type": "display_data"
    }
   ],
   "source": [
    "xx = df.groupby(['ram size'])['average_price'].mean()\n",
    "df.groupby(['ram size'])['id'].count().plot(kind='bar')\n",
    "plt.xlabel('RAM size (GB)')\n",
    "plt.ylabel('No. of laptops')\n",
    "plt.show()"
   ]
  },
  {
   "cell_type": "markdown",
   "metadata": {},
   "source": [
    "**Observation 5: RAM sizes of 8GB and 16GB are most popular.**"
   ]
  },
  {
   "cell_type": "code",
   "execution_count": 9,
   "metadata": {},
   "outputs": [
    {
     "data": {
      "image/png": "[encoded data removed]",
      "text/plain": [
       "<Figure size 432x288 with 1 Axes>"
      ]
     },
     "metadata": {},
     "output_type": "display_data"
    }
   ],
   "source": [
    "xx.plot(lw=2, colormap='jet', marker='.', markersize=10,\n",
    "         title='Average price in $ of a laptop')\n",
    "plt.xlabel('RAM size (GB)')\n",
    "plt.ylabel('Average price ($)')\n",
    "plt.show()"
   ]
  },
  {
   "cell_type": "markdown",
   "metadata": {},
   "source": [
    "**Observation 6: As the RAM size increases, the average price of a laptop increases.**"
   ]
  },
  {
   "cell_type": "code",
   "execution_count": null,
   "metadata": {},
   "outputs": [],
   "source": []
  }
 ],
 "metadata": {
  "kernelspec": {
   "display_name": "Python 3",
   "language": "python",
   "name": "python3"
  },
  "language_info": {
   "codemirror_mode": {
    "name": "ipython",
    "version": 3
   },
   "file_extension": ".py",
   "mimetype": "text/x-python",
   "name": "python",
   "nbconvert_exporter": "python",
   "pygments_lexer": "ipython3",
   "version": "3.5.2"
  }
 },
 "nbformat": 4,
 "nbformat_minor": 2
}
