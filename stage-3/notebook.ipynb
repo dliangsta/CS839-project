{
 "cells": [
  {
   "cell_type": "markdown",
   "metadata": {},
   "source": [
    "# Basic EM workflow 3 (Restaurants data set)"
   ]
  },
  {
   "cell_type": "markdown",
   "metadata": {},
   "source": [
    "# Introduction\n",
    "\n",
    "This IPython notebook explains a basic workflow two tables using *py_entitymatching*. Our goal is to come up with a workflow to match restaurants from Fodors and Zagat sites. Specifically, we want to maximize F1. The datasets contain information about the restaurants.\n",
    "\n",
    "First, we need to import *py_entitymatching* package and other libraries as follows:"
   ]
  },
  {
   "cell_type": "code",
   "execution_count": 1,
   "metadata": {},
   "outputs": [],
   "source": [
    "import sys\n",
    "import py_entitymatching as em\n",
    "import pandas as pd\n",
    "import os"
   ]
  },
  {
   "cell_type": "code",
   "execution_count": 2,
   "metadata": {},
   "outputs": [
    {
     "name": "stdout",
     "output_type": "stream",
     "text": [
      "python version: 3.6.5 (default, Apr  1 2018, 05:46:30) \n",
      "[GCC 7.3.0]\n",
      "pandas version: 0.22.0\n",
      "magellan version: 0.3.0\n"
     ]
    }
   ],
   "source": [
    "# Display the versions\n",
    "print('python version: ' + sys.version )\n",
    "print('pandas version: ' + pd.__version__ )\n",
    "print('magellan version: ' + em.__version__ )"
   ]
  },
  {
   "cell_type": "markdown",
   "metadata": {},
   "source": [
    "# Read input tables\n",
    "\n",
    "We begin by loading the input tables. For the purpose of this guide, we use the datasets that are included with the package."
   ]
  },
  {
   "cell_type": "code",
   "execution_count": 3,
   "metadata": {},
   "outputs": [],
   "source": [
    "# Get the paths\n",
    "path_A = 'data/amazon_products.csv'\n",
    "path_B = 'data/walmart_products.csv'"
   ]
  },
  {
   "cell_type": "code",
   "execution_count": 4,
   "metadata": {},
   "outputs": [],
   "source": [
    "# Load csv files as dataframes and set the key attribute in the dataframe\n",
    "A = em.read_csv_metadata(path_A, key='id')\n",
    "B = em.read_csv_metadata(path_B, key='id')"
   ]
  },
  {
   "cell_type": "code",
   "execution_count": 5,
   "metadata": {},
   "outputs": [
    {
     "name": "stdout",
     "output_type": "stream",
     "text": [
      "Number of tuples in A    : 2976\n",
      "Number of tuples in B    : 4847\n",
      "Number of tuples in A X B: 14424672\n"
     ]
    }
   ],
   "source": [
    "print('Number of tuples in A    : ' + str(len(A)))\n",
    "print('Number of tuples in B    : ' + str(len(B)))\n",
    "print('Number of tuples in A X B: ' + str(len(A)*len(B)))"
   ]
  },
  {
   "cell_type": "code",
   "execution_count": 6,
   "metadata": {},
   "outputs": [
    {
     "data": {
      "text/html": [
       "<div>\n",
       "<style scoped>\n",
       "    .dataframe tbody tr th:only-of-type {\n",
       "        vertical-align: middle;\n",
       "    }\n",
       "\n",
       "    .dataframe tbody tr th {\n",
       "        vertical-align: top;\n",
       "    }\n",
       "\n",
       "    .dataframe thead th {\n",
       "        text-align: right;\n",
       "    }\n",
       "</style>\n",
       "<table border=\"1\" class=\"dataframe\">\n",
       "  <thead>\n",
       "    <tr style=\"text-align: right;\">\n",
       "      <th></th>\n",
       "      <th>id</th>\n",
       "      <th>product title</th>\n",
       "      <th>brand</th>\n",
       "      <th>model</th>\n",
       "      <th>operating system</th>\n",
       "      <th>combo</th>\n",
       "    </tr>\n",
       "  </thead>\n",
       "  <tbody>\n",
       "    <tr>\n",
       "      <th>0</th>\n",
       "      <td>a0</td>\n",
       "      <td>acer predator helios 300 gaming laptop 15.6 full hd intel core i7-7700hq cpu 16gb ddr4 ram 256gb...</td>\n",
       "      <td>acer</td>\n",
       "      <td>nh.q28aa.001</td>\n",
       "      <td>windows 10</td>\n",
       "      <td>acer predator helios 300 gaming laptop 15.6 full hd intel core i7-7700hq cpu 16gb ddr4 ram 256gb...</td>\n",
       "    </tr>\n",
       "    <tr>\n",
       "      <th>1</th>\n",
       "      <td>a1</td>\n",
       "      <td>acer aspire e 15 15.6 full hd 8th gen intel core i5-8250u geforce mx150 8gb ram memory 256gb ssd...</td>\n",
       "      <td>acer</td>\n",
       "      <td>e5-576g-5762</td>\n",
       "      <td>windows 10</td>\n",
       "      <td>acer aspire e 15 15.6 full hd 8th gen intel core i5-8250u geforce mx150 8gb ram memory 256gb ssd...</td>\n",
       "    </tr>\n",
       "    <tr>\n",
       "      <th>2</th>\n",
       "      <td>a2</td>\n",
       "      <td>asus vivobook f510ua fhd laptop intel core i5-8250u 8gb ram 1tb hdd usb-c nanoedge display finge...</td>\n",
       "      <td>asus</td>\n",
       "      <td>f510ua-ah51</td>\n",
       "      <td>windows 10</td>\n",
       "      <td>asus vivobook f510ua fhd laptop intel core i5-8250u 8gb ram 1tb hdd usb-c nanoedge display finge...</td>\n",
       "    </tr>\n",
       "  </tbody>\n",
       "</table>\n",
       "</div>"
      ],
      "text/plain": [
       "   id  \\\n",
       "0  a0   \n",
       "1  a1   \n",
       "2  a2   \n",
       "\n",
       "                                                                                         product title  \\\n",
       "0  acer predator helios 300 gaming laptop 15.6 full hd intel core i7-7700hq cpu 16gb ddr4 ram 256gb...   \n",
       "1  acer aspire e 15 15.6 full hd 8th gen intel core i5-8250u geforce mx150 8gb ram memory 256gb ssd...   \n",
       "2  asus vivobook f510ua fhd laptop intel core i5-8250u 8gb ram 1tb hdd usb-c nanoedge display finge...   \n",
       "\n",
       "  brand         model operating system  \\\n",
       "0  acer  nh.q28aa.001       windows 10   \n",
       "1  acer  e5-576g-5762       windows 10   \n",
       "2  asus   f510ua-ah51       windows 10   \n",
       "\n",
       "                                                                                                 combo  \n",
       "0  acer predator helios 300 gaming laptop 15.6 full hd intel core i7-7700hq cpu 16gb ddr4 ram 256gb...  \n",
       "1  acer aspire e 15 15.6 full hd 8th gen intel core i5-8250u geforce mx150 8gb ram memory 256gb ssd...  \n",
       "2  asus vivobook f510ua fhd laptop intel core i5-8250u 8gb ram 1tb hdd usb-c nanoedge display finge...  "
      ]
     },
     "execution_count": 6,
     "metadata": {},
     "output_type": "execute_result"
    }
   ],
   "source": [
    "A.head(3)"
   ]
  },
  {
   "cell_type": "code",
   "execution_count": 7,
   "metadata": {},
   "outputs": [
    {
     "data": {
      "text/html": [
       "<div>\n",
       "<style scoped>\n",
       "    .dataframe tbody tr th:only-of-type {\n",
       "        vertical-align: middle;\n",
       "    }\n",
       "\n",
       "    .dataframe tbody tr th {\n",
       "        vertical-align: top;\n",
       "    }\n",
       "\n",
       "    .dataframe thead th {\n",
       "        text-align: right;\n",
       "    }\n",
       "</style>\n",
       "<table border=\"1\" class=\"dataframe\">\n",
       "  <thead>\n",
       "    <tr style=\"text-align: right;\">\n",
       "      <th></th>\n",
       "      <th>id</th>\n",
       "      <th>product title</th>\n",
       "      <th>brand</th>\n",
       "      <th>model</th>\n",
       "      <th>operating system</th>\n",
       "      <th>combo</th>\n",
       "    </tr>\n",
       "  </thead>\n",
       "  <tbody>\n",
       "    <tr>\n",
       "      <th>0</th>\n",
       "      <td>w0</td>\n",
       "      <td>iview i896qw 8.95 2-in-1 32gb tablet intel atom bay trail z3735f processor windows 10</td>\n",
       "      <td>iview</td>\n",
       "      <td>NaN</td>\n",
       "      <td>microsoft windows</td>\n",
       "      <td>iview i896qw 8.95 2-in-1 32gb tablet intel atom bay trail z3735f processor windows 10 iview micr...</td>\n",
       "    </tr>\n",
       "    <tr>\n",
       "      <th>1</th>\n",
       "      <td>w1</td>\n",
       "      <td>dell - inspiron 2-in-1 11.6 touch-screen laptop - intel pentium - 4gb memory - 500gb hd - red</td>\n",
       "      <td>dell</td>\n",
       "      <td>i3168-3270red</td>\n",
       "      <td>windows 10</td>\n",
       "      <td>dell - inspiron 2-in-1 11.6 touch-screen laptop - intel pentium - 4gb memory - 500gb hd - red de...</td>\n",
       "    </tr>\n",
       "    <tr>\n",
       "      <th>2</th>\n",
       "      <td>w2</td>\n",
       "      <td>iview maximus ii 11.6 laptop touchscreen 2-in-1 windows 10 intel bay trail z3735f processor 2gb ...</td>\n",
       "      <td>iview</td>\n",
       "      <td>max2-bk</td>\n",
       "      <td>windows 10</td>\n",
       "      <td>iview maximus ii 11.6 laptop touchscreen 2-in-1 windows 10 intel bay trail z3735f processor 2gb ...</td>\n",
       "    </tr>\n",
       "  </tbody>\n",
       "</table>\n",
       "</div>"
      ],
      "text/plain": [
       "   id  \\\n",
       "0  w0   \n",
       "1  w1   \n",
       "2  w2   \n",
       "\n",
       "                                                                                         product title  \\\n",
       "0                iview i896qw 8.95 2-in-1 32gb tablet intel atom bay trail z3735f processor windows 10   \n",
       "1        dell - inspiron 2-in-1 11.6 touch-screen laptop - intel pentium - 4gb memory - 500gb hd - red   \n",
       "2  iview maximus ii 11.6 laptop touchscreen 2-in-1 windows 10 intel bay trail z3735f processor 2gb ...   \n",
       "\n",
       "   brand          model   operating system  \\\n",
       "0  iview            NaN  microsoft windows   \n",
       "1   dell  i3168-3270red         windows 10   \n",
       "2  iview        max2-bk         windows 10   \n",
       "\n",
       "                                                                                                 combo  \n",
       "0  iview i896qw 8.95 2-in-1 32gb tablet intel atom bay trail z3735f processor windows 10 iview micr...  \n",
       "1  dell - inspiron 2-in-1 11.6 touch-screen laptop - intel pentium - 4gb memory - 500gb hd - red de...  \n",
       "2  iview maximus ii 11.6 laptop touchscreen 2-in-1 windows 10 intel bay trail z3735f processor 2gb ...  "
      ]
     },
     "execution_count": 7,
     "metadata": {},
     "output_type": "execute_result"
    }
   ],
   "source": [
    "B.head(3)"
   ]
  },
  {
   "cell_type": "code",
   "execution_count": 8,
   "metadata": {},
   "outputs": [
    {
     "data": {
      "text/plain": [
       "('id', 'id')"
      ]
     },
     "execution_count": 8,
     "metadata": {},
     "output_type": "execute_result"
    }
   ],
   "source": [
    "# Display the keys of the input tables\n",
    "em.get_key(A), em.get_key(B)"
   ]
  },
  {
   "cell_type": "markdown",
   "metadata": {},
   "source": [
    "# Block tables to get candidate set\n",
    "\n",
    "Before we do the matching, we would like to remove the obviously non-matching tuple pairs from the input tables. This would reduce the number of tuple pairs considered for matching.\n",
    "*py_entitymatching* provides four different blockers: (1) attribute equivalence, (2) overlap, (3) rule-based, and (4) black-box. The user can mix and match these blockers to form a blocking sequence applied to input tables.\n",
    "\n",
    "For the matching problem at hand, we know that two restaurants with different city names will not match. So we decide the apply blocking over names:"
   ]
  },
  {
   "cell_type": "code",
   "execution_count": 9,
   "metadata": {},
   "outputs": [],
   "source": [
    "# Blocking plan\n",
    "\n",
    "# A, B -- attribute equiv. blocker [model] --------------------|---> candidate set"
   ]
  },
  {
   "cell_type": "code",
   "execution_count": 10,
   "metadata": {},
   "outputs": [
    {
     "data": {
      "text/plain": [
       "22427"
      ]
     },
     "execution_count": 10,
     "metadata": {},
     "output_type": "execute_result"
    }
   ],
   "source": [
    "# Create overlap blocker\n",
    "ob = em.OverlapBlocker()\n",
    "\n",
    "# Use block_tables to apply blocking over two input tables.\n",
    "C1 = ob.block_tables(A,B, 'model', 'model', \n",
    "                    l_output_attrs=['id','model','combo'], \n",
    "                    r_output_attrs=['id','model','combo'],\n",
    "                    overlap_size=5,\n",
    "                    q_val=5,\n",
    "                    word_level=False,\n",
    "                    show_progress=False,\n",
    "                    n_jobs=-1\n",
    "                    )\n",
    "len(C1)"
   ]
  },
  {
   "cell_type": "code",
   "execution_count": 11,
   "metadata": {
    "scrolled": false
   },
   "outputs": [
    {
     "data": {
      "text/html": [
       "<div>\n",
       "<style scoped>\n",
       "    .dataframe tbody tr th:only-of-type {\n",
       "        vertical-align: middle;\n",
       "    }\n",
       "\n",
       "    .dataframe tbody tr th {\n",
       "        vertical-align: top;\n",
       "    }\n",
       "\n",
       "    .dataframe thead th {\n",
       "        text-align: right;\n",
       "    }\n",
       "</style>\n",
       "<table border=\"1\" class=\"dataframe\">\n",
       "  <thead>\n",
       "    <tr style=\"text-align: right;\">\n",
       "      <th></th>\n",
       "      <th>_id</th>\n",
       "      <th>ltable_id</th>\n",
       "      <th>rtable_id</th>\n",
       "      <th>ltable_model</th>\n",
       "      <th>ltable_combo</th>\n",
       "      <th>rtable_model</th>\n",
       "      <th>rtable_combo</th>\n",
       "    </tr>\n",
       "  </thead>\n",
       "  <tbody>\n",
       "    <tr>\n",
       "      <th>0</th>\n",
       "      <td>0</td>\n",
       "      <td>a229</td>\n",
       "      <td>w1</td>\n",
       "      <td>i3168-3271blu</td>\n",
       "      <td>dell i3168-3271blu 11.6 hd 2-in-1 laptop (intel pentium n3710 1.6ghz processor 4 gb ddr3l sdram ...</td>\n",
       "      <td>i3168-3270red</td>\n",
       "      <td>dell - inspiron 2-in-1 11.6 touch-screen laptop - intel pentium - 4gb memory - 500gb hd - red de...</td>\n",
       "    </tr>\n",
       "    <tr>\n",
       "      <th>1</th>\n",
       "      <td>1</td>\n",
       "      <td>a1812</td>\n",
       "      <td>w1</td>\n",
       "      <td>dell inspiron i3168</td>\n",
       "      <td>high performance dell inspiron 11.6 touchscreen 2 in 1 laptop pc intel pentium n3710 quad-core p...</td>\n",
       "      <td>i3168-3270red</td>\n",
       "      <td>dell - inspiron 2-in-1 11.6 touch-screen laptop - intel pentium - 4gb memory - 500gb hd - red de...</td>\n",
       "    </tr>\n",
       "    <tr>\n",
       "      <th>2</th>\n",
       "      <td>2</td>\n",
       "      <td>a2596</td>\n",
       "      <td>w1</td>\n",
       "      <td>i3542-5666red</td>\n",
       "      <td>dell inspiron 3000 series 15.6 non-touch notebook (red) intel core i3-4005u 4gb memory 500 gb ha...</td>\n",
       "      <td>i3168-3270red</td>\n",
       "      <td>dell - inspiron 2-in-1 11.6 touch-screen laptop - intel pentium - 4gb memory - 500gb hd - red de...</td>\n",
       "    </tr>\n",
       "  </tbody>\n",
       "</table>\n",
       "</div>"
      ],
      "text/plain": [
       "   _id ltable_id rtable_id         ltable_model  \\\n",
       "0    0      a229        w1        i3168-3271blu   \n",
       "1    1     a1812        w1  dell inspiron i3168   \n",
       "2    2     a2596        w1        i3542-5666red   \n",
       "\n",
       "                                                                                          ltable_combo  \\\n",
       "0  dell i3168-3271blu 11.6 hd 2-in-1 laptop (intel pentium n3710 1.6ghz processor 4 gb ddr3l sdram ...   \n",
       "1  high performance dell inspiron 11.6 touchscreen 2 in 1 laptop pc intel pentium n3710 quad-core p...   \n",
       "2  dell inspiron 3000 series 15.6 non-touch notebook (red) intel core i3-4005u 4gb memory 500 gb ha...   \n",
       "\n",
       "    rtable_model  \\\n",
       "0  i3168-3270red   \n",
       "1  i3168-3270red   \n",
       "2  i3168-3270red   \n",
       "\n",
       "                                                                                          rtable_combo  \n",
       "0  dell - inspiron 2-in-1 11.6 touch-screen laptop - intel pentium - 4gb memory - 500gb hd - red de...  \n",
       "1  dell - inspiron 2-in-1 11.6 touch-screen laptop - intel pentium - 4gb memory - 500gb hd - red de...  \n",
       "2  dell - inspiron 2-in-1 11.6 touch-screen laptop - intel pentium - 4gb memory - 500gb hd - red de...  "
      ]
     },
     "execution_count": 11,
     "metadata": {},
     "output_type": "execute_result"
    }
   ],
   "source": [
    "C1.head(3)"
   ]
  },
  {
   "cell_type": "markdown",
   "metadata": {},
   "source": [
    "## Debug blocker output"
   ]
  },
  {
   "cell_type": "markdown",
   "metadata": {},
   "source": [
    "The number of tuple pairs considered for matching is reduced to 10165 (from 176423), but we would want to make sure that the blocker did not drop any potential matches. We could debug the blocker output in *py_entitymatching* as follows:"
   ]
  },
  {
   "cell_type": "code",
   "execution_count": 12,
   "metadata": {},
   "outputs": [
    {
     "data": {
      "text/html": [
       "<div>\n",
       "<style scoped>\n",
       "    .dataframe tbody tr th:only-of-type {\n",
       "        vertical-align: middle;\n",
       "    }\n",
       "\n",
       "    .dataframe tbody tr th {\n",
       "        vertical-align: top;\n",
       "    }\n",
       "\n",
       "    .dataframe thead th {\n",
       "        text-align: right;\n",
       "    }\n",
       "</style>\n",
       "<table border=\"1\" class=\"dataframe\">\n",
       "  <thead>\n",
       "    <tr style=\"text-align: right;\">\n",
       "      <th></th>\n",
       "      <th>_id</th>\n",
       "      <th>ltable_id</th>\n",
       "      <th>rtable_id</th>\n",
       "      <th>ltable_product title</th>\n",
       "      <th>ltable_brand</th>\n",
       "      <th>ltable_model</th>\n",
       "      <th>ltable_combo</th>\n",
       "      <th>rtable_product title</th>\n",
       "      <th>rtable_brand</th>\n",
       "      <th>rtable_model</th>\n",
       "      <th>rtable_combo</th>\n",
       "    </tr>\n",
       "  </thead>\n",
       "  <tbody>\n",
       "    <tr>\n",
       "      <th>0</th>\n",
       "      <td>0</td>\n",
       "      <td>a1116</td>\n",
       "      <td>w434</td>\n",
       "      <td>hp envy x360 15z premium yoga style 2-in-1 convertible laptop (amd ryzen 5 quad core apu radeon ...</td>\n",
       "      <td>hp</td>\n",
       "      <td>NaN</td>\n",
       "      <td>hp envy x360 15z premium yoga style 2-in-1 convertible laptop (amd ryzen 5 quad core apu radeon ...</td>\n",
       "      <td>hp envy x360 15z premium yoga style 2-in-1 convertible laptop (amd ryzen 5 quad core apu radeon ...</td>\n",
       "      <td>hp</td>\n",
       "      <td>hp-15-02395-fhd-me28</td>\n",
       "      <td>hp envy x360 15z premium yoga style 2-in-1 convertible laptop (amd ryzen 5 quad core apu radeon ...</td>\n",
       "    </tr>\n",
       "    <tr>\n",
       "      <th>1</th>\n",
       "      <td>1</td>\n",
       "      <td>a1341</td>\n",
       "      <td>w2999</td>\n",
       "      <td>asus zenbook ux430ua-dh74 thin and light ultrabook 14 fhd laptop pc (intel 8th gen i7 quad core ...</td>\n",
       "      <td>hp</td>\n",
       "      <td>NaN</td>\n",
       "      <td>asus zenbook ux430ua-dh74 thin and light ultrabook 14 fhd laptop pc (intel 8th gen i7 quad core ...</td>\n",
       "      <td>asus zenbook ux430ua-dh74 thin and light ultrabook 14 fhd laptop pc (intel 8th gen i7 quad core ...</td>\n",
       "      <td>hp</td>\n",
       "      <td>asu-14-07054-fhd-me4</td>\n",
       "      <td>asus zenbook ux430ua-dh74 thin and light ultrabook 14 fhd laptop pc (intel 8th gen i7 quad core ...</td>\n",
       "    </tr>\n",
       "    <tr>\n",
       "      <th>2</th>\n",
       "      <td>2</td>\n",
       "      <td>a28</td>\n",
       "      <td>w2192</td>\n",
       "      <td>asus fx503vm 15.6” fhd powerful gaming laptop intel core i7-7700hq quad-core 2.8ghz (turbo up to...</td>\n",
       "      <td>asus</td>\n",
       "      <td>fx503vm-eh73</td>\n",
       "      <td>asus fx503vm 15.6” fhd powerful gaming laptop intel core i7-7700hq quad-core 2.8ghz (turbo up to...</td>\n",
       "      <td>asus fx503vm 15.6” fhd intel core i7-7700hq quad-core 2.8ghz (turbo up to 3.8ghz) 3gb gtx 1060 1...</td>\n",
       "      <td>asus</td>\n",
       "      <td>90nr0gp1-m00060</td>\n",
       "      <td>asus fx503vm 15.6” fhd intel core i7-7700hq quad-core 2.8ghz (turbo up to 3.8ghz) 3gb gtx 1060 1...</td>\n",
       "    </tr>\n",
       "  </tbody>\n",
       "</table>\n",
       "</div>"
      ],
      "text/plain": [
       "   _id ltable_id rtable_id  \\\n",
       "0    0     a1116      w434   \n",
       "1    1     a1341     w2999   \n",
       "2    2       a28     w2192   \n",
       "\n",
       "                                                                                  ltable_product title  \\\n",
       "0  hp envy x360 15z premium yoga style 2-in-1 convertible laptop (amd ryzen 5 quad core apu radeon ...   \n",
       "1  asus zenbook ux430ua-dh74 thin and light ultrabook 14 fhd laptop pc (intel 8th gen i7 quad core ...   \n",
       "2  asus fx503vm 15.6” fhd powerful gaming laptop intel core i7-7700hq quad-core 2.8ghz (turbo up to...   \n",
       "\n",
       "  ltable_brand  ltable_model  \\\n",
       "0           hp           NaN   \n",
       "1           hp           NaN   \n",
       "2         asus  fx503vm-eh73   \n",
       "\n",
       "                                                                                          ltable_combo  \\\n",
       "0  hp envy x360 15z premium yoga style 2-in-1 convertible laptop (amd ryzen 5 quad core apu radeon ...   \n",
       "1  asus zenbook ux430ua-dh74 thin and light ultrabook 14 fhd laptop pc (intel 8th gen i7 quad core ...   \n",
       "2  asus fx503vm 15.6” fhd powerful gaming laptop intel core i7-7700hq quad-core 2.8ghz (turbo up to...   \n",
       "\n",
       "                                                                                  rtable_product title  \\\n",
       "0  hp envy x360 15z premium yoga style 2-in-1 convertible laptop (amd ryzen 5 quad core apu radeon ...   \n",
       "1  asus zenbook ux430ua-dh74 thin and light ultrabook 14 fhd laptop pc (intel 8th gen i7 quad core ...   \n",
       "2  asus fx503vm 15.6” fhd intel core i7-7700hq quad-core 2.8ghz (turbo up to 3.8ghz) 3gb gtx 1060 1...   \n",
       "\n",
       "  rtable_brand          rtable_model  \\\n",
       "0           hp  hp-15-02395-fhd-me28   \n",
       "1           hp  asu-14-07054-fhd-me4   \n",
       "2         asus       90nr0gp1-m00060   \n",
       "\n",
       "                                                                                          rtable_combo  \n",
       "0  hp envy x360 15z premium yoga style 2-in-1 convertible laptop (amd ryzen 5 quad core apu radeon ...  \n",
       "1  asus zenbook ux430ua-dh74 thin and light ultrabook 14 fhd laptop pc (intel 8th gen i7 quad core ...  \n",
       "2  asus fx503vm 15.6” fhd intel core i7-7700hq quad-core 2.8ghz (turbo up to 3.8ghz) 3gb gtx 1060 1...  "
      ]
     },
     "execution_count": 12,
     "metadata": {},
     "output_type": "execute_result"
    }
   ],
   "source": [
    "# Debug blocker output\n",
    "dbg = em.debug_blocker(C1, A, B, output_size=10, \n",
    "                       attr_corres=[\n",
    "                           ('product title','product title'),\n",
    "                           ('brand', 'brand'), \n",
    "                           ('model','model'),\n",
    "                           ('combo','combo')],\n",
    "                      verbose=True)\n",
    "#### Display first few tuple pairs from the debug_blocker's output\n",
    "dbg.head(3)"
   ]
  },
  {
   "cell_type": "markdown",
   "metadata": {},
   "source": [
    "From the debug blocker's output we observe that the current blocker drops quite a few potential matches. We would want to update the blocking sequence to avoid dropping these potential matches.\n",
    "\n",
    "For the considered dataset, we know that for the restaurants to match the  names must overlap between them. We could use overlap blocker for this purpose. Finally, we would want to union the outputs from the attribute equivalence blocker and the overlap blocker to get a consolidated candidate set."
   ]
  },
  {
   "cell_type": "code",
   "execution_count": 13,
   "metadata": {},
   "outputs": [],
   "source": [
    "# Updated blocking sequence\n",
    "# A, B ------ overlap blocker [combo] --------> C1--\n",
    "#                                                   |----> C\n",
    "# A, B ------ overlap blocker [model] --------> C2--"
   ]
  },
  {
   "cell_type": "code",
   "execution_count": 14,
   "metadata": {},
   "outputs": [
    {
     "data": {
      "text/plain": [
       "64314"
      ]
     },
     "execution_count": 14,
     "metadata": {},
     "output_type": "execute_result"
    }
   ],
   "source": [
    "# Create overlap blocker\n",
    "ob = em.OverlapBlocker()\n",
    "\n",
    "# Block tables using 'combo' attribute \n",
    "C2 = ob.block_tables(A, B, 'combo', 'combo', \n",
    "                    l_output_attrs=['id','combo'], \n",
    "                    r_output_attrs=['id','combo'],\n",
    "                    overlap_size=50,\n",
    "                    q_val=5,\n",
    "                    word_level=False,\n",
    "                    show_progress=False,\n",
    "                    n_jobs=-1\n",
    "                    )\n",
    "len(C2)"
   ]
  },
  {
   "cell_type": "code",
   "execution_count": 15,
   "metadata": {},
   "outputs": [
    {
     "data": {
      "text/html": [
       "<div>\n",
       "<style scoped>\n",
       "    .dataframe tbody tr th:only-of-type {\n",
       "        vertical-align: middle;\n",
       "    }\n",
       "\n",
       "    .dataframe tbody tr th {\n",
       "        vertical-align: top;\n",
       "    }\n",
       "\n",
       "    .dataframe thead th {\n",
       "        text-align: right;\n",
       "    }\n",
       "</style>\n",
       "<table border=\"1\" class=\"dataframe\">\n",
       "  <thead>\n",
       "    <tr style=\"text-align: right;\">\n",
       "      <th></th>\n",
       "      <th>_id</th>\n",
       "      <th>ltable_id</th>\n",
       "      <th>rtable_id</th>\n",
       "      <th>ltable_combo</th>\n",
       "      <th>rtable_combo</th>\n",
       "    </tr>\n",
       "  </thead>\n",
       "  <tbody>\n",
       "    <tr>\n",
       "      <th>0</th>\n",
       "      <td>0</td>\n",
       "      <td>a1765</td>\n",
       "      <td>w1</td>\n",
       "      <td>dell inspiron i3000-10099slv 11.6 inch touchscreen 2-in-1 laptop (intel pentium 4 gb ram 500 gb ...</td>\n",
       "      <td>dell - inspiron 2-in-1 11.6 touch-screen laptop - intel pentium - 4gb memory - 500gb hd - red de...</td>\n",
       "    </tr>\n",
       "    <tr>\n",
       "      <th>1</th>\n",
       "      <td>1</td>\n",
       "      <td>a2842</td>\n",
       "      <td>w1</td>\n",
       "      <td>dell - inspiron 2-in-1 15.6 touch-screen laptop (intel core i5 8gb memory 500gb hard drive black...</td>\n",
       "      <td>dell - inspiron 2-in-1 11.6 touch-screen laptop - intel pentium - 4gb memory - 500gb hd - red de...</td>\n",
       "    </tr>\n",
       "    <tr>\n",
       "      <th>2</th>\n",
       "      <td>2</td>\n",
       "      <td>a233</td>\n",
       "      <td>w4</td>\n",
       "      <td>black flip design lenovo 11.6-inch touchscreen 2-in-1 business laptop intel celeron n3060 4gb me...</td>\n",
       "      <td>dell inspiron 11 3168 11.6 laptop touchscreen 2-in-1 windows 10 home intel celeron n3060 process...</td>\n",
       "    </tr>\n",
       "    <tr>\n",
       "      <th>3</th>\n",
       "      <td>3</td>\n",
       "      <td>a236</td>\n",
       "      <td>w4</td>\n",
       "      <td>lenovo 11.6?? ips touchscreen 2-in-1 convertible laptop pc intel celeron processor up to 2.48ghz...</td>\n",
       "      <td>dell inspiron 11 3168 11.6 laptop touchscreen 2-in-1 windows 10 home intel celeron n3060 process...</td>\n",
       "    </tr>\n",
       "    <tr>\n",
       "      <th>4</th>\n",
       "      <td>4</td>\n",
       "      <td>a255</td>\n",
       "      <td>w4</td>\n",
       "      <td>asus vivobook flip tp200sa-dh01t 11.6 inch display thin and lightweight 2-in-1 hd touchscreen la...</td>\n",
       "      <td>dell inspiron 11 3168 11.6 laptop touchscreen 2-in-1 windows 10 home intel celeron n3060 process...</td>\n",
       "    </tr>\n",
       "  </tbody>\n",
       "</table>\n",
       "</div>"
      ],
      "text/plain": [
       "   _id ltable_id rtable_id  \\\n",
       "0    0     a1765        w1   \n",
       "1    1     a2842        w1   \n",
       "2    2      a233        w4   \n",
       "3    3      a236        w4   \n",
       "4    4      a255        w4   \n",
       "\n",
       "                                                                                          ltable_combo  \\\n",
       "0  dell inspiron i3000-10099slv 11.6 inch touchscreen 2-in-1 laptop (intel pentium 4 gb ram 500 gb ...   \n",
       "1  dell - inspiron 2-in-1 15.6 touch-screen laptop (intel core i5 8gb memory 500gb hard drive black...   \n",
       "2  black flip design lenovo 11.6-inch touchscreen 2-in-1 business laptop intel celeron n3060 4gb me...   \n",
       "3  lenovo 11.6?? ips touchscreen 2-in-1 convertible laptop pc intel celeron processor up to 2.48ghz...   \n",
       "4  asus vivobook flip tp200sa-dh01t 11.6 inch display thin and lightweight 2-in-1 hd touchscreen la...   \n",
       "\n",
       "                                                                                          rtable_combo  \n",
       "0  dell - inspiron 2-in-1 11.6 touch-screen laptop - intel pentium - 4gb memory - 500gb hd - red de...  \n",
       "1  dell - inspiron 2-in-1 11.6 touch-screen laptop - intel pentium - 4gb memory - 500gb hd - red de...  \n",
       "2  dell inspiron 11 3168 11.6 laptop touchscreen 2-in-1 windows 10 home intel celeron n3060 process...  \n",
       "3  dell inspiron 11 3168 11.6 laptop touchscreen 2-in-1 windows 10 home intel celeron n3060 process...  \n",
       "4  dell inspiron 11 3168 11.6 laptop touchscreen 2-in-1 windows 10 home intel celeron n3060 process...  "
      ]
     },
     "execution_count": 15,
     "metadata": {},
     "output_type": "execute_result"
    }
   ],
   "source": [
    "# Display first two rows from C2\n",
    "C2.head()"
   ]
  },
  {
   "cell_type": "markdown",
   "metadata": {},
   "source": [
    "We add a rule-based blocker."
   ]
  },
  {
   "cell_type": "code",
   "execution_count": 18,
   "metadata": {},
   "outputs": [],
   "source": [
    "brands = ['gigabyte','lg', 'alienware', 'microsoft', 'huawei', 'rca', 'razer', 'iview', 'toshiba',\n",
    "          'hp', 'dell', 'lenovo', 'prostar', 'acer', 'samsung', 'apple', 'asus', 'panasonic', 'msi']\n",
    "models = ['transformer','precision','460','470','560','570','p50','p51','p70','p71','aero','sabre','miix','titan','gram','gl','aw', 'aspire', 'swift', 'spin', 'strix', 'raider', 'cambio', 'nitro', 'matebook', 'viking', 'probook', 'phantom', 'helios', 'triton', 'stream', 'blade', 'zenbook', 'zephyrus', 'flex', 'notebook', 'colorwheel', 'surface', 'chromebook',\n",
    "          'vivobook', 'maximus', 'zenbook', 'flex', 'ativ', 'predator', 'x360', 'stealth', 'omen', 'xps', 'carbon', 'x1', 'yoga', 'envy', 'thinkpad', 'latitude', 'inspiron', 'elitebook', 'clevo', 'spectre', 'macbook', 'pavilion', 'ideapad', 'legion']\n",
    "\n",
    "def match_make_model(a, b):\n",
    "    # if for all value sets, there is a value that is in both tuples, return false (keep tuple).\n",
    "    # otherwise return true (drop tuple).\n",
    "    a_combo = a['combo']\n",
    "    b_combo = b['combo']\n",
    "    valuesets = [brands, models]\n",
    "    i = 0\n",
    "    n = len(valuesets)\n",
    "    while i < n:\n",
    "        valueset = valuesets[i]\n",
    "        j = 0\n",
    "        m = len(valueset)\n",
    "        match = False\n",
    "        while j < m:\n",
    "            value = valueset[j]\n",
    "            if value in a_combo and value in b_combo:\n",
    "                # end loop\n",
    "                j = m\n",
    "                # mark as match\n",
    "                match = True\n",
    "            j += 1\n",
    "        if not match:\n",
    "            # drop tuple\n",
    "            return True\n",
    "        i += 1\n",
    "    return False\n",
    "\n",
    "# 30x slower oneliner:\n",
    "#     return not all(\n",
    "#         [any([value in a['combo'] and value in b['combo']] for value in valueset) \n",
    "#          for valueset in [brands, models, cpus]])"
   ]
  },
  {
   "cell_type": "code",
   "execution_count": null,
   "metadata": {},
   "outputs": [],
   "source": [
    "# for i in range(len(A)):\n",
    "#     if match_make_model(A.iloc[i],A.iloc[i]):\n",
    "#         print(A.iloc[i]['combo'])\n",
    "#         print()"
   ]
  },
  {
   "cell_type": "code",
   "execution_count": 20,
   "metadata": {},
   "outputs": [
    {
     "name": "stderr",
     "output_type": "stream",
     "text": [
      "0% [##############################] 100% | ETA: 00:00:00\n",
      "Total time elapsed: 00:03:41\n"
     ]
    },
    {
     "data": {
      "text/plain": [
       "565184"
      ]
     },
     "execution_count": 20,
     "metadata": {},
     "output_type": "execute_result"
    }
   ],
   "source": [
    "bb = em.BlackBoxBlocker()\n",
    "bb.set_black_box_function(match_make_model)\n",
    "C3 = bb.block_tables(A, B,\n",
    "                    l_output_attrs=['combo'], \n",
    "                    r_output_attrs=['combo'],\n",
    "                    show_progress=True,\n",
    "                    n_jobs=-1)\n",
    "len(C3)"
   ]
  },
  {
   "cell_type": "code",
   "execution_count": 21,
   "metadata": {},
   "outputs": [
    {
     "data": {
      "text/html": [
       "<div>\n",
       "<style scoped>\n",
       "    .dataframe tbody tr th:only-of-type {\n",
       "        vertical-align: middle;\n",
       "    }\n",
       "\n",
       "    .dataframe tbody tr th {\n",
       "        vertical-align: top;\n",
       "    }\n",
       "\n",
       "    .dataframe thead th {\n",
       "        text-align: right;\n",
       "    }\n",
       "</style>\n",
       "<table border=\"1\" class=\"dataframe\">\n",
       "  <thead>\n",
       "    <tr style=\"text-align: right;\">\n",
       "      <th></th>\n",
       "      <th>_id</th>\n",
       "      <th>ltable_id</th>\n",
       "      <th>rtable_id</th>\n",
       "      <th>ltable_combo</th>\n",
       "      <th>rtable_combo</th>\n",
       "    </tr>\n",
       "  </thead>\n",
       "  <tbody>\n",
       "    <tr>\n",
       "      <th>0</th>\n",
       "      <td>0</td>\n",
       "      <td>a0</td>\n",
       "      <td>w769</td>\n",
       "      <td>acer predator helios 300 gaming laptop 15.6 full hd intel core i7-7700hq cpu 16gb ddr4 ram 256gb...</td>\n",
       "      <td>manufacturer refurbished acer predator 17 g9-792-790g 17.3 laptop touchscreen windows 10 home in...</td>\n",
       "    </tr>\n",
       "    <tr>\n",
       "      <th>1</th>\n",
       "      <td>1</td>\n",
       "      <td>a1</td>\n",
       "      <td>w83</td>\n",
       "      <td>acer aspire e 15 15.6 full hd 8th gen intel core i5-8250u geforce mx150 8gb ram memory 256gb ssd...</td>\n",
       "      <td>manufacturer refurbished acer aspire r5-471t-71lx 14 laptop touchscreen 2-in-1 windows 10 home i...</td>\n",
       "    </tr>\n",
       "    <tr>\n",
       "      <th>2</th>\n",
       "      <td>2</td>\n",
       "      <td>a1</td>\n",
       "      <td>w112</td>\n",
       "      <td>acer aspire e 15 15.6 full hd 8th gen intel core i5-8250u geforce mx150 8gb ram memory 256gb ssd...</td>\n",
       "      <td>manufacturer refurbished acer aspire r5-471t-79yn 14 laptop touchscreen 2-in-1 windows 10 home i...</td>\n",
       "    </tr>\n",
       "  </tbody>\n",
       "</table>\n",
       "</div>"
      ],
      "text/plain": [
       "   _id ltable_id rtable_id  \\\n",
       "0    0        a0      w769   \n",
       "1    1        a1       w83   \n",
       "2    2        a1      w112   \n",
       "\n",
       "                                                                                          ltable_combo  \\\n",
       "0  acer predator helios 300 gaming laptop 15.6 full hd intel core i7-7700hq cpu 16gb ddr4 ram 256gb...   \n",
       "1  acer aspire e 15 15.6 full hd 8th gen intel core i5-8250u geforce mx150 8gb ram memory 256gb ssd...   \n",
       "2  acer aspire e 15 15.6 full hd 8th gen intel core i5-8250u geforce mx150 8gb ram memory 256gb ssd...   \n",
       "\n",
       "                                                                                          rtable_combo  \n",
       "0  manufacturer refurbished acer predator 17 g9-792-790g 17.3 laptop touchscreen windows 10 home in...  \n",
       "1  manufacturer refurbished acer aspire r5-471t-71lx 14 laptop touchscreen 2-in-1 windows 10 home i...  \n",
       "2  manufacturer refurbished acer aspire r5-471t-79yn 14 laptop touchscreen 2-in-1 windows 10 home i...  "
      ]
     },
     "execution_count": 21,
     "metadata": {},
     "output_type": "execute_result"
    }
   ],
   "source": [
    "C3 = C4\n",
    "C3.head(3)"
   ]
  },
  {
   "cell_type": "code",
   "execution_count": 22,
   "metadata": {},
   "outputs": [
    {
     "data": {
      "text/plain": [
       "605460"
      ]
     },
     "execution_count": 22,
     "metadata": {},
     "output_type": "execute_result"
    }
   ],
   "source": [
    "# Combine blocker outputs\n",
    "C = em.combine_blocker_outputs_via_union([C1,C2,C3])\n",
    "len(C)"
   ]
  },
  {
   "cell_type": "code",
   "execution_count": 23,
   "metadata": {},
   "outputs": [
    {
     "data": {
      "text/html": [
       "<div>\n",
       "<style scoped>\n",
       "    .dataframe tbody tr th:only-of-type {\n",
       "        vertical-align: middle;\n",
       "    }\n",
       "\n",
       "    .dataframe tbody tr th {\n",
       "        vertical-align: top;\n",
       "    }\n",
       "\n",
       "    .dataframe thead th {\n",
       "        text-align: right;\n",
       "    }\n",
       "</style>\n",
       "<table border=\"1\" class=\"dataframe\">\n",
       "  <thead>\n",
       "    <tr style=\"text-align: right;\">\n",
       "      <th></th>\n",
       "      <th>_id</th>\n",
       "      <th>ltable_id</th>\n",
       "      <th>rtable_id</th>\n",
       "      <th>ltable_model</th>\n",
       "      <th>ltable_combo</th>\n",
       "      <th>rtable_model</th>\n",
       "      <th>rtable_combo</th>\n",
       "    </tr>\n",
       "  </thead>\n",
       "  <tbody>\n",
       "    <tr>\n",
       "      <th>0</th>\n",
       "      <td>0</td>\n",
       "      <td>a0</td>\n",
       "      <td>w1111</td>\n",
       "      <td>nh.q28aa.001</td>\n",
       "      <td>acer predator helios 300 gaming laptop 15.6 full hd intel core i7-7700hq cpu 16gb ddr4 ram 256gb...</td>\n",
       "      <td>nx.vg0aa.001</td>\n",
       "      <td>acer travelmate spin b1 b118-rn-c6fd - 11.6 - celeron n3450 - 4 gb ram - 64 gb ssd - us internat...</td>\n",
       "    </tr>\n",
       "    <tr>\n",
       "      <th>1</th>\n",
       "      <td>1</td>\n",
       "      <td>a0</td>\n",
       "      <td>w1115</td>\n",
       "      <td>nh.q28aa.001</td>\n",
       "      <td>acer predator helios 300 gaming laptop 15.6 full hd intel core i7-7700hq cpu 16gb ddr4 ram 256gb...</td>\n",
       "      <td>nt.lcwaa.001</td>\n",
       "      <td>windows 10 pro education (64-bit) intel atom x5-z8350 2mb cache 1.44ghz up to acer nt.lcwaa.001 ...</td>\n",
       "    </tr>\n",
       "    <tr>\n",
       "      <th>2</th>\n",
       "      <td>2</td>\n",
       "      <td>a0</td>\n",
       "      <td>w1116</td>\n",
       "      <td>nh.q28aa.001</td>\n",
       "      <td>acer predator helios 300 gaming laptop 15.6 full hd intel core i7-7700hq cpu 16gb ddr4 ram 256gb...</td>\n",
       "      <td>nx.gmbaa.001</td>\n",
       "      <td>refurbished acer spin laptop intel pentium 1.10 ghz 4 gb ram 64gb windows 10 home acer nx.gmbaa....</td>\n",
       "    </tr>\n",
       "    <tr>\n",
       "      <th>3</th>\n",
       "      <td>3</td>\n",
       "      <td>a0</td>\n",
       "      <td>w1221</td>\n",
       "      <td>nh.q28aa.001</td>\n",
       "      <td>acer predator helios 300 gaming laptop 15.6 full hd intel core i7-7700hq cpu 16gb ddr4 ram 256gb...</td>\n",
       "      <td>nt.lceaa.001</td>\n",
       "      <td>acer aspire switch alpha 12 sa5-271p-38uz 12 touchscreen led [in-plane switching [ips] technolog...</td>\n",
       "    </tr>\n",
       "    <tr>\n",
       "      <th>4</th>\n",
       "      <td>4</td>\n",
       "      <td>a0</td>\n",
       "      <td>w1355</td>\n",
       "      <td>nh.q28aa.001</td>\n",
       "      <td>acer predator helios 300 gaming laptop 15.6 full hd intel core i7-7700hq cpu 16gb ddr4 ram 256gb...</td>\n",
       "      <td>nh.q2qaa.006</td>\n",
       "      <td>acer nitro 5 gaming laptop 15.6 fhd screen intel core i7-7700hq geforce gtx 1050ti graphic card ...</td>\n",
       "    </tr>\n",
       "  </tbody>\n",
       "</table>\n",
       "</div>"
      ],
      "text/plain": [
       "   _id ltable_id rtable_id  ltable_model  \\\n",
       "0    0        a0     w1111  nh.q28aa.001   \n",
       "1    1        a0     w1115  nh.q28aa.001   \n",
       "2    2        a0     w1116  nh.q28aa.001   \n",
       "3    3        a0     w1221  nh.q28aa.001   \n",
       "4    4        a0     w1355  nh.q28aa.001   \n",
       "\n",
       "                                                                                          ltable_combo  \\\n",
       "0  acer predator helios 300 gaming laptop 15.6 full hd intel core i7-7700hq cpu 16gb ddr4 ram 256gb...   \n",
       "1  acer predator helios 300 gaming laptop 15.6 full hd intel core i7-7700hq cpu 16gb ddr4 ram 256gb...   \n",
       "2  acer predator helios 300 gaming laptop 15.6 full hd intel core i7-7700hq cpu 16gb ddr4 ram 256gb...   \n",
       "3  acer predator helios 300 gaming laptop 15.6 full hd intel core i7-7700hq cpu 16gb ddr4 ram 256gb...   \n",
       "4  acer predator helios 300 gaming laptop 15.6 full hd intel core i7-7700hq cpu 16gb ddr4 ram 256gb...   \n",
       "\n",
       "   rtable_model  \\\n",
       "0  nx.vg0aa.001   \n",
       "1  nt.lcwaa.001   \n",
       "2  nx.gmbaa.001   \n",
       "3  nt.lceaa.001   \n",
       "4  nh.q2qaa.006   \n",
       "\n",
       "                                                                                          rtable_combo  \n",
       "0  acer travelmate spin b1 b118-rn-c6fd - 11.6 - celeron n3450 - 4 gb ram - 64 gb ssd - us internat...  \n",
       "1  windows 10 pro education (64-bit) intel atom x5-z8350 2mb cache 1.44ghz up to acer nt.lcwaa.001 ...  \n",
       "2  refurbished acer spin laptop intel pentium 1.10 ghz 4 gb ram 64gb windows 10 home acer nx.gmbaa....  \n",
       "3  acer aspire switch alpha 12 sa5-271p-38uz 12 touchscreen led [in-plane switching [ips] technolog...  \n",
       "4  acer nitro 5 gaming laptop 15.6 fhd screen intel core i7-7700hq geforce gtx 1050ti graphic card ...  "
      ]
     },
     "execution_count": 23,
     "metadata": {},
     "output_type": "execute_result"
    }
   ],
   "source": [
    "C.head()"
   ]
  },
  {
   "cell_type": "markdown",
   "metadata": {},
   "source": [
    "We observe that the number of tuple pairs considered for matching is increased to 12530 (from 10165). Now let us debug the blocker output again to check if the current blocker sequence is dropping any potential matches."
   ]
  },
  {
   "cell_type": "code",
   "execution_count": null,
   "metadata": {},
   "outputs": [],
   "source": [
    "# Debug again\n",
    "dbg = em.debug_blocker(C, A, B, output_size=10)\n",
    "dbg.head()"
   ]
  },
  {
   "cell_type": "markdown",
   "metadata": {},
   "source": [
    "We observe that the current blocker sequence does not drop obvious potential matches, and we can proceed with the matching step now. A subtle point to note here is, debugging blocker output practically provides a stopping criteria for modifying the blocker sequence.\n"
   ]
  },
  {
   "cell_type": "markdown",
   "metadata": {},
   "source": [
    "# Matching tuple pairs in the candidate set"
   ]
  },
  {
   "cell_type": "markdown",
   "metadata": {},
   "source": [
    "In this step, we would want to match the tuple pairs in the candidate set. Specifically, we use learning-based method for matching purposes.\n",
    "This typically involves the following five steps:\n",
    "1. Sampling and labeling the candidate set\n",
    "2. Splitting the labeled data into development and evaluation set\n",
    "3. Selecting the best learning based matcher using the development set\n",
    "4. Evaluating the selected matcher using the evaluation set"
   ]
  },
  {
   "cell_type": "markdown",
   "metadata": {},
   "source": [
    "## Sampling and labeling the candidate set"
   ]
  },
  {
   "cell_type": "markdown",
   "metadata": {},
   "source": [
    "First, we randomly sample 450 tuple pairs for labeling purposes."
   ]
  },
  {
   "cell_type": "code",
   "execution_count": null,
   "metadata": {},
   "outputs": [],
   "source": [
    "# Sample  candidate set\n",
    "# S = em.sample_table(C, 500)\n",
    "# em.to_csv_metadata(S, 'data/new.csv')\n",
    "# S.head()"
   ]
  },
  {
   "cell_type": "markdown",
   "metadata": {},
   "source": [
    "For the purposes of this guide, we will load in a pre-labeled dataset (of 450 tuple pairs) included in this package."
   ]
  },
  {
   "cell_type": "code",
   "execution_count": null,
   "metadata": {},
   "outputs": [],
   "source": [
    "# # Load the pre-labeled data\n",
    "path_G = 'data/labeled.csv'\n",
    "G = em.read_csv_metadata(path_G, \n",
    "                         key='_id',\n",
    "                         ltable=A, rtable=B, \n",
    "                         fk_ltable='ltable_id', fk_rtable='rtable_id')\n",
    "len(G)"
   ]
  },
  {
   "cell_type": "markdown",
   "metadata": {},
   "source": [
    "## Splitting the labeled data into development and evaluation set"
   ]
  },
  {
   "cell_type": "markdown",
   "metadata": {},
   "source": [
    "In this step, we split the labeled data into two sets: development (I) and evaluation (J). Specifically, the development set is used to come up with the best learning-based matcher and the evaluation set used to evaluate the selected matcher on unseen data."
   ]
  },
  {
   "cell_type": "code",
   "execution_count": null,
   "metadata": {},
   "outputs": [],
   "source": [
    "# Split S into development set (I) and evaluation set (J)\n",
    "IJ = em.split_train_test(G, train_proportion=0.7, random_state=0)\n",
    "I = IJ['train']\n",
    "J = IJ['test']"
   ]
  },
  {
   "cell_type": "code",
   "execution_count": null,
   "metadata": {},
   "outputs": [],
   "source": [
    "G.head()\n"
   ]
  },
  {
   "cell_type": "markdown",
   "metadata": {},
   "source": [
    "## Selecting the best learning-based matcher "
   ]
  },
  {
   "cell_type": "markdown",
   "metadata": {},
   "source": [
    "Selecting the best learning-based matcher typically involves the following steps:\n",
    "\n",
    "1. Creating a set of learning-based matchers\n",
    "2. Creating features\n",
    "3. Converting the development set into feature vectors\n",
    "4. Selecting the best learning-based matcher using k-fold cross validation"
   ]
  },
  {
   "cell_type": "markdown",
   "metadata": {},
   "source": [
    "### Creating a set of learning-based matchers"
   ]
  },
  {
   "cell_type": "code",
   "execution_count": null,
   "metadata": {},
   "outputs": [],
   "source": [
    "# Create a set of ML-matchers\n",
    "dt = em.DTMatcher(name='DecisionTree', random_state=0)\n",
    "svm = em.SVMMatcher(name='SVM', random_state=0)\n",
    "rf = em.RFMatcher(name='RF', random_state=0)\n",
    "lg = em.LogRegMatcher(name='LogReg', random_state=0)\n",
    "ln = em.LinRegMatcher(name='LinReg')\n",
    "nb = em.NBMatcher(name='NaiveBayes')"
   ]
  },
  {
   "cell_type": "markdown",
   "metadata": {},
   "source": [
    "### Creating features"
   ]
  },
  {
   "cell_type": "markdown",
   "metadata": {},
   "source": [
    "Next, we need to create a set of features for the development set. *py_entitymatching* provides a way to automatically generate features based on the attributes in the input tables. For the purposes of this guide, we use the automatically generated features."
   ]
  },
  {
   "cell_type": "code",
   "execution_count": null,
   "metadata": {},
   "outputs": [],
   "source": [
    "match_t = em.get_tokenizers_for_matching([2,3,4,5,6,7,8,9])\n",
    "match_s = em.get_sim_funs_for_matching()\n",
    "atypes1 = em.get_attr_types(A)\n",
    "atypes2 = em.get_attr_types(B)\n",
    "match_c = em.get_attr_corres(A, B)\n",
    "feature_table = em.get_features(A, B, atypes1, atypes2, match_c, match_t, match_s)"
   ]
  },
  {
   "cell_type": "markdown",
   "metadata": {},
   "source": [
    "This function generates a function that returns true if both or neither tuples' attribute contain any of the passed in values and false otherwise."
   ]
  },
  {
   "cell_type": "code",
   "execution_count": null,
   "metadata": {},
   "outputs": [],
   "source": [
    "def generateContainsValueFeature(values, name=None, attribute='combo'):\n",
    "    if type(values) is str:\n",
    "        values = [values]\n",
    "    def containsValueFeature(a,b):\n",
    "        return int(any([value.lower() in a[attribute].lower() for value in values]) \n",
    "                   == any([value.lower() in b[attribute].lower() for value in values]))\n",
    "    return containsValueFeature, name if name else values[0]"
   ]
  },
  {
   "cell_type": "markdown",
   "metadata": {},
   "source": [
    "Use this to generate many new features."
   ]
  },
  {
   "cell_type": "code",
   "execution_count": null,
   "metadata": {},
   "outputs": [],
   "source": [
    "brands = ['toshiba','hp','dell','lenovo','prostar','acer','samsung','apple','asus','panasonic','msi']\n",
    "models = ['zenbook','flex','ativ','predator','x360','stealth','omen','xps','carbon','x1','yoga','envy','thinkpad','latitude','inspiron','elitebook','clevo','spectre','macbook','pavilion','ideapad','legion']\n",
    "thinkpads = [['p50','p51','p71'],['460','470','560','570']]\n",
    "asus = ['swift','aspire','spin']\n",
    "sizes = ['13','15','17']\n",
    "operating_systems = ['chrome','windows','mac']\n",
    "cpus = ['i3','i5','i7','celeron','pentium']\n",
    "miscellaneous = ['2-in-1','gtx','touch']\n",
    "keywords = brands + models + thinkpads + sizes + operating_systems + cpus + miscellaneous\n",
    "new_features = [generateContainsValueFeature(value) for value in keywords]\n",
    "\n",
    "for feature in new_features:\n",
    "    em.add_blackbox_feature(feature_table, feature[1], feature[0])"
   ]
  },
  {
   "cell_type": "code",
   "execution_count": null,
   "metadata": {},
   "outputs": [],
   "source": [
    "# List the names of the features generated\n",
    "feature_table['feature_name']"
   ]
  },
  {
   "cell_type": "markdown",
   "metadata": {},
   "source": [
    "### Converting the development set to feature vectors"
   ]
  },
  {
   "cell_type": "code",
   "execution_count": null,
   "metadata": {},
   "outputs": [],
   "source": [
    "# Convert the I into a set of feature vectors using F\n",
    "H = em.extract_feature_vecs(I, \n",
    "                            feature_table=feature_table, \n",
    "                            attrs_after='match',\n",
    "                            show_progress=False)\n",
    "H.fillna(0, inplace=True)\n",
    "H.head()"
   ]
  },
  {
   "cell_type": "markdown",
   "metadata": {},
   "source": [
    "### Selecting the best matcher using cross-validation"
   ]
  },
  {
   "cell_type": "markdown",
   "metadata": {},
   "source": [
    "Now, we select the best matcher using k-fold cross-validation. For the purposes of this guide, we use five fold cross validation and use the 'precision' metric to select the best matcher."
   ]
  },
  {
   "cell_type": "code",
   "execution_count": null,
   "metadata": {
    "scrolled": false
   },
   "outputs": [],
   "source": [
    "# Select the best ML matcher using CV\n",
    "result = em.select_matcher(\n",
    "        matchers=[dt, rf, svm, ln, lg, nb], \n",
    "        table=H, \n",
    "        exclude_attrs=['_id', 'ltable_id', 'rtable_id', 'match'],\n",
    "        k=5,\n",
    "        target_attr='match', \n",
    "        metric_to_select_matcher='precision', \n",
    "        random_state=0)\n",
    "result['cv_stats']"
   ]
  },
  {
   "cell_type": "markdown",
   "metadata": {},
   "source": [
    "### Debugging matcher"
   ]
  },
  {
   "cell_type": "markdown",
   "metadata": {},
   "source": [
    "We observe that the best matcher is not maximizing F1. We debug the matcher to see what might be wrong.\n",
    "To do this, first we split the feature vectors into train and test."
   ]
  },
  {
   "cell_type": "code",
   "execution_count": null,
   "metadata": {},
   "outputs": [],
   "source": [
    "#  Split feature vectors into train and test\n",
    "UV = em.split_train_test(H, train_proportion=0.5)\n",
    "U = UV['train']\n",
    "V = UV['test']"
   ]
  },
  {
   "cell_type": "markdown",
   "metadata": {},
   "source": [
    "Next, we debug the matcher using GUI. For the purposes of this guide, we use random forest matcher for debugging purposes."
   ]
  },
  {
   "cell_type": "code",
   "execution_count": null,
   "metadata": {},
   "outputs": [],
   "source": [
    "# Debug rf using GUI\n",
    "# em.vis_debug_rf(rf, U, V, \n",
    "#         exclude_attrs=['_id', 'ltable_id', 'rtable_id', 'match'],\n",
    "#         target_attr='match')"
   ]
  },
  {
   "cell_type": "markdown",
   "metadata": {},
   "source": [
    "##  Evaluating the matching output"
   ]
  },
  {
   "cell_type": "markdown",
   "metadata": {},
   "source": [
    "From the GUI, we observe that phone numbers seem to be an important attribute, but they are in different format. Current features does not capture and adding a feature incorporating this difference in format can potentially improve \n",
    "the F1 numbers."
   ]
  },
  {
   "cell_type": "markdown",
   "metadata": {},
   "source": [
    "Now, we repeat extracting feature vectors (this time with updated feature table), imputing table and selecting the best matcher again using cross-validation."
   ]
  },
  {
   "cell_type": "code",
   "execution_count": null,
   "metadata": {},
   "outputs": [],
   "source": [
    "H = em.extract_feature_vecs(I, feature_table=feature_table, attrs_after='match', show_progress=False)\n",
    "H.fillna(0, inplace=True)"
   ]
  },
  {
   "cell_type": "code",
   "execution_count": null,
   "metadata": {},
   "outputs": [],
   "source": [
    "# Select the best ML matcher using CV\n",
    "result = em.select_matcher(\n",
    "        [dt, rf, svm, ln, lg, nb], \n",
    "        table=H, \n",
    "        exclude_attrs=['_id', 'ltable_id', 'rtable_id', 'match'],\n",
    "        k=5,\n",
    "        target_attr='match', \n",
    "        metric_to_select_matcher='precision', \n",
    "        random_state=0)\n",
    "result['cv_stats']"
   ]
  },
  {
   "cell_type": "markdown",
   "metadata": {},
   "source": [
    "Evaluating the matching outputs for the evaluation set typically involves the following four steps:\n",
    "1. Converting the evaluation set to feature vectors\n",
    "2. Training matcher using the feature vectors extracted from the development set\n",
    "3. Predicting the evaluation set using the trained matcher\n",
    "4. Evaluating the predicted matches"
   ]
  },
  {
   "cell_type": "markdown",
   "metadata": {},
   "source": [
    "### Converting the evaluation set to  feature vectors"
   ]
  },
  {
   "cell_type": "markdown",
   "metadata": {},
   "source": [
    "As before, we convert to the feature vectors (using the feature table and the evaluation set)"
   ]
  },
  {
   "cell_type": "code",
   "execution_count": null,
   "metadata": {},
   "outputs": [],
   "source": [
    "# Convert J into a set of feature vectors using feature table\n",
    "L = em.extract_feature_vecs(\n",
    "        J, \n",
    "        feature_table=feature_table,\n",
    "        attrs_after='match', \n",
    "        show_progress=False)\n",
    "L.fillna(0, inplace=True)\n",
    "L.head()"
   ]
  },
  {
   "cell_type": "markdown",
   "metadata": {},
   "source": [
    "### Training the selected matcher"
   ]
  },
  {
   "cell_type": "markdown",
   "metadata": {},
   "source": [
    "Now, we train the matcher using all of the feature vectors from the development set. For the purposes of this guide we use random forest as the selected matcher."
   ]
  },
  {
   "cell_type": "code",
   "execution_count": null,
   "metadata": {},
   "outputs": [],
   "source": [
    "# Train using feature vectors from I \n",
    "rf.fit(table=H, \n",
    "       exclude_attrs=['_id', 'ltable_id', 'rtable_id', 'match'], \n",
    "       target_attr='match')"
   ]
  },
  {
   "cell_type": "markdown",
   "metadata": {},
   "source": [
    "### Predicting the matches"
   ]
  },
  {
   "cell_type": "markdown",
   "metadata": {},
   "source": [
    "Next, we predict the matches for the evaluation set (using the feature vectors extracted from it)."
   ]
  },
  {
   "cell_type": "code",
   "execution_count": null,
   "metadata": {},
   "outputs": [],
   "source": [
    "# Predict on L \n",
    "predictions = rf.predict(\n",
    "        table=L, \n",
    "        exclude_attrs=['_id', 'ltable_id', 'rtable_id', 'match'], \n",
    "        append=True, \n",
    "        target_attr='predicted', \n",
    "        inplace=False)"
   ]
  },
  {
   "cell_type": "markdown",
   "metadata": {},
   "source": [
    "### Evaluating the predictions"
   ]
  },
  {
   "cell_type": "markdown",
   "metadata": {},
   "source": [
    "Finally, we evaluate the accuracy of predicted outputs"
   ]
  },
  {
   "cell_type": "code",
   "execution_count": null,
   "metadata": {},
   "outputs": [],
   "source": [
    "# Evaluate the predictions\n",
    "eval_result = em.eval_matches(predictions, 'match', 'predicted')\n",
    "em.print_eval_summary(eval_result)"
   ]
  }
 ],
 "metadata": {
  "kernelspec": {
   "display_name": "Python 3",
   "language": "python",
   "name": "python3"
  },
  "language_info": {
   "codemirror_mode": {
    "name": "ipython",
    "version": 3
   },
   "file_extension": ".py",
   "mimetype": "text/x-python",
   "name": "python",
   "nbconvert_exporter": "python",
   "pygments_lexer": "ipython3",
   "version": "3.6.5"
  }
 },
 "nbformat": 4,
 "nbformat_minor": 1
}
