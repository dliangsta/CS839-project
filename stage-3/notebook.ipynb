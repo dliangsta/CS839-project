{
 "cells": [
  {
   "cell_type": "markdown",
   "metadata": {},
   "source": [
    "# Basic EM workflow 3 (Restaurants data set)"
   ]
  },
  {
   "cell_type": "markdown",
   "metadata": {},
   "source": [
    "# Introduction\n",
    "\n",
    "This IPython notebook explains a basic workflow two tables using *py_entitymatching*. Our goal is to come up with a workflow to match restaurants from Fodors and Zagat sites. Specifically, we want to maximize F1. The datasets contain information about the restaurants.\n",
    "\n",
    "First, we need to import *py_entitymatching* package and other libraries as follows:"
   ]
  },
  {
   "cell_type": "code",
   "execution_count": 1,
   "metadata": {},
   "outputs": [],
   "source": [
    "import sys\n",
    "#sys.path.append('/Users/pradap/Documents/Research/Python-Package/anhaid/py_entitymatching/')\n",
    "\n",
    "import py_entitymatching as em\n",
    "import pandas as pd\n",
    "import os"
   ]
  },
  {
   "cell_type": "code",
   "execution_count": 2,
   "metadata": {},
   "outputs": [
    {
     "name": "stdout",
     "output_type": "stream",
     "text": [
      "python version: 3.6.5 (default, Apr  1 2018, 05:46:30) \n",
      "[GCC 7.3.0]\n",
      "pandas version: 0.22.0\n",
      "magellan version: 0.3.0\n"
     ]
    }
   ],
   "source": [
    "# Display the versions\n",
    "print('python version: ' + sys.version )\n",
    "print('pandas version: ' + pd.__version__ )\n",
    "print('magellan version: ' + em.__version__ )"
   ]
  },
  {
   "cell_type": "markdown",
   "metadata": {},
   "source": [
    "Matching two tables typically consists of the following three steps:\n",
    "\n",
    "** 1. Reading the input tables **\n",
    "\n",
    "** 2. Blocking the input tables to get a candidate set **\n",
    "\n",
    "** 3. Matching the tuple pairs in the candidate set **"
   ]
  },
  {
   "cell_type": "markdown",
   "metadata": {},
   "source": [
    "# Read input tables\n",
    "\n",
    "We begin by loading the input tables. For the purpose of this guide, we use the datasets that are included with the package."
   ]
  },
  {
   "cell_type": "code",
   "execution_count": 3,
   "metadata": {},
   "outputs": [],
   "source": [
    "# Get the paths\n",
    "path_A = '/home/liang/Workspace/cs839-project/stage-2/crawlers/data/amazon_products.csv'\n",
    "path_B = '/home/liang/Workspace/cs839-project/stage-2/crawlers/data/walmart_products.csv'"
   ]
  },
  {
   "cell_type": "code",
   "execution_count": 4,
   "metadata": {},
   "outputs": [],
   "source": [
    "# Load csv files as dataframes and set the key attribute in the dataframe\n",
    "A = em.read_csv_metadata(path_A, key='id')\n",
    "B = em.read_csv_metadata(path_B, key='id')"
   ]
  },
  {
   "cell_type": "code",
   "execution_count": 5,
   "metadata": {},
   "outputs": [
    {
     "name": "stdout",
     "output_type": "stream",
     "text": [
      "Number of tuples in A: 2976\n",
      "Number of tuples in B: 4847\n",
      "Number of tuples in A X B (i.e the cartesian product): 14424672\n"
     ]
    }
   ],
   "source": [
    "print('Number of tuples in A: ' + str(len(A)))\n",
    "print('Number of tuples in B: ' + str(len(B)))\n",
    "print('Number of tuples in A X B (i.e the cartesian product): ' + str(len(A)*len(B)))"
   ]
  },
  {
   "cell_type": "code",
   "execution_count": 6,
   "metadata": {},
   "outputs": [
    {
     "data": {
      "text/html": [
       "<div>\n",
       "<style scoped>\n",
       "    .dataframe tbody tr th:only-of-type {\n",
       "        vertical-align: middle;\n",
       "    }\n",
       "\n",
       "    .dataframe tbody tr th {\n",
       "        vertical-align: top;\n",
       "    }\n",
       "\n",
       "    .dataframe thead th {\n",
       "        text-align: right;\n",
       "    }\n",
       "</style>\n",
       "<table border=\"1\" class=\"dataframe\">\n",
       "  <thead>\n",
       "    <tr style=\"text-align: right;\">\n",
       "      <th></th>\n",
       "      <th>id</th>\n",
       "      <th>product title</th>\n",
       "      <th>brand</th>\n",
       "      <th>model</th>\n",
       "      <th>operating system</th>\n",
       "      <th>combo</th>\n",
       "    </tr>\n",
       "  </thead>\n",
       "  <tbody>\n",
       "    <tr>\n",
       "      <th>0</th>\n",
       "      <td>a0</td>\n",
       "      <td>acer predator helios 300 gaming laptop 15.6 full hd intel core i7-7700hq cpu 16gb ddr4 ram 256gb...</td>\n",
       "      <td>acer</td>\n",
       "      <td>nh.q28aa.001</td>\n",
       "      <td>windows 10</td>\n",
       "      <td>acer predator helios 300 gaming laptop 15.6 full hd intel core i7-7700hq cpu 16gb ddr4 ram 256gb...</td>\n",
       "    </tr>\n",
       "    <tr>\n",
       "      <th>1</th>\n",
       "      <td>a1</td>\n",
       "      <td>acer aspire e 15 15.6 full hd 8th gen intel core i5-8250u geforce mx150 8gb ram memory 256gb ssd...</td>\n",
       "      <td>acer</td>\n",
       "      <td>e5-576g-5762</td>\n",
       "      <td>windows 10</td>\n",
       "      <td>acer aspire e 15 15.6 full hd 8th gen intel core i5-8250u geforce mx150 8gb ram memory 256gb ssd...</td>\n",
       "    </tr>\n",
       "  </tbody>\n",
       "</table>\n",
       "</div>"
      ],
      "text/plain": [
       "   id  \\\n",
       "0  a0   \n",
       "1  a1   \n",
       "\n",
       "                                                                                         product title  \\\n",
       "0  acer predator helios 300 gaming laptop 15.6 full hd intel core i7-7700hq cpu 16gb ddr4 ram 256gb...   \n",
       "1  acer aspire e 15 15.6 full hd 8th gen intel core i5-8250u geforce mx150 8gb ram memory 256gb ssd...   \n",
       "\n",
       "  brand         model operating system  \\\n",
       "0  acer  nh.q28aa.001       windows 10   \n",
       "1  acer  e5-576g-5762       windows 10   \n",
       "\n",
       "                                                                                                 combo  \n",
       "0  acer predator helios 300 gaming laptop 15.6 full hd intel core i7-7700hq cpu 16gb ddr4 ram 256gb...  \n",
       "1  acer aspire e 15 15.6 full hd 8th gen intel core i5-8250u geforce mx150 8gb ram memory 256gb ssd...  "
      ]
     },
     "execution_count": 6,
     "metadata": {},
     "output_type": "execute_result"
    }
   ],
   "source": [
    "A.head(2)"
   ]
  },
  {
   "cell_type": "code",
   "execution_count": 7,
   "metadata": {},
   "outputs": [
    {
     "data": {
      "text/html": [
       "<div>\n",
       "<style scoped>\n",
       "    .dataframe tbody tr th:only-of-type {\n",
       "        vertical-align: middle;\n",
       "    }\n",
       "\n",
       "    .dataframe tbody tr th {\n",
       "        vertical-align: top;\n",
       "    }\n",
       "\n",
       "    .dataframe thead th {\n",
       "        text-align: right;\n",
       "    }\n",
       "</style>\n",
       "<table border=\"1\" class=\"dataframe\">\n",
       "  <thead>\n",
       "    <tr style=\"text-align: right;\">\n",
       "      <th></th>\n",
       "      <th>id</th>\n",
       "      <th>product title</th>\n",
       "      <th>brand</th>\n",
       "      <th>model</th>\n",
       "      <th>operating system</th>\n",
       "      <th>combo</th>\n",
       "    </tr>\n",
       "  </thead>\n",
       "  <tbody>\n",
       "    <tr>\n",
       "      <th>0</th>\n",
       "      <td>w0</td>\n",
       "      <td>iview i896qw 8.95 2-in-1 32gb tablet intel atom bay trail z3735f processor windows 10</td>\n",
       "      <td>iview</td>\n",
       "      <td>NaN</td>\n",
       "      <td>microsoft windows</td>\n",
       "      <td>iview i896qw 8.95 2-in-1 32gb tablet intel atom bay trail z3735f processor windows 10 iview micr...</td>\n",
       "    </tr>\n",
       "    <tr>\n",
       "      <th>1</th>\n",
       "      <td>w1</td>\n",
       "      <td>dell - inspiron 2-in-1 11.6 touch-screen laptop - intel pentium - 4gb memory - 500gb hd - red</td>\n",
       "      <td>dell</td>\n",
       "      <td>i3168-3270red</td>\n",
       "      <td>windows 10</td>\n",
       "      <td>dell - inspiron 2-in-1 11.6 touch-screen laptop - intel pentium - 4gb memory - 500gb hd - red de...</td>\n",
       "    </tr>\n",
       "  </tbody>\n",
       "</table>\n",
       "</div>"
      ],
      "text/plain": [
       "   id  \\\n",
       "0  w0   \n",
       "1  w1   \n",
       "\n",
       "                                                                                   product title  \\\n",
       "0          iview i896qw 8.95 2-in-1 32gb tablet intel atom bay trail z3735f processor windows 10   \n",
       "1  dell - inspiron 2-in-1 11.6 touch-screen laptop - intel pentium - 4gb memory - 500gb hd - red   \n",
       "\n",
       "   brand          model   operating system  \\\n",
       "0  iview            NaN  microsoft windows   \n",
       "1   dell  i3168-3270red         windows 10   \n",
       "\n",
       "                                                                                                 combo  \n",
       "0  iview i896qw 8.95 2-in-1 32gb tablet intel atom bay trail z3735f processor windows 10 iview micr...  \n",
       "1  dell - inspiron 2-in-1 11.6 touch-screen laptop - intel pentium - 4gb memory - 500gb hd - red de...  "
      ]
     },
     "execution_count": 7,
     "metadata": {},
     "output_type": "execute_result"
    }
   ],
   "source": [
    "B.head(2)"
   ]
  },
  {
   "cell_type": "code",
   "execution_count": 8,
   "metadata": {},
   "outputs": [
    {
     "data": {
      "text/plain": [
       "('id', 'id')"
      ]
     },
     "execution_count": 8,
     "metadata": {},
     "output_type": "execute_result"
    }
   ],
   "source": [
    "# Display the keys of the input tables\n",
    "em.get_key(A), em.get_key(B)"
   ]
  },
  {
   "cell_type": "markdown",
   "metadata": {},
   "source": [
    "# Block tables to get candidate set\n",
    "\n",
    "Before we do the matching, we would like to remove the obviously non-matching tuple pairs from the input tables. This would reduce the number of tuple pairs considered for matching.\n",
    "*py_entitymatching* provides four different blockers: (1) attribute equivalence, (2) overlap, (3) rule-based, and (4) black-box. The user can mix and match these blockers to form a blocking sequence applied to input tables.\n",
    "\n",
    "For the matching problem at hand, we know that two restaurants with different city names will not match. So we decide the apply blocking over names:"
   ]
  },
  {
   "cell_type": "code",
   "execution_count": 9,
   "metadata": {},
   "outputs": [],
   "source": [
    "# Blocking plan\n",
    "\n",
    "# A, B -- attribute equiv. blocker [city] --------------------|---> candidate set\n",
    "\n",
    "# block on: brand, ram, OS?, model? "
   ]
  },
  {
   "cell_type": "code",
   "execution_count": 10,
   "metadata": {},
   "outputs": [
    {
     "data": {
      "text/plain": [
       "1636110"
      ]
     },
     "execution_count": 10,
     "metadata": {},
     "output_type": "execute_result"
    }
   ],
   "source": [
    "ab = em.AttrEquivalenceBlocker()\n",
    "#For the given two tables, we will assume that two persons with different zipcode values do not refer to the same real world person. So, we apply attribute equivalence blocking on zipcode. That is, we block all the tuple pairs that have different zipcodes.\n",
    "\n",
    "# Use block_tables to apply blocking over two input tables.\n",
    "C1 = ab.block_tables(A, B, \n",
    "                    l_block_attr='brand', r_block_attr='brand', \n",
    "                    l_output_attrs=['id','brand', 'combo'],\n",
    "                    r_output_attrs=['id','brand', 'combo'],\n",
    "                    n_jobs=-1)\n",
    "len(C1)"
   ]
  },
  {
   "cell_type": "code",
   "execution_count": 11,
   "metadata": {
    "scrolled": false
   },
   "outputs": [
    {
     "data": {
      "text/html": [
       "<div>\n",
       "<style scoped>\n",
       "    .dataframe tbody tr th:only-of-type {\n",
       "        vertical-align: middle;\n",
       "    }\n",
       "\n",
       "    .dataframe tbody tr th {\n",
       "        vertical-align: top;\n",
       "    }\n",
       "\n",
       "    .dataframe thead th {\n",
       "        text-align: right;\n",
       "    }\n",
       "</style>\n",
       "<table border=\"1\" class=\"dataframe\">\n",
       "  <thead>\n",
       "    <tr style=\"text-align: right;\">\n",
       "      <th></th>\n",
       "      <th>_id</th>\n",
       "      <th>ltable_id</th>\n",
       "      <th>rtable_id</th>\n",
       "      <th>ltable_brand</th>\n",
       "      <th>ltable_combo</th>\n",
       "      <th>rtable_brand</th>\n",
       "      <th>rtable_combo</th>\n",
       "    </tr>\n",
       "  </thead>\n",
       "  <tbody>\n",
       "    <tr>\n",
       "      <th>0</th>\n",
       "      <td>0</td>\n",
       "      <td>a0</td>\n",
       "      <td>w28</td>\n",
       "      <td>acer</td>\n",
       "      <td>acer predator helios 300 gaming laptop 15.6 full hd intel core i7-7700hq cpu 16gb ddr4 ram 256gb...</td>\n",
       "      <td>acer</td>\n",
       "      <td>manufacturer refurbished acer 11.6 intel celeron 1.1 ghz 4 gb ram 32 gb flash windows 10 home|sp...</td>\n",
       "    </tr>\n",
       "    <tr>\n",
       "      <th>1</th>\n",
       "      <td>1</td>\n",
       "      <td>a0</td>\n",
       "      <td>w30</td>\n",
       "      <td>acer</td>\n",
       "      <td>acer predator helios 300 gaming laptop 15.6 full hd intel core i7-7700hq cpu 16gb ddr4 ram 256gb...</td>\n",
       "      <td>acer</td>\n",
       "      <td>switch alpha 12 sa5-271-78m8 12in 8gb 256gb w10h 11ac i7-6500u acer nt.lcdaa.014 windows 10</td>\n",
       "    </tr>\n",
       "    <tr>\n",
       "      <th>2</th>\n",
       "      <td>2</td>\n",
       "      <td>a0</td>\n",
       "      <td>w48</td>\n",
       "      <td>acer</td>\n",
       "      <td>acer predator helios 300 gaming laptop 15.6 full hd intel core i7-7700hq cpu 16gb ddr4 ram 256gb...</td>\n",
       "      <td>acer</td>\n",
       "      <td>acer switch alpha 12 sa5-271p-5972 - 12 - core i5 6200u - 8 gb ram - 256 gb ssd - us internation...</td>\n",
       "    </tr>\n",
       "    <tr>\n",
       "      <th>3</th>\n",
       "      <td>3</td>\n",
       "      <td>a0</td>\n",
       "      <td>w49</td>\n",
       "      <td>acer</td>\n",
       "      <td>acer predator helios 300 gaming laptop 15.6 full hd intel core i7-7700hq cpu 16gb ddr4 ram 256gb...</td>\n",
       "      <td>acer</td>\n",
       "      <td>r5-471t-78vy i7-6500u 2.5g 8gb 256gb ssd 14in 11ac w10h acer nx.g7waa.012 windows 10</td>\n",
       "    </tr>\n",
       "    <tr>\n",
       "      <th>4</th>\n",
       "      <td>4</td>\n",
       "      <td>a0</td>\n",
       "      <td>w70</td>\n",
       "      <td>acer</td>\n",
       "      <td>acer predator helios 300 gaming laptop 15.6 full hd intel core i7-7700hq cpu 16gb ddr4 ram 256gb...</td>\n",
       "      <td>acer</td>\n",
       "      <td>acer switch alpha 12 sa5-271p-74e1 - 12 - core i7 6500u - 8 gb ram - 256 gb ssd - us internation...</td>\n",
       "    </tr>\n",
       "  </tbody>\n",
       "</table>\n",
       "</div>"
      ],
      "text/plain": [
       "   _id ltable_id rtable_id ltable_brand  \\\n",
       "0    0        a0       w28         acer   \n",
       "1    1        a0       w30         acer   \n",
       "2    2        a0       w48         acer   \n",
       "3    3        a0       w49         acer   \n",
       "4    4        a0       w70         acer   \n",
       "\n",
       "                                                                                          ltable_combo  \\\n",
       "0  acer predator helios 300 gaming laptop 15.6 full hd intel core i7-7700hq cpu 16gb ddr4 ram 256gb...   \n",
       "1  acer predator helios 300 gaming laptop 15.6 full hd intel core i7-7700hq cpu 16gb ddr4 ram 256gb...   \n",
       "2  acer predator helios 300 gaming laptop 15.6 full hd intel core i7-7700hq cpu 16gb ddr4 ram 256gb...   \n",
       "3  acer predator helios 300 gaming laptop 15.6 full hd intel core i7-7700hq cpu 16gb ddr4 ram 256gb...   \n",
       "4  acer predator helios 300 gaming laptop 15.6 full hd intel core i7-7700hq cpu 16gb ddr4 ram 256gb...   \n",
       "\n",
       "  rtable_brand  \\\n",
       "0         acer   \n",
       "1         acer   \n",
       "2         acer   \n",
       "3         acer   \n",
       "4         acer   \n",
       "\n",
       "                                                                                          rtable_combo  \n",
       "0  manufacturer refurbished acer 11.6 intel celeron 1.1 ghz 4 gb ram 32 gb flash windows 10 home|sp...  \n",
       "1          switch alpha 12 sa5-271-78m8 12in 8gb 256gb w10h 11ac i7-6500u acer nt.lcdaa.014 windows 10  \n",
       "2  acer switch alpha 12 sa5-271p-5972 - 12 - core i5 6200u - 8 gb ram - 256 gb ssd - us internation...  \n",
       "3                 r5-471t-78vy i7-6500u 2.5g 8gb 256gb ssd 14in 11ac w10h acer nx.g7waa.012 windows 10  \n",
       "4  acer switch alpha 12 sa5-271p-74e1 - 12 - core i7 6500u - 8 gb ram - 256 gb ssd - us internation...  "
      ]
     },
     "execution_count": 11,
     "metadata": {},
     "output_type": "execute_result"
    }
   ],
   "source": [
    "C1.head()"
   ]
  },
  {
   "cell_type": "markdown",
   "metadata": {},
   "source": [
    "## Debug blocker output"
   ]
  },
  {
   "cell_type": "markdown",
   "metadata": {},
   "source": [
    "The number of tuple pairs considered for matching is reduced to 10165 (from 176423), but we would want to make sure that the blocker did not drop any potential matches. We could debug the blocker output in *py_entitymatching* as follows:"
   ]
  },
  {
   "cell_type": "code",
   "execution_count": 12,
   "metadata": {},
   "outputs": [],
   "source": [
    "# # Debug blocker output\n",
    "# dbg = em.debug_blocker(C1, A, B, output_size=10, \n",
    "#                        attr_corres=[\n",
    "#                            ('product title','product title'),\n",
    "#                            ('brand', 'brand'), \n",
    "#                            ('model','model'),\n",
    "#                            ('combo','combo')],\n",
    "#                       verbose=True)\n",
    "# #### Display first few tuple pairs from the debug_blocker's output\n",
    "# dbg.head()"
   ]
  },
  {
   "cell_type": "markdown",
   "metadata": {},
   "source": [
    "From the debug blocker's output we observe that the current blocker drops quite a few potential matches. We would want to update the blocking sequence to avoid dropping these potential matches.\n",
    "\n",
    "For the considered dataset, we know that for the restaurants to match the  names must overlap between them. We could use overlap blocker for this purpose. Finally, we would want to union the outputs from the attribute equivalence blocker and the overlap blocker to get a consolidated candidate set."
   ]
  },
  {
   "cell_type": "code",
   "execution_count": 13,
   "metadata": {},
   "outputs": [],
   "source": [
    "# Updated blocking sequence\n",
    "# A, B ------ attribute equivalence [city] -----> C1--\n",
    "#                                                     |----> C\n",
    "# A, B ------ overlap blocker [name] --------> C2--"
   ]
  },
  {
   "cell_type": "code",
   "execution_count": 14,
   "metadata": {},
   "outputs": [
    {
     "name": "stderr",
     "output_type": "stream",
     "text": [
      "0% [##############################] 100% | ETA: 00:00:00\n",
      "Total time elapsed: 00:00:00\n"
     ]
    },
    {
     "data": {
      "text/plain": [
       "2582"
      ]
     },
     "execution_count": 14,
     "metadata": {},
     "output_type": "execute_result"
    }
   ],
   "source": [
    "# Create overlap blocker\n",
    "ob = em.OverlapBlocker()\n",
    "\n",
    "# Block tables using 'name' attribute \n",
    "C2 = ob.block_tables(A,B, 'model', 'model', \n",
    "                    l_output_attrs=['id','model','combo'], \n",
    "                    r_output_attrs=['id','model','combo'],\n",
    "                    overlap_size=8,\n",
    "                    q_val=5,\n",
    "                    word_level=False,\n",
    "                    show_progress=True,\n",
    "                    n_jobs=-1\n",
    "                    )\n",
    "len(C2)"
   ]
  },
  {
   "cell_type": "code",
   "execution_count": 15,
   "metadata": {},
   "outputs": [
    {
     "data": {
      "text/html": [
       "<div>\n",
       "<style scoped>\n",
       "    .dataframe tbody tr th:only-of-type {\n",
       "        vertical-align: middle;\n",
       "    }\n",
       "\n",
       "    .dataframe tbody tr th {\n",
       "        vertical-align: top;\n",
       "    }\n",
       "\n",
       "    .dataframe thead th {\n",
       "        text-align: right;\n",
       "    }\n",
       "</style>\n",
       "<table border=\"1\" class=\"dataframe\">\n",
       "  <thead>\n",
       "    <tr style=\"text-align: right;\">\n",
       "      <th></th>\n",
       "      <th>_id</th>\n",
       "      <th>ltable_id</th>\n",
       "      <th>rtable_id</th>\n",
       "      <th>ltable_model</th>\n",
       "      <th>ltable_combo</th>\n",
       "      <th>rtable_model</th>\n",
       "      <th>rtable_combo</th>\n",
       "    </tr>\n",
       "  </thead>\n",
       "  <tbody>\n",
       "    <tr>\n",
       "      <th>0</th>\n",
       "      <td>0</td>\n",
       "      <td>a229</td>\n",
       "      <td>w1</td>\n",
       "      <td>i3168-3271blu</td>\n",
       "      <td>dell i3168-3271blu 11.6 hd 2-in-1 laptop (intel pentium n3710 1.6ghz processor 4 gb ddr3l sdram ...</td>\n",
       "      <td>i3168-3270red</td>\n",
       "      <td>dell - inspiron 2-in-1 11.6 touch-screen laptop - intel pentium - 4gb memory - 500gb hd - red de...</td>\n",
       "    </tr>\n",
       "    <tr>\n",
       "      <th>1</th>\n",
       "      <td>1</td>\n",
       "      <td>a1922</td>\n",
       "      <td>w7</td>\n",
       "      <td>i5578-5902gry</td>\n",
       "      <td>dell i5578-5902gry inspiron pro 15.6 fhd with touch laptop computer (core i5-7200u 8gb ddr4 256g...</td>\n",
       "      <td>i5578-3093gry</td>\n",
       "      <td>dell - inspiron 15 5000 2-in-1 15.6 touch-screen laptop - intel core i3 - 4gb memory - 500gb 540...</td>\n",
       "    </tr>\n",
       "    <tr>\n",
       "      <th>2</th>\n",
       "      <td>2</td>\n",
       "      <td>a229</td>\n",
       "      <td>w12</td>\n",
       "      <td>i3168-3271blu</td>\n",
       "      <td>dell i3168-3271blu 11.6 hd 2-in-1 laptop (intel pentium n3710 1.6ghz processor 4 gb ddr3l sdram ...</td>\n",
       "      <td>i3168-3271blu</td>\n",
       "      <td>dell - inspiron 11 3000 2-in-1 blue 11.6-inch hd intel pentium processor n3710 4gb 1600mhz ddr3l...</td>\n",
       "    </tr>\n",
       "    <tr>\n",
       "      <th>3</th>\n",
       "      <td>3</td>\n",
       "      <td>a1561</td>\n",
       "      <td>w15</td>\n",
       "      <td>i5579-7050gry</td>\n",
       "      <td>dell inspiron 13 i5379-7302gry-pus 2 in 1 pc i5579-7050gry windows 10</td>\n",
       "      <td>i5578-2550gry</td>\n",
       "      <td>dell - inspiron 15 5000 2-in-1 15.6-inch fhd intel core i7-7500u 8gb 2400mhz ddr4 1tb 5400 rpm h...</td>\n",
       "    </tr>\n",
       "    <tr>\n",
       "      <th>4</th>\n",
       "      <td>4</td>\n",
       "      <td>a1922</td>\n",
       "      <td>w15</td>\n",
       "      <td>i5578-5902gry</td>\n",
       "      <td>dell i5578-5902gry inspiron pro 15.6 fhd with touch laptop computer (core i5-7200u 8gb ddr4 256g...</td>\n",
       "      <td>i5578-2550gry</td>\n",
       "      <td>dell - inspiron 15 5000 2-in-1 15.6-inch fhd intel core i7-7500u 8gb 2400mhz ddr4 1tb 5400 rpm h...</td>\n",
       "    </tr>\n",
       "  </tbody>\n",
       "</table>\n",
       "</div>"
      ],
      "text/plain": [
       "   _id ltable_id rtable_id   ltable_model  \\\n",
       "0    0      a229        w1  i3168-3271blu   \n",
       "1    1     a1922        w7  i5578-5902gry   \n",
       "2    2      a229       w12  i3168-3271blu   \n",
       "3    3     a1561       w15  i5579-7050gry   \n",
       "4    4     a1922       w15  i5578-5902gry   \n",
       "\n",
       "                                                                                          ltable_combo  \\\n",
       "0  dell i3168-3271blu 11.6 hd 2-in-1 laptop (intel pentium n3710 1.6ghz processor 4 gb ddr3l sdram ...   \n",
       "1  dell i5578-5902gry inspiron pro 15.6 fhd with touch laptop computer (core i5-7200u 8gb ddr4 256g...   \n",
       "2  dell i3168-3271blu 11.6 hd 2-in-1 laptop (intel pentium n3710 1.6ghz processor 4 gb ddr3l sdram ...   \n",
       "3                                dell inspiron 13 i5379-7302gry-pus 2 in 1 pc i5579-7050gry windows 10   \n",
       "4  dell i5578-5902gry inspiron pro 15.6 fhd with touch laptop computer (core i5-7200u 8gb ddr4 256g...   \n",
       "\n",
       "    rtable_model  \\\n",
       "0  i3168-3270red   \n",
       "1  i5578-3093gry   \n",
       "2  i3168-3271blu   \n",
       "3  i5578-2550gry   \n",
       "4  i5578-2550gry   \n",
       "\n",
       "                                                                                          rtable_combo  \n",
       "0  dell - inspiron 2-in-1 11.6 touch-screen laptop - intel pentium - 4gb memory - 500gb hd - red de...  \n",
       "1  dell - inspiron 15 5000 2-in-1 15.6 touch-screen laptop - intel core i3 - 4gb memory - 500gb 540...  \n",
       "2  dell - inspiron 11 3000 2-in-1 blue 11.6-inch hd intel pentium processor n3710 4gb 1600mhz ddr3l...  \n",
       "3  dell - inspiron 15 5000 2-in-1 15.6-inch fhd intel core i7-7500u 8gb 2400mhz ddr4 1tb 5400 rpm h...  \n",
       "4  dell - inspiron 15 5000 2-in-1 15.6-inch fhd intel core i7-7500u 8gb 2400mhz ddr4 1tb 5400 rpm h...  "
      ]
     },
     "execution_count": 15,
     "metadata": {},
     "output_type": "execute_result"
    }
   ],
   "source": [
    "# Display first two rows from C2\n",
    "C2.head()"
   ]
  },
  {
   "cell_type": "code",
   "execution_count": 16,
   "metadata": {},
   "outputs": [],
   "source": [
    "# # Create overlap blocker\n",
    "# ob = em.OverlapBlocker()\n",
    "\n",
    "# # Block tables using 'name' attribute \n",
    "# C3 = ob.block_tables(A,B, 'ram size', 'ram size', \n",
    "#                     l_output_attrs=['id','ram size','combo'], \n",
    "#                     r_output_attrs=['id','ram size','combo'],\n",
    "#                     overlap_size=5,\n",
    "#                     q_val=5,\n",
    "#                     word_level=False,\n",
    "#                     show_progress=True,\n",
    "#                     n_jobs=-1\n",
    "#                     )\n",
    "# len(C3)"
   ]
  },
  {
   "cell_type": "code",
   "execution_count": 17,
   "metadata": {},
   "outputs": [],
   "source": [
    "# C3.head()"
   ]
  },
  {
   "cell_type": "markdown",
   "metadata": {},
   "source": [
    "We add another blocker."
   ]
  },
  {
   "cell_type": "code",
   "execution_count": 18,
   "metadata": {},
   "outputs": [
    {
     "name": "stderr",
     "output_type": "stream",
     "text": [
      "0% [##############################] 100% | ETA: 00:00:00\n",
      "Total time elapsed: 00:00:03\n"
     ]
    },
    {
     "data": {
      "text/plain": [
       "5713"
      ]
     },
     "execution_count": 18,
     "metadata": {},
     "output_type": "execute_result"
    }
   ],
   "source": [
    "# Create overlap blocker\n",
    "ob = em.OverlapBlocker()\n",
    "\n",
    "# Block tables using 'name' attribute \n",
    "C4 = ob.block_tables(A, B, 'combo', 'combo', \n",
    "                    l_output_attrs=['id','combo'], \n",
    "                    r_output_attrs=['id','combo'],\n",
    "                    overlap_size=80,\n",
    "                    q_val=5,\n",
    "                    word_level=False,\n",
    "                    show_progress=True,\n",
    "                    n_jobs=-1\n",
    "                    )\n",
    "len(C4)"
   ]
  },
  {
   "cell_type": "code",
   "execution_count": 19,
   "metadata": {},
   "outputs": [
    {
     "data": {
      "text/html": [
       "<div>\n",
       "<style scoped>\n",
       "    .dataframe tbody tr th:only-of-type {\n",
       "        vertical-align: middle;\n",
       "    }\n",
       "\n",
       "    .dataframe tbody tr th {\n",
       "        vertical-align: top;\n",
       "    }\n",
       "\n",
       "    .dataframe thead th {\n",
       "        text-align: right;\n",
       "    }\n",
       "</style>\n",
       "<table border=\"1\" class=\"dataframe\">\n",
       "  <thead>\n",
       "    <tr style=\"text-align: right;\">\n",
       "      <th></th>\n",
       "      <th>_id</th>\n",
       "      <th>ltable_id</th>\n",
       "      <th>rtable_id</th>\n",
       "      <th>ltable_combo</th>\n",
       "      <th>rtable_combo</th>\n",
       "    </tr>\n",
       "  </thead>\n",
       "  <tbody>\n",
       "    <tr>\n",
       "      <th>0</th>\n",
       "      <td>0</td>\n",
       "      <td>a322</td>\n",
       "      <td>w32</td>\n",
       "      <td>lenovo flex 5 2-in-1 laptop: core i5-8250u 8gb ram 128gb ssd 14-inch full hd touch display windo...</td>\n",
       "      <td>lenovo flex 5 2-in-1 laptop: core i5-8250u 8gb ram 128gb ssd 14-inch full hd touch display windo...</td>\n",
       "    </tr>\n",
       "    <tr>\n",
       "      <th>1</th>\n",
       "      <td>1</td>\n",
       "      <td>a255</td>\n",
       "      <td>w41</td>\n",
       "      <td>asus vivobook flip tp200sa-dh01t 11.6 inch display thin and lightweight 2-in-1 hd touchscreen la...</td>\n",
       "      <td>asus vivobook tp200sa-dh01t-bl 11.6 inch display thin and lightweight 2-in-1 hd touchscreen lapt...</td>\n",
       "    </tr>\n",
       "    <tr>\n",
       "      <th>2</th>\n",
       "      <td>2</td>\n",
       "      <td>a621</td>\n",
       "      <td>w41</td>\n",
       "      <td>asus vivobook flip 14 tp401ca-dhm6t 14” thin and lightweight 2-in-1 hd touchscreen laptop intel ...</td>\n",
       "      <td>asus vivobook tp200sa-dh01t-bl 11.6 inch display thin and lightweight 2-in-1 hd touchscreen lapt...</td>\n",
       "    </tr>\n",
       "    <tr>\n",
       "      <th>3</th>\n",
       "      <td>3</td>\n",
       "      <td>a648</td>\n",
       "      <td>w41</td>\n",
       "      <td>asus transformer book tp200sa-dh01t-bl 11.6 inch display thin and lightweight 2-in-1 full hd tou...</td>\n",
       "      <td>asus vivobook tp200sa-dh01t-bl 11.6 inch display thin and lightweight 2-in-1 hd touchscreen lapt...</td>\n",
       "    </tr>\n",
       "    <tr>\n",
       "      <th>4</th>\n",
       "      <td>4</td>\n",
       "      <td>a432</td>\n",
       "      <td>w72</td>\n",
       "      <td>dell inspiron 13 2-in-1 laptop: core i7-8550u 256gb ssd 8gb ram 13.3 full hd touch display windo...</td>\n",
       "      <td>dell inspiron 13 2-in-1 laptop: core i7-8550u 256gb ssd 8gb ram 13.3 full hd touch display dell ...</td>\n",
       "    </tr>\n",
       "  </tbody>\n",
       "</table>\n",
       "</div>"
      ],
      "text/plain": [
       "   _id ltable_id rtable_id  \\\n",
       "0    0      a322       w32   \n",
       "1    1      a255       w41   \n",
       "2    2      a621       w41   \n",
       "3    3      a648       w41   \n",
       "4    4      a432       w72   \n",
       "\n",
       "                                                                                          ltable_combo  \\\n",
       "0  lenovo flex 5 2-in-1 laptop: core i5-8250u 8gb ram 128gb ssd 14-inch full hd touch display windo...   \n",
       "1  asus vivobook flip tp200sa-dh01t 11.6 inch display thin and lightweight 2-in-1 hd touchscreen la...   \n",
       "2  asus vivobook flip 14 tp401ca-dhm6t 14” thin and lightweight 2-in-1 hd touchscreen laptop intel ...   \n",
       "3  asus transformer book tp200sa-dh01t-bl 11.6 inch display thin and lightweight 2-in-1 full hd tou...   \n",
       "4  dell inspiron 13 2-in-1 laptop: core i7-8550u 256gb ssd 8gb ram 13.3 full hd touch display windo...   \n",
       "\n",
       "                                                                                          rtable_combo  \n",
       "0  lenovo flex 5 2-in-1 laptop: core i5-8250u 8gb ram 128gb ssd 14-inch full hd touch display windo...  \n",
       "1  asus vivobook tp200sa-dh01t-bl 11.6 inch display thin and lightweight 2-in-1 hd touchscreen lapt...  \n",
       "2  asus vivobook tp200sa-dh01t-bl 11.6 inch display thin and lightweight 2-in-1 hd touchscreen lapt...  \n",
       "3  asus vivobook tp200sa-dh01t-bl 11.6 inch display thin and lightweight 2-in-1 hd touchscreen lapt...  \n",
       "4  dell inspiron 13 2-in-1 laptop: core i7-8550u 256gb ssd 8gb ram 13.3 full hd touch display dell ...  "
      ]
     },
     "execution_count": 19,
     "metadata": {},
     "output_type": "execute_result"
    }
   ],
   "source": [
    "C4.head()"
   ]
  },
  {
   "cell_type": "code",
   "execution_count": 20,
   "metadata": {},
   "outputs": [],
   "source": [
    "# s1 = pd.merge(C1, C3, how='inner', on=['ltable_id','rtable_id'], suffixes=('',''))\n",
    "# len(s1)"
   ]
  },
  {
   "cell_type": "code",
   "execution_count": 21,
   "metadata": {},
   "outputs": [],
   "source": [
    "# s1.head()"
   ]
  },
  {
   "cell_type": "code",
   "execution_count": 22,
   "metadata": {},
   "outputs": [
    {
     "data": {
      "text/plain": [
       "8158"
      ]
     },
     "execution_count": 22,
     "metadata": {},
     "output_type": "execute_result"
    }
   ],
   "source": [
    "# Combine blocker outputs\n",
    "C = em.combine_blocker_outputs_via_union([C2,C4])\n",
    "len(C)"
   ]
  },
  {
   "cell_type": "code",
   "execution_count": 23,
   "metadata": {},
   "outputs": [
    {
     "data": {
      "text/html": [
       "<div>\n",
       "<style scoped>\n",
       "    .dataframe tbody tr th:only-of-type {\n",
       "        vertical-align: middle;\n",
       "    }\n",
       "\n",
       "    .dataframe tbody tr th {\n",
       "        vertical-align: top;\n",
       "    }\n",
       "\n",
       "    .dataframe thead th {\n",
       "        text-align: right;\n",
       "    }\n",
       "</style>\n",
       "<table border=\"1\" class=\"dataframe\">\n",
       "  <thead>\n",
       "    <tr style=\"text-align: right;\">\n",
       "      <th></th>\n",
       "      <th>_id</th>\n",
       "      <th>ltable_id</th>\n",
       "      <th>rtable_id</th>\n",
       "      <th>ltable_model</th>\n",
       "      <th>ltable_combo</th>\n",
       "      <th>rtable_model</th>\n",
       "      <th>rtable_combo</th>\n",
       "    </tr>\n",
       "  </thead>\n",
       "  <tbody>\n",
       "    <tr>\n",
       "      <th>0</th>\n",
       "      <td>0</td>\n",
       "      <td>a0</td>\n",
       "      <td>w1389</td>\n",
       "      <td>nh.q28aa.001</td>\n",
       "      <td>acer predator helios 300 gaming laptop 15.6 full hd intel core i7-7700hq cpu 16gb ddr4 ram 256gb...</td>\n",
       "      <td>nh.q1taa.001</td>\n",
       "      <td>refurbished acer 17.3 intel core i7 2.8 ghz 16 gb ram 1 tb hdd + 256 gb ssd windows 10 home acer...</td>\n",
       "    </tr>\n",
       "    <tr>\n",
       "      <th>1</th>\n",
       "      <td>1</td>\n",
       "      <td>a0</td>\n",
       "      <td>w1396</td>\n",
       "      <td>nh.q28aa.001</td>\n",
       "      <td>acer predator helios 300 gaming laptop 15.6 full hd intel core i7-7700hq cpu 16gb ddr4 ram 256gb...</td>\n",
       "      <td>nh.q1aaa.001</td>\n",
       "      <td>manufacturer refurbished acer predator g9-793-79pe 17.3 intel core i7-6700hq 2.6 ghz 16gb ram 1t...</td>\n",
       "    </tr>\n",
       "    <tr>\n",
       "      <th>2</th>\n",
       "      <td>2</td>\n",
       "      <td>a0</td>\n",
       "      <td>w1504</td>\n",
       "      <td>nh.q28aa.001</td>\n",
       "      <td>acer predator helios 300 gaming laptop 15.6 full hd intel core i7-7700hq cpu 16gb ddr4 ram 256gb...</td>\n",
       "      <td>nh.q1faa.001</td>\n",
       "      <td>refurbished acer 17.3 intel core i7 2.9 ghz 32 gb ram 1 tb hdd + 512 gb ssd windows 10 home acer...</td>\n",
       "    </tr>\n",
       "    <tr>\n",
       "      <th>3</th>\n",
       "      <td>3</td>\n",
       "      <td>a0</td>\n",
       "      <td>w1516</td>\n",
       "      <td>nh.q28aa.001</td>\n",
       "      <td>acer predator helios 300 gaming laptop 15.6 full hd intel core i7-7700hq cpu 16gb ddr4 ram 256gb...</td>\n",
       "      <td>nh.q1eaa.001</td>\n",
       "      <td>refurbished acer 17.3 intel core i7 2.9 ghz 32 gb ram 1 tb hdd + 512 gb ssd windows 10 home acer...</td>\n",
       "    </tr>\n",
       "    <tr>\n",
       "      <th>4</th>\n",
       "      <td>4</td>\n",
       "      <td>a0</td>\n",
       "      <td>w1661</td>\n",
       "      <td>nh.q28aa.001</td>\n",
       "      <td>acer predator helios 300 gaming laptop 15.6 full hd intel core i7-7700hq cpu 16gb ddr4 ram 256gb...</td>\n",
       "      <td>nh.q13aa.001</td>\n",
       "      <td>refurbished acer 17.3 intel core i7 2.7 ghz 32 gb ram 1 tb hdd windows 10 home|gx-791-758v acer ...</td>\n",
       "    </tr>\n",
       "  </tbody>\n",
       "</table>\n",
       "</div>"
      ],
      "text/plain": [
       "   _id ltable_id rtable_id  ltable_model  \\\n",
       "0    0        a0     w1389  nh.q28aa.001   \n",
       "1    1        a0     w1396  nh.q28aa.001   \n",
       "2    2        a0     w1504  nh.q28aa.001   \n",
       "3    3        a0     w1516  nh.q28aa.001   \n",
       "4    4        a0     w1661  nh.q28aa.001   \n",
       "\n",
       "                                                                                          ltable_combo  \\\n",
       "0  acer predator helios 300 gaming laptop 15.6 full hd intel core i7-7700hq cpu 16gb ddr4 ram 256gb...   \n",
       "1  acer predator helios 300 gaming laptop 15.6 full hd intel core i7-7700hq cpu 16gb ddr4 ram 256gb...   \n",
       "2  acer predator helios 300 gaming laptop 15.6 full hd intel core i7-7700hq cpu 16gb ddr4 ram 256gb...   \n",
       "3  acer predator helios 300 gaming laptop 15.6 full hd intel core i7-7700hq cpu 16gb ddr4 ram 256gb...   \n",
       "4  acer predator helios 300 gaming laptop 15.6 full hd intel core i7-7700hq cpu 16gb ddr4 ram 256gb...   \n",
       "\n",
       "   rtable_model  \\\n",
       "0  nh.q1taa.001   \n",
       "1  nh.q1aaa.001   \n",
       "2  nh.q1faa.001   \n",
       "3  nh.q1eaa.001   \n",
       "4  nh.q13aa.001   \n",
       "\n",
       "                                                                                          rtable_combo  \n",
       "0  refurbished acer 17.3 intel core i7 2.8 ghz 16 gb ram 1 tb hdd + 256 gb ssd windows 10 home acer...  \n",
       "1  manufacturer refurbished acer predator g9-793-79pe 17.3 intel core i7-6700hq 2.6 ghz 16gb ram 1t...  \n",
       "2  refurbished acer 17.3 intel core i7 2.9 ghz 32 gb ram 1 tb hdd + 512 gb ssd windows 10 home acer...  \n",
       "3  refurbished acer 17.3 intel core i7 2.9 ghz 32 gb ram 1 tb hdd + 512 gb ssd windows 10 home acer...  \n",
       "4  refurbished acer 17.3 intel core i7 2.7 ghz 32 gb ram 1 tb hdd windows 10 home|gx-791-758v acer ...  "
      ]
     },
     "execution_count": 23,
     "metadata": {},
     "output_type": "execute_result"
    }
   ],
   "source": [
    "C.head()"
   ]
  },
  {
   "cell_type": "markdown",
   "metadata": {},
   "source": [
    "We observe that the number of tuple pairs considered for matching is increased to 12530 (from 10165). Now let us debug the blocker output again to check if the current blocker sequence is dropping any potential matches."
   ]
  },
  {
   "cell_type": "code",
   "execution_count": 24,
   "metadata": {},
   "outputs": [],
   "source": [
    "# Debug again\n",
    "#dbg = em.debug_blocker(C, A, B, output_size=10)"
   ]
  },
  {
   "cell_type": "code",
   "execution_count": 25,
   "metadata": {
    "scrolled": false
   },
   "outputs": [],
   "source": [
    "#dbg[['ltable_combo','rtable_combo']].to_csv('dbg.csv')\n"
   ]
  },
  {
   "cell_type": "markdown",
   "metadata": {},
   "source": [
    "We observe that the current blocker sequence does not drop obvious potential matches, and we can proceed with the matching step now. A subtle point to note here is, debugging blocker output practically provides a stopping criteria for modifying the blocker sequence.\n"
   ]
  },
  {
   "cell_type": "markdown",
   "metadata": {},
   "source": [
    "# Matching tuple pairs in the candidate set"
   ]
  },
  {
   "cell_type": "markdown",
   "metadata": {},
   "source": [
    "In this step, we would want to match the tuple pairs in the candidate set. Specifically, we use learning-based method for matching purposes.\n",
    "This typically involves the following five steps:\n",
    "1. Sampling and labeling the candidate set\n",
    "2. Splitting the labeled data into development and evaluation set\n",
    "3. Selecting the best learning based matcher using the development set\n",
    "4. Evaluating the selected matcher using the evaluation set"
   ]
  },
  {
   "cell_type": "markdown",
   "metadata": {},
   "source": [
    "## Sampling and labeling the candidate set"
   ]
  },
  {
   "cell_type": "markdown",
   "metadata": {},
   "source": [
    "First, we randomly sample 450 tuple pairs for labeling purposes."
   ]
  },
  {
   "cell_type": "code",
   "execution_count": null,
   "metadata": {},
   "outputs": [],
   "source": []
  },
  {
   "cell_type": "code",
   "execution_count": 26,
   "metadata": {},
   "outputs": [],
   "source": [
    "# Sample  candidate set\n",
    "# S = em.sample_table(C, 300)\n",
    "# em.to_csv_metadata(S, '/home/liang/Workspace/cs839-project/stage-3/s.csv')\n",
    "#S.head()"
   ]
  },
  {
   "cell_type": "markdown",
   "metadata": {},
   "source": [
    "Next, we label the sampled candidate set. Specify we would enter 1 for a match and 0 for a non-match."
   ]
  },
  {
   "cell_type": "code",
   "execution_count": 27,
   "metadata": {},
   "outputs": [],
   "source": [
    "# Label S\n",
    "# G = em.label_table(S, 'match')"
   ]
  },
  {
   "cell_type": "markdown",
   "metadata": {},
   "source": [
    "For the purposes of this guide, we will load in a pre-labeled dataset (of 450 tuple pairs) included in this package."
   ]
  },
  {
   "cell_type": "code",
   "execution_count": 28,
   "metadata": {},
   "outputs": [
    {
     "data": {
      "text/plain": [
       "300"
      ]
     },
     "execution_count": 28,
     "metadata": {},
     "output_type": "execute_result"
    }
   ],
   "source": [
    "# # Load the pre-labeled data\n",
    "path_G = '/home/liang/Workspace/cs839-project/stage-3/s1.csv'\n",
    "G = em.read_csv_metadata(path_G, \n",
    "                         key='_id',\n",
    "                         ltable=A, rtable=B, \n",
    "                         fk_ltable='ltable_id', fk_rtable='rtable_id')\n",
    "len(G)"
   ]
  },
  {
   "cell_type": "markdown",
   "metadata": {},
   "source": [
    "## Splitting the labeled data into development and evaluation set"
   ]
  },
  {
   "cell_type": "markdown",
   "metadata": {},
   "source": [
    "In this step, we split the labeled data into two sets: development (I) and evaluation (J). Specifically, the development set is used to come up with the best learning-based matcher and the evaluation set used to evaluate the selected matcher on unseen data."
   ]
  },
  {
   "cell_type": "code",
   "execution_count": 29,
   "metadata": {},
   "outputs": [],
   "source": [
    "# Split S into development set (I) and evaluation set (J)\n",
    "IJ = em.split_train_test(G, train_proportion=0.7, random_state=0)\n",
    "I = IJ['train']\n",
    "J = IJ['test']"
   ]
  },
  {
   "cell_type": "code",
   "execution_count": 30,
   "metadata": {},
   "outputs": [
    {
     "data": {
      "text/html": [
       "<div>\n",
       "<style scoped>\n",
       "    .dataframe tbody tr th:only-of-type {\n",
       "        vertical-align: middle;\n",
       "    }\n",
       "\n",
       "    .dataframe tbody tr th {\n",
       "        vertical-align: top;\n",
       "    }\n",
       "\n",
       "    .dataframe thead th {\n",
       "        text-align: right;\n",
       "    }\n",
       "</style>\n",
       "<table border=\"1\" class=\"dataframe\">\n",
       "  <thead>\n",
       "    <tr style=\"text-align: right;\">\n",
       "      <th></th>\n",
       "      <th>Unnamed: 0</th>\n",
       "      <th>_id</th>\n",
       "      <th>ltable_id</th>\n",
       "      <th>rtable_id</th>\n",
       "      <th>ltable_model</th>\n",
       "      <th>ltable_combo</th>\n",
       "      <th>rtable_model</th>\n",
       "      <th>rtable_combo</th>\n",
       "      <th>match</th>\n",
       "    </tr>\n",
       "  </thead>\n",
       "  <tbody>\n",
       "    <tr>\n",
       "      <th>0</th>\n",
       "      <td>27</td>\n",
       "      <td>27</td>\n",
       "      <td>a1011</td>\n",
       "      <td>w685</td>\n",
       "      <td>t8tjg</td>\n",
       "      <td>2018 flagship lenovo thinkpad 11e (4h generation) 11.6 notebook intel i3-7100u 128gb m.2 ssd 4gb...</td>\n",
       "      <td>t8tjg</td>\n",
       "      <td>dell chromebook 11 3189 - 11.6 - celeron n3060 - 4 gb ram - 64 gb ssd dell t8tjg chrome os</td>\n",
       "      <td>0</td>\n",
       "    </tr>\n",
       "    <tr>\n",
       "      <th>1</th>\n",
       "      <td>63</td>\n",
       "      <td>63</td>\n",
       "      <td>a1044</td>\n",
       "      <td>w915</td>\n",
       "      <td>80xb000bus</td>\n",
       "      <td>lenovo flex 5 15.6 full hd touch multimode 2-in-1 notebook computer intel core i7-7500u 16gb ram...</td>\n",
       "      <td>80ys000bus</td>\n",
       "      <td>topseller n23 n3060 1.60g 4gb 32gb 11.6in hd display chrome lenovo 80ys000bus chrome os</td>\n",
       "      <td>0</td>\n",
       "    </tr>\n",
       "    <tr>\n",
       "      <th>2</th>\n",
       "      <td>99</td>\n",
       "      <td>99</td>\n",
       "      <td>a1047</td>\n",
       "      <td>w1550</td>\n",
       "      <td>n850hp6</td>\n",
       "      <td>prostar clevo gaming laptop n850hp6 15.6” fhd ips (1920x1080) led matte type display intel core ...</td>\n",
       "      <td>n850hk1</td>\n",
       "      <td>prostar clevo gaming laptop n850hk1 15.6” fhd ips (1920x1080) matte type display intel core i7-7...</td>\n",
       "      <td>1</td>\n",
       "    </tr>\n",
       "  </tbody>\n",
       "</table>\n",
       "</div>"
      ],
      "text/plain": [
       "   Unnamed: 0  _id ltable_id rtable_id ltable_model  \\\n",
       "0          27   27     a1011      w685        t8tjg   \n",
       "1          63   63     a1044      w915   80xb000bus   \n",
       "2          99   99     a1047     w1550      n850hp6   \n",
       "\n",
       "                                                                                          ltable_combo  \\\n",
       "0  2018 flagship lenovo thinkpad 11e (4h generation) 11.6 notebook intel i3-7100u 128gb m.2 ssd 4gb...   \n",
       "1  lenovo flex 5 15.6 full hd touch multimode 2-in-1 notebook computer intel core i7-7500u 16gb ram...   \n",
       "2  prostar clevo gaming laptop n850hp6 15.6” fhd ips (1920x1080) led matte type display intel core ...   \n",
       "\n",
       "  rtable_model  \\\n",
       "0        t8tjg   \n",
       "1   80ys000bus   \n",
       "2      n850hk1   \n",
       "\n",
       "                                                                                          rtable_combo  \\\n",
       "0           dell chromebook 11 3189 - 11.6 - celeron n3060 - 4 gb ram - 64 gb ssd dell t8tjg chrome os   \n",
       "1              topseller n23 n3060 1.60g 4gb 32gb 11.6in hd display chrome lenovo 80ys000bus chrome os   \n",
       "2  prostar clevo gaming laptop n850hk1 15.6” fhd ips (1920x1080) matte type display intel core i7-7...   \n",
       "\n",
       "   match  \n",
       "0      0  \n",
       "1      0  \n",
       "2      1  "
      ]
     },
     "execution_count": 30,
     "metadata": {},
     "output_type": "execute_result"
    }
   ],
   "source": [
    "G.head(3)\n"
   ]
  },
  {
   "cell_type": "markdown",
   "metadata": {},
   "source": [
    "## Selecting the best learning-based matcher "
   ]
  },
  {
   "cell_type": "markdown",
   "metadata": {},
   "source": [
    "Selecting the best learning-based matcher typically involves the following steps:\n",
    "\n",
    "1. Creating a set of learning-based matchers\n",
    "2. Creating features\n",
    "3. Converting the development set into feature vectors\n",
    "4. Selecting the best learning-based matcher using k-fold cross validation"
   ]
  },
  {
   "cell_type": "markdown",
   "metadata": {},
   "source": [
    "### Creating a set of learning-based matchers"
   ]
  },
  {
   "cell_type": "code",
   "execution_count": 31,
   "metadata": {},
   "outputs": [],
   "source": [
    "# Create a set of ML-matchers\n",
    "dt = em.DTMatcher(name='DecisionTree', random_state=0)\n",
    "svm = em.SVMMatcher(name='SVM', random_state=0)\n",
    "rf = em.RFMatcher(name='RF', random_state=0)\n",
    "lg = em.LogRegMatcher(name='LogReg', random_state=0)\n",
    "ln = em.LinRegMatcher(name='LinReg')\n",
    "nb = em.NBMatcher(name='NaiveBayes')"
   ]
  },
  {
   "cell_type": "markdown",
   "metadata": {},
   "source": [
    "### Creating features"
   ]
  },
  {
   "cell_type": "markdown",
   "metadata": {},
   "source": [
    "Next, we need to create a set of features for the development set. *py_entitymatching* provides a way to automatically generate features based on the attributes in the input tables. For the purposes of this guide, we use the automatically generated features."
   ]
  },
  {
   "cell_type": "code",
   "execution_count": 32,
   "metadata": {},
   "outputs": [],
   "source": [
    "match_t = em.get_tokenizers_for_matching()\n",
    "match_s = em.get_sim_funs_for_matching()\n",
    "atypes1 = em.get_attr_types(A) # don't need, if atypes1 exists from blocking step\n",
    "atypes2 = em.get_attr_types(B) # don't need, if atypes2 exists from blocking step\n",
    "match_c = em.get_attr_corres(A, B)\n",
    "feature_table = em.get_features(A, B, atypes1, atypes2, match_c, match_t, match_s)"
   ]
  },
  {
   "cell_type": "code",
   "execution_count": 33,
   "metadata": {},
   "outputs": [],
   "source": [
    "# Generate features\n",
    "# feature_table = em.get_features_for_matching(A, B, validate_inferred_attr_types=True)\n",
    "# feature_table = em.get_features(A, B, \n",
    "#                                 em.get_attr_types(A), em.get_attr_types(B), \n",
    "#                                 attr_corres, \n",
    "#                                 tok_funcs, \n",
    "#                                 sim_funcs)"
   ]
  },
  {
   "cell_type": "code",
   "execution_count": 34,
   "metadata": {},
   "outputs": [
    {
     "data": {
      "text/plain": [
       "0                                            id_id_lev_dist\n",
       "1                                             id_id_lev_sim\n",
       "2                                                 id_id_jar\n",
       "3                                                 id_id_jwn\n",
       "4                                                 id_id_exm\n",
       "5                                     id_id_jac_qgm_3_qgm_3\n",
       "6               product_title_product_title_jac_qgm_3_qgm_3\n",
       "7           product_title_product_title_cos_dlm_dc0_dlm_dc0\n",
       "8                               brand_brand_jac_qgm_3_qgm_3\n",
       "9                           brand_brand_cos_dlm_dc0_dlm_dc0\n",
       "10                          brand_brand_jac_dlm_dc0_dlm_dc0\n",
       "11                                          brand_brand_mel\n",
       "12                                     brand_brand_lev_dist\n",
       "13                                      brand_brand_lev_sim\n",
       "14                                          brand_brand_nmw\n",
       "15                                           brand_brand_sw\n",
       "16                              model_model_jac_qgm_3_qgm_3\n",
       "17                          model_model_cos_dlm_dc0_dlm_dc0\n",
       "18                          model_model_jac_dlm_dc0_dlm_dc0\n",
       "19                                          model_model_mel\n",
       "20                                     model_model_lev_dist\n",
       "21                                      model_model_lev_sim\n",
       "22                                          model_model_nmw\n",
       "23                                           model_model_sw\n",
       "24        operating_system_operating_system_jac_qgm_3_qgm_3\n",
       "25    operating_system_operating_system_cos_dlm_dc0_dlm_dc0\n",
       "26    operating_system_operating_system_jac_dlm_dc0_dlm_dc0\n",
       "27                    operating_system_operating_system_mel\n",
       "28               operating_system_operating_system_lev_dist\n",
       "29                operating_system_operating_system_lev_sim\n",
       "30                    operating_system_operating_system_nmw\n",
       "31                     operating_system_operating_system_sw\n",
       "32                              combo_combo_jac_qgm_3_qgm_3\n",
       "33                          combo_combo_cos_dlm_dc0_dlm_dc0\n",
       "Name: feature_name, dtype: object"
      ]
     },
     "execution_count": 34,
     "metadata": {},
     "output_type": "execute_result"
    }
   ],
   "source": [
    "# List the names of the features generated\n",
    "feature_table['feature_name']"
   ]
  },
  {
   "cell_type": "markdown",
   "metadata": {},
   "source": [
    "### Converting the development set to feature vectors"
   ]
  },
  {
   "cell_type": "code",
   "execution_count": 35,
   "metadata": {},
   "outputs": [],
   "source": [
    "# Convert the I into a set of feature vectors using F\n",
    "H = em.extract_feature_vecs(I, \n",
    "                            feature_table=feature_table, \n",
    "                            attrs_after='match',\n",
    "                            show_progress=False)\n",
    "# em.to_csv_metadata(H,'h.csv')"
   ]
  },
  {
   "cell_type": "code",
   "execution_count": 36,
   "metadata": {},
   "outputs": [
    {
     "data": {
      "text/html": [
       "<div>\n",
       "<style scoped>\n",
       "    .dataframe tbody tr th:only-of-type {\n",
       "        vertical-align: middle;\n",
       "    }\n",
       "\n",
       "    .dataframe tbody tr th {\n",
       "        vertical-align: top;\n",
       "    }\n",
       "\n",
       "    .dataframe thead th {\n",
       "        text-align: right;\n",
       "    }\n",
       "</style>\n",
       "<table border=\"1\" class=\"dataframe\">\n",
       "  <thead>\n",
       "    <tr style=\"text-align: right;\">\n",
       "      <th></th>\n",
       "      <th>_id</th>\n",
       "      <th>ltable_id</th>\n",
       "      <th>rtable_id</th>\n",
       "      <th>id_id_lev_dist</th>\n",
       "      <th>id_id_lev_sim</th>\n",
       "      <th>id_id_jar</th>\n",
       "      <th>id_id_jwn</th>\n",
       "      <th>id_id_exm</th>\n",
       "      <th>id_id_jac_qgm_3_qgm_3</th>\n",
       "      <th>product_title_product_title_jac_qgm_3_qgm_3</th>\n",
       "      <th>...</th>\n",
       "      <th>operating_system_operating_system_cos_dlm_dc0_dlm_dc0</th>\n",
       "      <th>operating_system_operating_system_jac_dlm_dc0_dlm_dc0</th>\n",
       "      <th>operating_system_operating_system_mel</th>\n",
       "      <th>operating_system_operating_system_lev_dist</th>\n",
       "      <th>operating_system_operating_system_lev_sim</th>\n",
       "      <th>operating_system_operating_system_nmw</th>\n",
       "      <th>operating_system_operating_system_sw</th>\n",
       "      <th>combo_combo_jac_qgm_3_qgm_3</th>\n",
       "      <th>combo_combo_cos_dlm_dc0_dlm_dc0</th>\n",
       "      <th>match</th>\n",
       "    </tr>\n",
       "  </thead>\n",
       "  <tbody>\n",
       "    <tr>\n",
       "      <th>282</th>\n",
       "      <td>7036</td>\n",
       "      <td>a888</td>\n",
       "      <td>w3248</td>\n",
       "      <td>4</td>\n",
       "      <td>0.2</td>\n",
       "      <td>0.483333</td>\n",
       "      <td>0.483333</td>\n",
       "      <td>0</td>\n",
       "      <td>0.083333</td>\n",
       "      <td>0.504237</td>\n",
       "      <td>...</td>\n",
       "      <td>0.408248</td>\n",
       "      <td>0.25</td>\n",
       "      <td>0.892063</td>\n",
       "      <td>6.0</td>\n",
       "      <td>0.571429</td>\n",
       "      <td>3.0</td>\n",
       "      <td>8.0</td>\n",
       "      <td>0.506224</td>\n",
       "      <td>0.678064</td>\n",
       "      <td>0</td>\n",
       "    </tr>\n",
       "    <tr>\n",
       "      <th>44</th>\n",
       "      <td>1158</td>\n",
       "      <td>a1347</td>\n",
       "      <td>w3193</td>\n",
       "      <td>5</td>\n",
       "      <td>0.0</td>\n",
       "      <td>0.433333</td>\n",
       "      <td>0.433333</td>\n",
       "      <td>0</td>\n",
       "      <td>0.000000</td>\n",
       "      <td>0.607656</td>\n",
       "      <td>...</td>\n",
       "      <td>0.408248</td>\n",
       "      <td>0.25</td>\n",
       "      <td>0.892063</td>\n",
       "      <td>6.0</td>\n",
       "      <td>0.571429</td>\n",
       "      <td>3.0</td>\n",
       "      <td>8.0</td>\n",
       "      <td>0.600000</td>\n",
       "      <td>0.714742</td>\n",
       "      <td>1</td>\n",
       "    </tr>\n",
       "    <tr>\n",
       "      <th>272</th>\n",
       "      <td>6861</td>\n",
       "      <td>a816</td>\n",
       "      <td>w3647</td>\n",
       "      <td>5</td>\n",
       "      <td>0.0</td>\n",
       "      <td>0.483333</td>\n",
       "      <td>0.483333</td>\n",
       "      <td>0</td>\n",
       "      <td>0.000000</td>\n",
       "      <td>0.266667</td>\n",
       "      <td>...</td>\n",
       "      <td>0.666667</td>\n",
       "      <td>0.50</td>\n",
       "      <td>0.648810</td>\n",
       "      <td>12.0</td>\n",
       "      <td>0.142857</td>\n",
       "      <td>-4.0</td>\n",
       "      <td>4.0</td>\n",
       "      <td>0.236842</td>\n",
       "      <td>0.426401</td>\n",
       "      <td>1</td>\n",
       "    </tr>\n",
       "  </tbody>\n",
       "</table>\n",
       "<p>3 rows × 38 columns</p>\n",
       "</div>"
      ],
      "text/plain": [
       "      _id ltable_id rtable_id  id_id_lev_dist  id_id_lev_sim  id_id_jar  \\\n",
       "282  7036      a888     w3248               4            0.2   0.483333   \n",
       "44   1158     a1347     w3193               5            0.0   0.433333   \n",
       "272  6861      a816     w3647               5            0.0   0.483333   \n",
       "\n",
       "     id_id_jwn  id_id_exm  id_id_jac_qgm_3_qgm_3  \\\n",
       "282   0.483333          0               0.083333   \n",
       "44    0.433333          0               0.000000   \n",
       "272   0.483333          0               0.000000   \n",
       "\n",
       "     product_title_product_title_jac_qgm_3_qgm_3  ...    \\\n",
       "282                                     0.504237  ...     \n",
       "44                                      0.607656  ...     \n",
       "272                                     0.266667  ...     \n",
       "\n",
       "     operating_system_operating_system_cos_dlm_dc0_dlm_dc0  \\\n",
       "282                                               0.408248   \n",
       "44                                                0.408248   \n",
       "272                                               0.666667   \n",
       "\n",
       "     operating_system_operating_system_jac_dlm_dc0_dlm_dc0  \\\n",
       "282                                                   0.25   \n",
       "44                                                    0.25   \n",
       "272                                                   0.50   \n",
       "\n",
       "     operating_system_operating_system_mel  \\\n",
       "282                               0.892063   \n",
       "44                                0.892063   \n",
       "272                               0.648810   \n",
       "\n",
       "     operating_system_operating_system_lev_dist  \\\n",
       "282                                         6.0   \n",
       "44                                          6.0   \n",
       "272                                        12.0   \n",
       "\n",
       "     operating_system_operating_system_lev_sim  \\\n",
       "282                                   0.571429   \n",
       "44                                    0.571429   \n",
       "272                                   0.142857   \n",
       "\n",
       "     operating_system_operating_system_nmw  \\\n",
       "282                                    3.0   \n",
       "44                                     3.0   \n",
       "272                                   -4.0   \n",
       "\n",
       "     operating_system_operating_system_sw  combo_combo_jac_qgm_3_qgm_3  \\\n",
       "282                                   8.0                     0.506224   \n",
       "44                                    8.0                     0.600000   \n",
       "272                                   4.0                     0.236842   \n",
       "\n",
       "     combo_combo_cos_dlm_dc0_dlm_dc0  match  \n",
       "282                         0.678064      0  \n",
       "44                          0.714742      1  \n",
       "272                         0.426401      1  \n",
       "\n",
       "[3 rows x 38 columns]"
      ]
     },
     "execution_count": 36,
     "metadata": {},
     "output_type": "execute_result"
    }
   ],
   "source": [
    "# Display first few rows\n",
    "# H = em.read_csv_metadata('h.csv', \n",
    "#                          key='_id',\n",
    "#                          ltable=A, rtable=B, \n",
    "#                          fk_ltable='ltable_id', fk_rtable='rtable_id')\n",
    "H.fillna(0, inplace=True)\n",
    "H.head(3)"
   ]
  },
  {
   "cell_type": "markdown",
   "metadata": {},
   "source": [
    "### Selecting the best matcher using cross-validation"
   ]
  },
  {
   "cell_type": "markdown",
   "metadata": {},
   "source": [
    "Now, we select the best matcher using k-fold cross-validation. For the purposes of this guide, we use five fold cross validation and use 'precision' and 'recall' metric to select the best matcher."
   ]
  },
  {
   "cell_type": "code",
   "execution_count": 37,
   "metadata": {
    "scrolled": true
   },
   "outputs": [
    {
     "data": {
      "text/html": [
       "<div>\n",
       "<style scoped>\n",
       "    .dataframe tbody tr th:only-of-type {\n",
       "        vertical-align: middle;\n",
       "    }\n",
       "\n",
       "    .dataframe tbody tr th {\n",
       "        vertical-align: top;\n",
       "    }\n",
       "\n",
       "    .dataframe thead th {\n",
       "        text-align: right;\n",
       "    }\n",
       "</style>\n",
       "<table border=\"1\" class=\"dataframe\">\n",
       "  <thead>\n",
       "    <tr style=\"text-align: right;\">\n",
       "      <th></th>\n",
       "      <th>Matcher</th>\n",
       "      <th>Average precision</th>\n",
       "      <th>Average recall</th>\n",
       "      <th>Average f1</th>\n",
       "    </tr>\n",
       "  </thead>\n",
       "  <tbody>\n",
       "    <tr>\n",
       "      <th>0</th>\n",
       "      <td>DecisionTree</td>\n",
       "      <td>0.913298</td>\n",
       "      <td>0.872038</td>\n",
       "      <td>0.890183</td>\n",
       "    </tr>\n",
       "    <tr>\n",
       "      <th>1</th>\n",
       "      <td>RF</td>\n",
       "      <td>0.912697</td>\n",
       "      <td>0.893897</td>\n",
       "      <td>0.902237</td>\n",
       "    </tr>\n",
       "    <tr>\n",
       "      <th>2</th>\n",
       "      <td>SVM</td>\n",
       "      <td>0.781989</td>\n",
       "      <td>0.941075</td>\n",
       "      <td>0.850426</td>\n",
       "    </tr>\n",
       "    <tr>\n",
       "      <th>3</th>\n",
       "      <td>LinReg</td>\n",
       "      <td>0.835312</td>\n",
       "      <td>0.860320</td>\n",
       "      <td>0.845554</td>\n",
       "    </tr>\n",
       "    <tr>\n",
       "      <th>4</th>\n",
       "      <td>LogReg</td>\n",
       "      <td>0.841853</td>\n",
       "      <td>0.932401</td>\n",
       "      <td>0.882235</td>\n",
       "    </tr>\n",
       "    <tr>\n",
       "      <th>5</th>\n",
       "      <td>NaiveBayes</td>\n",
       "      <td>0.812980</td>\n",
       "      <td>0.792736</td>\n",
       "      <td>0.799680</td>\n",
       "    </tr>\n",
       "  </tbody>\n",
       "</table>\n",
       "</div>"
      ],
      "text/plain": [
       "        Matcher  Average precision  Average recall  Average f1\n",
       "0  DecisionTree           0.913298        0.872038    0.890183\n",
       "1            RF           0.912697        0.893897    0.902237\n",
       "2           SVM           0.781989        0.941075    0.850426\n",
       "3        LinReg           0.835312        0.860320    0.845554\n",
       "4        LogReg           0.841853        0.932401    0.882235\n",
       "5    NaiveBayes           0.812980        0.792736    0.799680"
      ]
     },
     "execution_count": 37,
     "metadata": {},
     "output_type": "execute_result"
    }
   ],
   "source": [
    "# Select the best ML matcher using CV\n",
    "result = em.select_matcher([dt, rf, svm, ln, lg, nb], table=H, \n",
    "        exclude_attrs=['_id', 'ltable_id', 'rtable_id', 'match'],\n",
    "        k=5,\n",
    "        target_attr='match', metric_to_select_matcher='f1', random_state=0)\n",
    "result['cv_stats']"
   ]
  },
  {
   "cell_type": "markdown",
   "metadata": {},
   "source": [
    "### Debugging matcher"
   ]
  },
  {
   "cell_type": "markdown",
   "metadata": {},
   "source": [
    "We observe that the best matcher is not maximizing F1. We debug the matcher to see what might be wrong.\n",
    "To do this, first we split the feature vectors into train and test."
   ]
  },
  {
   "cell_type": "code",
   "execution_count": 38,
   "metadata": {},
   "outputs": [],
   "source": [
    "#  Split feature vectors into train and test\n",
    "UV = em.split_train_test(H, train_proportion=0.5)\n",
    "U = UV['train']\n",
    "V = UV['test']"
   ]
  },
  {
   "cell_type": "markdown",
   "metadata": {},
   "source": [
    "Next, we debug the matcher using GUI. For the purposes of this guide, we use random forest matcher for debugging purposes."
   ]
  },
  {
   "cell_type": "code",
   "execution_count": 39,
   "metadata": {},
   "outputs": [],
   "source": [
    "# Debug rf using GUI\n",
    "# em.vis_debug_rf(rf, U, V, \n",
    "#         exclude_attrs=['_id', 'ltable_id', 'rtable_id', 'match'],\n",
    "#         target_attr='match')"
   ]
  },
  {
   "cell_type": "markdown",
   "metadata": {},
   "source": [
    "From the GUI, we observe that phone numbers seem to be an important attribute, but they are in different format. Current features does not capture and adding a feature incorporating this difference in format can potentially improve \n",
    "the F1 numbers."
   ]
  },
  {
   "cell_type": "code",
   "execution_count": 40,
   "metadata": {},
   "outputs": [],
   "source": [
    "# def phone_phone_feature(ltuple, rtuple):\n",
    "#     p1 = ltuple.phone\n",
    "#     p2 = rtuple.phone\n",
    "#     p1 = p1.replace('/','-')\n",
    "#     p1 = p1.replace(' ','')\n",
    "#     p2 = p2.replace('/','-')\n",
    "#     p2 = p2.replace(' ','')    \n",
    "#     if p1 == p2:\n",
    "#         return 1.0\n",
    "#     else:\n",
    "#         return 0.0"
   ]
  },
  {
   "cell_type": "code",
   "execution_count": 41,
   "metadata": {},
   "outputs": [],
   "source": [
    "# feature_table = em.get_features_for_matching(A, B)\n",
    "# em.add_blackbox_feature(feature_table, 'phone_phone_feature', phone_phone_feature)"
   ]
  },
  {
   "cell_type": "markdown",
   "metadata": {},
   "source": [
    "Now, we repeat extracting feature vectors (this time with updated feature table), imputing table and selecting the best matcher again using cross-validation."
   ]
  },
  {
   "cell_type": "code",
   "execution_count": 42,
   "metadata": {},
   "outputs": [],
   "source": [
    "H = em.extract_feature_vecs(I, feature_table=feature_table, attrs_after='match', show_progress=False)\n",
    "H.fillna(0, inplace=True)"
   ]
  },
  {
   "cell_type": "code",
   "execution_count": 43,
   "metadata": {},
   "outputs": [
    {
     "data": {
      "text/html": [
       "<div>\n",
       "<style scoped>\n",
       "    .dataframe tbody tr th:only-of-type {\n",
       "        vertical-align: middle;\n",
       "    }\n",
       "\n",
       "    .dataframe tbody tr th {\n",
       "        vertical-align: top;\n",
       "    }\n",
       "\n",
       "    .dataframe thead th {\n",
       "        text-align: right;\n",
       "    }\n",
       "</style>\n",
       "<table border=\"1\" class=\"dataframe\">\n",
       "  <thead>\n",
       "    <tr style=\"text-align: right;\">\n",
       "      <th></th>\n",
       "      <th>Matcher</th>\n",
       "      <th>Average precision</th>\n",
       "      <th>Average recall</th>\n",
       "      <th>Average f1</th>\n",
       "    </tr>\n",
       "  </thead>\n",
       "  <tbody>\n",
       "    <tr>\n",
       "      <th>0</th>\n",
       "      <td>DecisionTree</td>\n",
       "      <td>0.913298</td>\n",
       "      <td>0.872038</td>\n",
       "      <td>0.890183</td>\n",
       "    </tr>\n",
       "    <tr>\n",
       "      <th>1</th>\n",
       "      <td>RF</td>\n",
       "      <td>0.912697</td>\n",
       "      <td>0.893897</td>\n",
       "      <td>0.902237</td>\n",
       "    </tr>\n",
       "    <tr>\n",
       "      <th>2</th>\n",
       "      <td>SVM</td>\n",
       "      <td>0.781989</td>\n",
       "      <td>0.941075</td>\n",
       "      <td>0.850426</td>\n",
       "    </tr>\n",
       "    <tr>\n",
       "      <th>3</th>\n",
       "      <td>LinReg</td>\n",
       "      <td>0.835312</td>\n",
       "      <td>0.860320</td>\n",
       "      <td>0.845554</td>\n",
       "    </tr>\n",
       "    <tr>\n",
       "      <th>4</th>\n",
       "      <td>LogReg</td>\n",
       "      <td>0.841853</td>\n",
       "      <td>0.932401</td>\n",
       "      <td>0.882235</td>\n",
       "    </tr>\n",
       "    <tr>\n",
       "      <th>5</th>\n",
       "      <td>NaiveBayes</td>\n",
       "      <td>0.812980</td>\n",
       "      <td>0.792736</td>\n",
       "      <td>0.799680</td>\n",
       "    </tr>\n",
       "  </tbody>\n",
       "</table>\n",
       "</div>"
      ],
      "text/plain": [
       "        Matcher  Average precision  Average recall  Average f1\n",
       "0  DecisionTree           0.913298        0.872038    0.890183\n",
       "1            RF           0.912697        0.893897    0.902237\n",
       "2           SVM           0.781989        0.941075    0.850426\n",
       "3        LinReg           0.835312        0.860320    0.845554\n",
       "4        LogReg           0.841853        0.932401    0.882235\n",
       "5    NaiveBayes           0.812980        0.792736    0.799680"
      ]
     },
     "execution_count": 43,
     "metadata": {},
     "output_type": "execute_result"
    }
   ],
   "source": [
    "# Select the best ML matcher using CV\n",
    "result = em.select_matcher([dt, rf, svm, ln, lg, nb], table=H, \n",
    "        exclude_attrs=['_id', 'ltable_id', 'rtable_id', 'match'],\n",
    "        k=5,\n",
    "        target_attr='match', metric_to_select_matcher='precision', random_state=0)\n",
    "result['cv_stats']"
   ]
  },
  {
   "cell_type": "markdown",
   "metadata": {},
   "source": [
    "Now, observe the best matcher is achieving a better F1. Let us stop here and  proceed on to evaluating the best matcher on the unseen data (the evaluation set)."
   ]
  },
  {
   "cell_type": "markdown",
   "metadata": {},
   "source": [
    "##  Evaluating the matching output"
   ]
  },
  {
   "cell_type": "markdown",
   "metadata": {},
   "source": [
    "Evaluating the matching outputs for the evaluation set typically involves the following four steps:\n",
    "1. Converting the evaluation set to feature vectors\n",
    "2. Training matcher using the feature vectors extracted from the development set\n",
    "3. Predicting the evaluation set using the trained matcher\n",
    "4. Evaluating the predicted matches"
   ]
  },
  {
   "cell_type": "markdown",
   "metadata": {},
   "source": [
    "### Converting the evaluation set to  feature vectors"
   ]
  },
  {
   "cell_type": "markdown",
   "metadata": {},
   "source": [
    "As before, we convert to the feature vectors (using the feature table and the evaluation set)"
   ]
  },
  {
   "cell_type": "code",
   "execution_count": null,
   "metadata": {},
   "outputs": [],
   "source": [
    "# Convert J into a set of feature vectors using feature table\n",
    "L = em.extract_feature_vecs(J, feature_table=feature_table,\n",
    "                            attrs_after='match', show_progress=False)"
   ]
  },
  {
   "cell_type": "markdown",
   "metadata": {},
   "source": [
    "### Training the selected matcher"
   ]
  },
  {
   "cell_type": "markdown",
   "metadata": {},
   "source": [
    "Now, we train the matcher using all of the feature vectors from the development set. For the purposes of this guide we use random forest as the selected matcher."
   ]
  },
  {
   "cell_type": "code",
   "execution_count": null,
   "metadata": {},
   "outputs": [],
   "source": [
    "# Train using feature vectors from I \n",
    "rf.fit(table=H, \n",
    "       exclude_attrs=['_id', 'ltable_id', 'rtable_id', 'match'], \n",
    "       target_attr='match')"
   ]
  },
  {
   "cell_type": "markdown",
   "metadata": {},
   "source": [
    "### Predicting the matches"
   ]
  },
  {
   "cell_type": "markdown",
   "metadata": {},
   "source": [
    "Next, we predict the matches for the evaluation set (using the feature vectors extracted from it)."
   ]
  },
  {
   "cell_type": "code",
   "execution_count": null,
   "metadata": {},
   "outputs": [],
   "source": [
    "L.head()\n",
    "L.fillna(0, inplace=True)"
   ]
  },
  {
   "cell_type": "code",
   "execution_count": null,
   "metadata": {},
   "outputs": [],
   "source": [
    "# Predict on L \n",
    "predictions = rf.predict(table=L, exclude_attrs=['_id', 'ltable_id', 'rtable_id', 'match'], \n",
    "              append=True, target_attr='predicted', inplace=False)"
   ]
  },
  {
   "cell_type": "markdown",
   "metadata": {},
   "source": [
    "### Evaluating the predictions"
   ]
  },
  {
   "cell_type": "markdown",
   "metadata": {},
   "source": [
    "Finally, we evaluate the accuracy of predicted outputs"
   ]
  },
  {
   "cell_type": "code",
   "execution_count": null,
   "metadata": {},
   "outputs": [],
   "source": [
    "# Evaluate the predictions\n",
    "eval_result = em.eval_matches(predictions, 'match', 'predicted')\n",
    "em.print_eval_summary(eval_result)"
   ]
  }
 ],
 "metadata": {
  "kernelspec": {
   "display_name": "Python 3",
   "language": "python",
   "name": "python3"
  },
  "language_info": {
   "codemirror_mode": {
    "name": "ipython",
    "version": 3
   },
   "file_extension": ".py",
   "mimetype": "text/x-python",
   "name": "python",
   "nbconvert_exporter": "python",
   "pygments_lexer": "ipython3",
   "version": "3.6.5"
  }
 },
 "nbformat": 4,
 "nbformat_minor": 1
}
